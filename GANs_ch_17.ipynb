{
  "nbformat": 4,
  "nbformat_minor": 0,
  "metadata": {
    "colab": {
      "name": "GANs_ch-17.ipynb",
      "provenance": [],
      "collapsed_sections": [],
      "authorship_tag": "ABX9TyNyNBMGuz1vK7vcCZQahpXC",
      "include_colab_link": true
    },
    "kernelspec": {
      "name": "python3",
      "display_name": "Python 3"
    },
    "language_info": {
      "name": "python"
    },
    "accelerator": "GPU"
  },
  "cells": [
    {
      "cell_type": "markdown",
      "metadata": {
        "id": "view-in-github",
        "colab_type": "text"
      },
      "source": [
        "<a href=\"https://colab.research.google.com/github/RhysComissiong/Python-Machine-Learning-Tutorial/blob/master/GANs_ch_17.ipynb\" target=\"_parent\"><img src=\"https://colab.research.google.com/assets/colab-badge.svg\" alt=\"Open In Colab\"/></a>"
      ]
    },
    {
      "cell_type": "code",
      "execution_count": 1,
      "metadata": {
        "colab": {
          "base_uri": "https://localhost:8080/"
        },
        "id": "C2hkmgE3_zMl",
        "outputId": "6e7265a6-c80a-480f-e1f4-ecab8c0e67d8"
      },
      "outputs": [
        {
          "output_type": "stream",
          "name": "stdout",
          "text": [
            "\u001b[K     |████████████████████████████████| 380.8 MB 38 kB/s \n",
            "\u001b[K     |████████████████████████████████| 3.8 MB 49.3 MB/s \n",
            "\u001b[K     |████████████████████████████████| 449 kB 66.1 MB/s \n",
            "\u001b[K     |████████████████████████████████| 50 kB 8.1 MB/s \n",
            "\u001b[?25h  Building wheel for gast (setup.py) ... \u001b[?25l\u001b[?25hdone\n",
            "\u001b[31mERROR: pip's dependency resolver does not currently take into account all the packages that are installed. This behaviour is the source of the following dependency conflicts.\n",
            "tensorflow 2.7.0 requires tensorboard~=2.6, but you have tensorboard 2.0.2 which is incompatible.\n",
            "tensorflow 2.7.0 requires tensorflow-estimator<2.8,~=2.7.0rc0, but you have tensorflow-estimator 2.0.1 which is incompatible.\n",
            "tensorflow-probability 0.15.0 requires gast>=0.3.2, but you have gast 0.2.2 which is incompatible.\u001b[0m\n"
          ]
        }
      ],
      "source": [
        "! pip install -q tensorflow-gpu==2.0.0"
      ]
    },
    {
      "cell_type": "code",
      "source": [
        "import tensorflow as tf\n",
        "print(tf.__version__)"
      ],
      "metadata": {
        "colab": {
          "base_uri": "https://localhost:8080/"
        },
        "id": "s1RUQmHoAyCK",
        "outputId": "e65b5d5c-158e-44c3-a727-bb4772f3e215"
      },
      "execution_count": 2,
      "outputs": [
        {
          "output_type": "stream",
          "name": "stdout",
          "text": [
            "2.0.0\n"
          ]
        }
      ]
    },
    {
      "cell_type": "code",
      "source": [
        "print(\"GPU Available:\", tf.test.is_gpu_available())"
      ],
      "metadata": {
        "colab": {
          "base_uri": "https://localhost:8080/"
        },
        "id": "OsKXTDJuA5A7",
        "outputId": "b293f2c7-ec99-4f56-b4e4-7d538f3c9e59"
      },
      "execution_count": 3,
      "outputs": [
        {
          "output_type": "stream",
          "name": "stdout",
          "text": [
            "GPU Available: True\n"
          ]
        }
      ]
    },
    {
      "cell_type": "code",
      "source": [
        "if tf.test.is_gpu_available():\n",
        "    device_name = tf.test.gpu_device_name()\n",
        "\n",
        "else:\n",
        "    device_name = '/CPU:0'"
      ],
      "metadata": {
        "id": "mZaD_1qVBApk"
      },
      "execution_count": 4,
      "outputs": []
    },
    {
      "cell_type": "code",
      "source": [
        "print(device_name)"
      ],
      "metadata": {
        "colab": {
          "base_uri": "https://localhost:8080/"
        },
        "id": "G_LjgOukBbMU",
        "outputId": "5148061e-877a-4798-9baf-252bc4e9b58c"
      },
      "execution_count": 5,
      "outputs": [
        {
          "output_type": "stream",
          "name": "stdout",
          "text": [
            "/device:GPU:0\n"
          ]
        }
      ]
    },
    {
      "cell_type": "code",
      "source": [
        "from google.colab import drive\n",
        "\n",
        "drive.mount('/content/drive')"
      ],
      "metadata": {
        "colab": {
          "base_uri": "https://localhost:8080/"
        },
        "id": "eZ0EOLHsBcy5",
        "outputId": "28b469fe-1911-4dd3-984f-3cab88ae0732"
      },
      "execution_count": 6,
      "outputs": [
        {
          "output_type": "stream",
          "name": "stdout",
          "text": [
            "Mounted at /content/drive\n"
          ]
        }
      ]
    },
    {
      "cell_type": "code",
      "source": [
        "import tensorflow as tf\n",
        "import tensorflow_datasets as tfds\n",
        "import numpy as np\n",
        "import matplotlib.pyplot as plt"
      ],
      "metadata": {
        "id": "-4BCdsw6BoJC"
      },
      "execution_count": 8,
      "outputs": []
    },
    {
      "cell_type": "code",
      "source": [
        "## define a function for the generator:\n",
        "def make_generator_network(\n",
        "      num_hidden_layers=1,\n",
        "      num_hidden_units=100,\n",
        "      num_output_units=784):\n",
        "  \n",
        "  model = tf.keras.Sequential()\n",
        "  for i in range(num_hidden_layers):\n",
        "    model.add(\n",
        "        tf.keras.layers.Dense(units=num_hidden_units, use_bias=False))\n",
        "    model.add(tf.keras.layers.LeakyReLU())\n",
        "    model.add(tf.keras.layers.Dense(units=num_output_units, activation='tanh'))\n",
        "  return model"
      ],
      "metadata": {
        "id": "lstvxL3_Euim"
      },
      "execution_count": 9,
      "outputs": []
    },
    {
      "cell_type": "code",
      "source": [
        "## define a function for the discriminator:\n",
        "def make_discriminator_network(\n",
        "      num_hidden_layers=1,\n",
        "      num_hidden_units=100,\n",
        "      num_output_units=1):\n",
        "  \n",
        "  model = tf.keras.Sequential()\n",
        "  for i in range(num_hidden_layers):\n",
        "    model.add(tf.keras.layers.Dense(units=num_hidden_units))\n",
        "    model.add(tf.keras.layers.LeakyReLU())\n",
        "    model.add(tf.keras.layers.Dropout(rate=0.5))\n",
        "\n",
        "  model.add(\n",
        "      tf.keras.layers.Dense(\n",
        "          units=num_output_units, activation=None))\n",
        "  return model"
      ],
      "metadata": {
        "id": "YBdw1_jWFxb0"
      },
      "execution_count": 18,
      "outputs": []
    },
    {
      "cell_type": "code",
      "source": [
        "image_size = (28,28)\n",
        "z_size = 20\n",
        "mode_z = 'uniform' # 'uniform' vs 'normal'\n",
        "gen_hidden_layers=1\n",
        "gen_hidden_size=100\n",
        "disc_hidden_layers=1\n",
        "disc_hidden_size=100"
      ],
      "metadata": {
        "id": "lnkIv_LYQGxA"
      },
      "execution_count": 11,
      "outputs": []
    },
    {
      "cell_type": "code",
      "source": [
        "tf.random.set_seed(1)"
      ],
      "metadata": {
        "id": "h5tj_P4_QnWG"
      },
      "execution_count": 12,
      "outputs": []
    },
    {
      "cell_type": "code",
      "source": [
        "gen_model = make_generator_network(\n",
        "    num_hidden_layers=gen_hidden_layers,\n",
        "    num_hidden_units=gen_hidden_size,\n",
        "    num_output_units=np.prod(image_size))"
      ],
      "metadata": {
        "id": "EK-ZfeGPQpxf"
      },
      "execution_count": 13,
      "outputs": []
    },
    {
      "cell_type": "code",
      "source": [
        "gen_model.build(input_shape=(None, z_size))\n",
        "gen_model.summary()"
      ],
      "metadata": {
        "colab": {
          "base_uri": "https://localhost:8080/"
        },
        "id": "WhKeggLbRa7h",
        "outputId": "becd6f07-65e8-43a7-f85c-447fb4d3970c"
      },
      "execution_count": 14,
      "outputs": [
        {
          "output_type": "stream",
          "name": "stdout",
          "text": [
            "Model: \"sequential\"\n",
            "_________________________________________________________________\n",
            "Layer (type)                 Output Shape              Param #   \n",
            "=================================================================\n",
            "dense (Dense)                multiple                  2000      \n",
            "_________________________________________________________________\n",
            "leaky_re_lu (LeakyReLU)      multiple                  0         \n",
            "_________________________________________________________________\n",
            "dense_1 (Dense)              multiple                  79184     \n",
            "=================================================================\n",
            "Total params: 81,184\n",
            "Trainable params: 81,184\n",
            "Non-trainable params: 0\n",
            "_________________________________________________________________\n"
          ]
        }
      ]
    },
    {
      "cell_type": "code",
      "source": [
        "disc_model = make_discriminator_network(\n",
        "    num_hidden_layers=disc_hidden_layers,\n",
        "    num_hidden_units=disc_hidden_size)"
      ],
      "metadata": {
        "id": "lxMKLKvORf_U"
      },
      "execution_count": 19,
      "outputs": []
    },
    {
      "cell_type": "code",
      "source": [
        "disc_model.build(input_shape=(None, np.prod(image_size)))\n",
        "disc_model.summary()"
      ],
      "metadata": {
        "colab": {
          "base_uri": "https://localhost:8080/"
        },
        "id": "01jJ-SexR3b7",
        "outputId": "de440cfa-fe69-4075-ac5c-8f99579c4452"
      },
      "execution_count": 21,
      "outputs": [
        {
          "output_type": "stream",
          "name": "stdout",
          "text": [
            "Model: \"sequential_3\"\n",
            "_________________________________________________________________\n",
            "Layer (type)                 Output Shape              Param #   \n",
            "=================================================================\n",
            "dense_4 (Dense)              multiple                  78500     \n",
            "_________________________________________________________________\n",
            "leaky_re_lu_3 (LeakyReLU)    multiple                  0         \n",
            "_________________________________________________________________\n",
            "dropout_2 (Dropout)          multiple                  0         \n",
            "_________________________________________________________________\n",
            "dense_5 (Dense)              multiple                  101       \n",
            "=================================================================\n",
            "Total params: 78,601\n",
            "Trainable params: 78,601\n",
            "Non-trainable params: 0\n",
            "_________________________________________________________________\n"
          ]
        }
      ]
    },
    {
      "cell_type": "code",
      "source": [
        ""
      ],
      "metadata": {
        "id": "5B47bO_NSAua"
      },
      "execution_count": null,
      "outputs": []
    }
  ]
}