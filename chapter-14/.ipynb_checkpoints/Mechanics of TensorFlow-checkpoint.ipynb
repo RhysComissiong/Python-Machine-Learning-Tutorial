{
 "cells": [
  {
   "cell_type": "markdown",
   "id": "e7cd4a3d",
   "metadata": {},
   "source": [
    "# TensorFlow Computation Graphs"
   ]
  },
  {
   "cell_type": "code",
   "execution_count": 1,
   "id": "9d8240c8",
   "metadata": {},
   "outputs": [],
   "source": [
    "import tensorflow as tf"
   ]
  },
  {
   "cell_type": "code",
   "execution_count": 2,
   "id": "15d2299d",
   "metadata": {},
   "outputs": [],
   "source": [
    "## TF v1.x style\n",
    "g = tf.Graph() #initialise the graph\n",
    "\n",
    "with g.as_default(): # add nodes to graph\n",
    "    a = tf.constant(1, name='a')\n",
    "    b = tf.constant(2, name='b')\n",
    "    c = tf.constant(3, name='c')\n",
    "    z = 2*(a-b) + c"
   ]
  },
  {
   "cell_type": "code",
   "execution_count": 3,
   "id": "5378dfcb",
   "metadata": {},
   "outputs": [
    {
     "name": "stderr",
     "output_type": "stream",
     "text": [
      "2022-02-01 13:23:14.529056: I tensorflow/stream_executor/platform/default/dso_loader.cc:44] Successfully opened dynamic library libcuda.so.1\n",
      "2022-02-01 13:23:14.657114: I tensorflow/stream_executor/cuda/cuda_gpu_executor.cc:1006] successful NUMA node read from SysFS had negative value (-1), but there must be at least one NUMA node, so returning NUMA node zero\n",
      "2022-02-01 13:23:14.657669: I tensorflow/core/common_runtime/gpu/gpu_device.cc:1618] Found device 0 with properties: \n",
      "name: GeForce RTX 2080 Ti major: 7 minor: 5 memoryClockRate(GHz): 1.545\n",
      "pciBusID: 0000:01:00.0\n",
      "2022-02-01 13:23:14.657729: I tensorflow/stream_executor/cuda/cuda_gpu_executor.cc:1006] successful NUMA node read from SysFS had negative value (-1), but there must be at least one NUMA node, so returning NUMA node zero\n",
      "2022-02-01 13:23:14.658267: I tensorflow/core/common_runtime/gpu/gpu_device.cc:1618] Found device 1 with properties: \n",
      "name: GeForce RTX 2080 Ti major: 7 minor: 5 memoryClockRate(GHz): 1.545\n",
      "pciBusID: 0000:02:00.0\n",
      "2022-02-01 13:23:14.658440: I tensorflow/stream_executor/platform/default/dso_loader.cc:44] Successfully opened dynamic library libcudart.so.10.0\n",
      "2022-02-01 13:23:14.659484: I tensorflow/stream_executor/platform/default/dso_loader.cc:44] Successfully opened dynamic library libcublas.so.10.0\n",
      "2022-02-01 13:23:14.660338: I tensorflow/stream_executor/platform/default/dso_loader.cc:44] Successfully opened dynamic library libcufft.so.10.0\n",
      "2022-02-01 13:23:14.660533: I tensorflow/stream_executor/platform/default/dso_loader.cc:44] Successfully opened dynamic library libcurand.so.10.0\n",
      "2022-02-01 13:23:14.661698: I tensorflow/stream_executor/platform/default/dso_loader.cc:44] Successfully opened dynamic library libcusolver.so.10.0\n",
      "2022-02-01 13:23:14.662593: I tensorflow/stream_executor/platform/default/dso_loader.cc:44] Successfully opened dynamic library libcusparse.so.10.0\n",
      "2022-02-01 13:23:14.665289: I tensorflow/stream_executor/platform/default/dso_loader.cc:44] Successfully opened dynamic library libcudnn.so.7\n",
      "2022-02-01 13:23:14.665364: I tensorflow/stream_executor/cuda/cuda_gpu_executor.cc:1006] successful NUMA node read from SysFS had negative value (-1), but there must be at least one NUMA node, so returning NUMA node zero\n",
      "2022-02-01 13:23:14.665846: I tensorflow/stream_executor/cuda/cuda_gpu_executor.cc:1006] successful NUMA node read from SysFS had negative value (-1), but there must be at least one NUMA node, so returning NUMA node zero\n",
      "2022-02-01 13:23:14.666299: I tensorflow/stream_executor/cuda/cuda_gpu_executor.cc:1006] successful NUMA node read from SysFS had negative value (-1), but there must be at least one NUMA node, so returning NUMA node zero\n",
      "2022-02-01 13:23:14.666790: I tensorflow/stream_executor/cuda/cuda_gpu_executor.cc:1006] successful NUMA node read from SysFS had negative value (-1), but there must be at least one NUMA node, so returning NUMA node zero\n",
      "2022-02-01 13:23:14.667217: I tensorflow/core/common_runtime/gpu/gpu_device.cc:1746] Adding visible gpu devices: 0, 1\n",
      "2022-02-01 13:23:14.667735: I tensorflow/core/platform/cpu_feature_guard.cc:142] Your CPU supports instructions that this TensorFlow binary was not compiled to use: SSE4.1 SSE4.2 AVX AVX2 FMA\n",
      "2022-02-01 13:23:14.672130: I tensorflow/core/platform/profile_utils/cpu_utils.cc:94] CPU Frequency: 3699850000 Hz\n",
      "2022-02-01 13:23:14.672457: I tensorflow/compiler/xla/service/service.cc:168] XLA service 0x561cc8578130 executing computations on platform Host. Devices:\n",
      "2022-02-01 13:23:14.672470: I tensorflow/compiler/xla/service/service.cc:175]   StreamExecutor device (0): Host, Default Version\n",
      "2022-02-01 13:23:14.803554: I tensorflow/stream_executor/cuda/cuda_gpu_executor.cc:1006] successful NUMA node read from SysFS had negative value (-1), but there must be at least one NUMA node, so returning NUMA node zero\n",
      "2022-02-01 13:23:14.803910: I tensorflow/core/common_runtime/gpu/gpu_device.cc:1618] Found device 0 with properties: \n",
      "name: GeForce RTX 2080 Ti major: 7 minor: 5 memoryClockRate(GHz): 1.545\n",
      "pciBusID: 0000:01:00.0\n",
      "2022-02-01 13:23:14.803963: I tensorflow/stream_executor/cuda/cuda_gpu_executor.cc:1006] successful NUMA node read from SysFS had negative value (-1), but there must be at least one NUMA node, so returning NUMA node zero\n",
      "2022-02-01 13:23:14.804298: I tensorflow/core/common_runtime/gpu/gpu_device.cc:1618] Found device 1 with properties: \n",
      "name: GeForce RTX 2080 Ti major: 7 minor: 5 memoryClockRate(GHz): 1.545\n",
      "pciBusID: 0000:02:00.0\n",
      "2022-02-01 13:23:14.804324: I tensorflow/stream_executor/platform/default/dso_loader.cc:44] Successfully opened dynamic library libcudart.so.10.0\n",
      "2022-02-01 13:23:14.804333: I tensorflow/stream_executor/platform/default/dso_loader.cc:44] Successfully opened dynamic library libcublas.so.10.0\n",
      "2022-02-01 13:23:14.804342: I tensorflow/stream_executor/platform/default/dso_loader.cc:44] Successfully opened dynamic library libcufft.so.10.0\n",
      "2022-02-01 13:23:14.804350: I tensorflow/stream_executor/platform/default/dso_loader.cc:44] Successfully opened dynamic library libcurand.so.10.0\n",
      "2022-02-01 13:23:14.804358: I tensorflow/stream_executor/platform/default/dso_loader.cc:44] Successfully opened dynamic library libcusolver.so.10.0\n",
      "2022-02-01 13:23:14.804366: I tensorflow/stream_executor/platform/default/dso_loader.cc:44] Successfully opened dynamic library libcusparse.so.10.0\n",
      "2022-02-01 13:23:14.804374: I tensorflow/stream_executor/platform/default/dso_loader.cc:44] Successfully opened dynamic library libcudnn.so.7\n",
      "2022-02-01 13:23:14.804406: I tensorflow/stream_executor/cuda/cuda_gpu_executor.cc:1006] successful NUMA node read from SysFS had negative value (-1), but there must be at least one NUMA node, so returning NUMA node zero\n",
      "2022-02-01 13:23:14.804757: I tensorflow/stream_executor/cuda/cuda_gpu_executor.cc:1006] successful NUMA node read from SysFS had negative value (-1), but there must be at least one NUMA node, so returning NUMA node zero\n",
      "2022-02-01 13:23:14.805115: I tensorflow/stream_executor/cuda/cuda_gpu_executor.cc:1006] successful NUMA node read from SysFS had negative value (-1), but there must be at least one NUMA node, so returning NUMA node zero\n",
      "2022-02-01 13:23:14.805465: I tensorflow/stream_executor/cuda/cuda_gpu_executor.cc:1006] successful NUMA node read from SysFS had negative value (-1), but there must be at least one NUMA node, so returning NUMA node zero\n",
      "2022-02-01 13:23:14.805795: I tensorflow/core/common_runtime/gpu/gpu_device.cc:1746] Adding visible gpu devices: 0, 1\n",
      "2022-02-01 13:23:14.805816: I tensorflow/stream_executor/platform/default/dso_loader.cc:44] Successfully opened dynamic library libcudart.so.10.0\n",
      "2022-02-01 13:23:14.806562: I tensorflow/core/common_runtime/gpu/gpu_device.cc:1159] Device interconnect StreamExecutor with strength 1 edge matrix:\n",
      "2022-02-01 13:23:14.806571: I tensorflow/core/common_runtime/gpu/gpu_device.cc:1165]      0 1 \n",
      "2022-02-01 13:23:14.806576: I tensorflow/core/common_runtime/gpu/gpu_device.cc:1178] 0:   N N \n",
      "2022-02-01 13:23:14.806578: I tensorflow/core/common_runtime/gpu/gpu_device.cc:1178] 1:   N N \n",
      "2022-02-01 13:23:14.806648: I tensorflow/stream_executor/cuda/cuda_gpu_executor.cc:1006] successful NUMA node read from SysFS had negative value (-1), but there must be at least one NUMA node, so returning NUMA node zero\n",
      "2022-02-01 13:23:14.807004: I tensorflow/stream_executor/cuda/cuda_gpu_executor.cc:1006] successful NUMA node read from SysFS had negative value (-1), but there must be at least one NUMA node, so returning NUMA node zero\n",
      "2022-02-01 13:23:14.807400: I tensorflow/stream_executor/cuda/cuda_gpu_executor.cc:1006] successful NUMA node read from SysFS had negative value (-1), but there must be at least one NUMA node, so returning NUMA node zero\n",
      "2022-02-01 13:23:14.807754: I tensorflow/stream_executor/cuda/cuda_gpu_executor.cc:1006] successful NUMA node read from SysFS had negative value (-1), but there must be at least one NUMA node, so returning NUMA node zero\n",
      "2022-02-01 13:23:14.808092: I tensorflow/core/common_runtime/gpu/gpu_device.cc:1304] Created TensorFlow device (/job:localhost/replica:0/task:0/device:GPU:0 with 9658 MB memory) -> physical GPU (device: 0, name: GeForce RTX 2080 Ti, pci bus id: 0000:01:00.0, compute capability: 7.5)\n",
      "2022-02-01 13:23:14.808313: I tensorflow/stream_executor/cuda/cuda_gpu_executor.cc:1006] successful NUMA node read from SysFS had negative value (-1), but there must be at least one NUMA node, so returning NUMA node zero\n",
      "2022-02-01 13:23:14.808676: I tensorflow/stream_executor/cuda/cuda_gpu_executor.cc:1006] successful NUMA node read from SysFS had negative value (-1), but there must be at least one NUMA node, so returning NUMA node zero\n",
      "2022-02-01 13:23:14.809014: I tensorflow/core/common_runtime/gpu/gpu_device.cc:1304] Created TensorFlow device (/job:localhost/replica:0/task:0/device:GPU:1 with 10310 MB memory) -> physical GPU (device: 1, name: GeForce RTX 2080 Ti, pci bus id: 0000:02:00.0, compute capability: 7.5)\n",
      "2022-02-01 13:23:14.810095: I tensorflow/compiler/xla/service/service.cc:168] XLA service 0x561cc6d90860 executing computations on platform CUDA. Devices:\n",
      "2022-02-01 13:23:14.810105: I tensorflow/compiler/xla/service/service.cc:175]   StreamExecutor device (0): GeForce RTX 2080 Ti, Compute Capability 7.5\n",
      "2022-02-01 13:23:14.810108: I tensorflow/compiler/xla/service/service.cc:175]   StreamExecutor device (1): GeForce RTX 2080 Ti, Compute Capability 7.5\n"
     ]
    },
    {
     "name": "stdout",
     "output_type": "stream",
     "text": [
      "Result: z = 1\n"
     ]
    }
   ],
   "source": [
    "## TF v1.x style\n",
    "with tf.compat.v1.Session(graph=g) as sess:\n",
    "    print ('Result: z =', sess.run(z))"
   ]
  },
  {
   "cell_type": "code",
   "execution_count": 4,
   "id": "038b0140",
   "metadata": {},
   "outputs": [
    {
     "name": "stdout",
     "output_type": "stream",
     "text": [
      "Result: z=  1\n"
     ]
    },
    {
     "name": "stderr",
     "output_type": "stream",
     "text": [
      "2022-02-01 13:23:14.914365: I tensorflow/stream_executor/cuda/cuda_gpu_executor.cc:1006] successful NUMA node read from SysFS had negative value (-1), but there must be at least one NUMA node, so returning NUMA node zero\n",
      "2022-02-01 13:23:14.914615: I tensorflow/core/common_runtime/gpu/gpu_device.cc:1618] Found device 0 with properties: \n",
      "name: GeForce RTX 2080 Ti major: 7 minor: 5 memoryClockRate(GHz): 1.545\n",
      "pciBusID: 0000:01:00.0\n",
      "2022-02-01 13:23:14.914675: I tensorflow/stream_executor/cuda/cuda_gpu_executor.cc:1006] successful NUMA node read from SysFS had negative value (-1), but there must be at least one NUMA node, so returning NUMA node zero\n",
      "2022-02-01 13:23:14.915014: I tensorflow/core/common_runtime/gpu/gpu_device.cc:1618] Found device 1 with properties: \n",
      "name: GeForce RTX 2080 Ti major: 7 minor: 5 memoryClockRate(GHz): 1.545\n",
      "pciBusID: 0000:02:00.0\n",
      "2022-02-01 13:23:14.915041: I tensorflow/stream_executor/platform/default/dso_loader.cc:44] Successfully opened dynamic library libcudart.so.10.0\n",
      "2022-02-01 13:23:14.915050: I tensorflow/stream_executor/platform/default/dso_loader.cc:44] Successfully opened dynamic library libcublas.so.10.0\n",
      "2022-02-01 13:23:14.915058: I tensorflow/stream_executor/platform/default/dso_loader.cc:44] Successfully opened dynamic library libcufft.so.10.0\n",
      "2022-02-01 13:23:14.915066: I tensorflow/stream_executor/platform/default/dso_loader.cc:44] Successfully opened dynamic library libcurand.so.10.0\n",
      "2022-02-01 13:23:14.915074: I tensorflow/stream_executor/platform/default/dso_loader.cc:44] Successfully opened dynamic library libcusolver.so.10.0\n",
      "2022-02-01 13:23:14.915082: I tensorflow/stream_executor/platform/default/dso_loader.cc:44] Successfully opened dynamic library libcusparse.so.10.0\n",
      "2022-02-01 13:23:14.915090: I tensorflow/stream_executor/platform/default/dso_loader.cc:44] Successfully opened dynamic library libcudnn.so.7\n",
      "2022-02-01 13:23:14.915124: I tensorflow/stream_executor/cuda/cuda_gpu_executor.cc:1006] successful NUMA node read from SysFS had negative value (-1), but there must be at least one NUMA node, so returning NUMA node zero\n",
      "2022-02-01 13:23:14.915383: I tensorflow/stream_executor/cuda/cuda_gpu_executor.cc:1006] successful NUMA node read from SysFS had negative value (-1), but there must be at least one NUMA node, so returning NUMA node zero\n",
      "2022-02-01 13:23:14.915739: I tensorflow/stream_executor/cuda/cuda_gpu_executor.cc:1006] successful NUMA node read from SysFS had negative value (-1), but there must be at least one NUMA node, so returning NUMA node zero\n",
      "2022-02-01 13:23:14.915952: I tensorflow/stream_executor/cuda/cuda_gpu_executor.cc:1006] successful NUMA node read from SysFS had negative value (-1), but there must be at least one NUMA node, so returning NUMA node zero\n",
      "2022-02-01 13:23:14.916281: I tensorflow/core/common_runtime/gpu/gpu_device.cc:1746] Adding visible gpu devices: 0, 1\n",
      "2022-02-01 13:23:14.916303: I tensorflow/core/common_runtime/gpu/gpu_device.cc:1159] Device interconnect StreamExecutor with strength 1 edge matrix:\n",
      "2022-02-01 13:23:14.916307: I tensorflow/core/common_runtime/gpu/gpu_device.cc:1165]      0 1 \n",
      "2022-02-01 13:23:14.916311: I tensorflow/core/common_runtime/gpu/gpu_device.cc:1178] 0:   N N \n",
      "2022-02-01 13:23:14.916313: I tensorflow/core/common_runtime/gpu/gpu_device.cc:1178] 1:   N N \n",
      "2022-02-01 13:23:14.916376: I tensorflow/stream_executor/cuda/cuda_gpu_executor.cc:1006] successful NUMA node read from SysFS had negative value (-1), but there must be at least one NUMA node, so returning NUMA node zero\n",
      "2022-02-01 13:23:14.916594: I tensorflow/stream_executor/cuda/cuda_gpu_executor.cc:1006] successful NUMA node read from SysFS had negative value (-1), but there must be at least one NUMA node, so returning NUMA node zero\n",
      "2022-02-01 13:23:14.917036: I tensorflow/stream_executor/cuda/cuda_gpu_executor.cc:1006] successful NUMA node read from SysFS had negative value (-1), but there must be at least one NUMA node, so returning NUMA node zero\n",
      "2022-02-01 13:23:14.917253: I tensorflow/core/common_runtime/gpu/gpu_device.cc:1304] Created TensorFlow device (/job:localhost/replica:0/task:0/device:GPU:0 with 9658 MB memory) -> physical GPU (device: 0, name: GeForce RTX 2080 Ti, pci bus id: 0000:01:00.0, compute capability: 7.5)\n",
      "2022-02-01 13:23:14.917291: I tensorflow/stream_executor/cuda/cuda_gpu_executor.cc:1006] successful NUMA node read from SysFS had negative value (-1), but there must be at least one NUMA node, so returning NUMA node zero\n",
      "2022-02-01 13:23:14.917644: I tensorflow/core/common_runtime/gpu/gpu_device.cc:1304] Created TensorFlow device (/job:localhost/replica:0/task:0/device:GPU:1 with 10310 MB memory) -> physical GPU (device: 1, name: GeForce RTX 2080 Ti, pci bus id: 0000:02:00.0, compute capability: 7.5)\n"
     ]
    }
   ],
   "source": [
    "## TF v2 style\n",
    "a = tf.constant(1, name='a')\n",
    "b = tf.constant(2, name='b')\n",
    "c = tf.constant(3, name='c')\n",
    "z = 2*(a-b)+c\n",
    "tf.print('Result: z= ', z)"
   ]
  },
  {
   "cell_type": "code",
   "execution_count": 5,
   "id": "b8d8ed63",
   "metadata": {},
   "outputs": [],
   "source": [
    "## TF-v1.x style\n",
    "g = tf.Graph()\n",
    "with g.as_default():\n",
    "    a = tf.compat.v1.placeholder(shape=None, dtype=tf.int32, name='tf_a')\n",
    "    b = tf.compat.v1.placeholder(shape=None, dtype=tf.int32, name='tf_b')\n",
    "    c = tf.compat.v1.placeholder(shape=None, dtype=tf.int32, name='tf_c')\n",
    "    z = 2*(a-b)+c"
   ]
  },
  {
   "cell_type": "code",
   "execution_count": 6,
   "id": "f265cdd2",
   "metadata": {},
   "outputs": [
    {
     "name": "stdout",
     "output_type": "stream",
     "text": [
      "Result: z= 1\n"
     ]
    },
    {
     "name": "stderr",
     "output_type": "stream",
     "text": [
      "2022-02-01 13:23:14.961655: I tensorflow/stream_executor/cuda/cuda_gpu_executor.cc:1006] successful NUMA node read from SysFS had negative value (-1), but there must be at least one NUMA node, so returning NUMA node zero\n",
      "2022-02-01 13:23:14.961922: I tensorflow/core/common_runtime/gpu/gpu_device.cc:1618] Found device 0 with properties: \n",
      "name: GeForce RTX 2080 Ti major: 7 minor: 5 memoryClockRate(GHz): 1.545\n",
      "pciBusID: 0000:01:00.0\n",
      "2022-02-01 13:23:14.961991: I tensorflow/stream_executor/cuda/cuda_gpu_executor.cc:1006] successful NUMA node read from SysFS had negative value (-1), but there must be at least one NUMA node, so returning NUMA node zero\n",
      "2022-02-01 13:23:14.962542: I tensorflow/core/common_runtime/gpu/gpu_device.cc:1618] Found device 1 with properties: \n",
      "name: GeForce RTX 2080 Ti major: 7 minor: 5 memoryClockRate(GHz): 1.545\n",
      "pciBusID: 0000:02:00.0\n",
      "2022-02-01 13:23:14.962580: I tensorflow/stream_executor/platform/default/dso_loader.cc:44] Successfully opened dynamic library libcudart.so.10.0\n",
      "2022-02-01 13:23:14.962600: I tensorflow/stream_executor/platform/default/dso_loader.cc:44] Successfully opened dynamic library libcublas.so.10.0\n",
      "2022-02-01 13:23:14.962617: I tensorflow/stream_executor/platform/default/dso_loader.cc:44] Successfully opened dynamic library libcufft.so.10.0\n",
      "2022-02-01 13:23:14.962627: I tensorflow/stream_executor/platform/default/dso_loader.cc:44] Successfully opened dynamic library libcurand.so.10.0\n",
      "2022-02-01 13:23:14.962636: I tensorflow/stream_executor/platform/default/dso_loader.cc:44] Successfully opened dynamic library libcusolver.so.10.0\n",
      "2022-02-01 13:23:14.962649: I tensorflow/stream_executor/platform/default/dso_loader.cc:44] Successfully opened dynamic library libcusparse.so.10.0\n",
      "2022-02-01 13:23:14.962664: I tensorflow/stream_executor/platform/default/dso_loader.cc:44] Successfully opened dynamic library libcudnn.so.7\n",
      "2022-02-01 13:23:14.962711: I tensorflow/stream_executor/cuda/cuda_gpu_executor.cc:1006] successful NUMA node read from SysFS had negative value (-1), but there must be at least one NUMA node, so returning NUMA node zero\n",
      "2022-02-01 13:23:14.963135: I tensorflow/stream_executor/cuda/cuda_gpu_executor.cc:1006] successful NUMA node read from SysFS had negative value (-1), but there must be at least one NUMA node, so returning NUMA node zero\n",
      "2022-02-01 13:23:14.963575: I tensorflow/stream_executor/cuda/cuda_gpu_executor.cc:1006] successful NUMA node read from SysFS had negative value (-1), but there must be at least one NUMA node, so returning NUMA node zero\n",
      "2022-02-01 13:23:14.963901: I tensorflow/stream_executor/cuda/cuda_gpu_executor.cc:1006] successful NUMA node read from SysFS had negative value (-1), but there must be at least one NUMA node, so returning NUMA node zero\n",
      "2022-02-01 13:23:14.964344: I tensorflow/core/common_runtime/gpu/gpu_device.cc:1746] Adding visible gpu devices: 0, 1\n",
      "2022-02-01 13:23:14.964372: I tensorflow/core/common_runtime/gpu/gpu_device.cc:1159] Device interconnect StreamExecutor with strength 1 edge matrix:\n",
      "2022-02-01 13:23:14.964377: I tensorflow/core/common_runtime/gpu/gpu_device.cc:1165]      0 1 \n",
      "2022-02-01 13:23:14.964380: I tensorflow/core/common_runtime/gpu/gpu_device.cc:1178] 0:   N N \n",
      "2022-02-01 13:23:14.964383: I tensorflow/core/common_runtime/gpu/gpu_device.cc:1178] 1:   N N \n",
      "2022-02-01 13:23:14.964455: I tensorflow/stream_executor/cuda/cuda_gpu_executor.cc:1006] successful NUMA node read from SysFS had negative value (-1), but there must be at least one NUMA node, so returning NUMA node zero\n",
      "2022-02-01 13:23:14.964697: I tensorflow/stream_executor/cuda/cuda_gpu_executor.cc:1006] successful NUMA node read from SysFS had negative value (-1), but there must be at least one NUMA node, so returning NUMA node zero\n",
      "2022-02-01 13:23:14.965081: I tensorflow/stream_executor/cuda/cuda_gpu_executor.cc:1006] successful NUMA node read from SysFS had negative value (-1), but there must be at least one NUMA node, so returning NUMA node zero\n",
      "2022-02-01 13:23:14.965300: I tensorflow/core/common_runtime/gpu/gpu_device.cc:1304] Created TensorFlow device (/job:localhost/replica:0/task:0/device:GPU:0 with 9658 MB memory) -> physical GPU (device: 0, name: GeForce RTX 2080 Ti, pci bus id: 0000:01:00.0, compute capability: 7.5)\n",
      "2022-02-01 13:23:14.965341: I tensorflow/stream_executor/cuda/cuda_gpu_executor.cc:1006] successful NUMA node read from SysFS had negative value (-1), but there must be at least one NUMA node, so returning NUMA node zero\n",
      "2022-02-01 13:23:14.965698: I tensorflow/core/common_runtime/gpu/gpu_device.cc:1304] Created TensorFlow device (/job:localhost/replica:0/task:0/device:GPU:1 with 10310 MB memory) -> physical GPU (device: 1, name: GeForce RTX 2080 Ti, pci bus id: 0000:02:00.0, compute capability: 7.5)\n"
     ]
    }
   ],
   "source": [
    "with tf.compat.v1.Session(graph=g) as sess:\n",
    "    feed_dict={a:1, b:2, c:3} # dictionary\n",
    "    print('Result: z=', sess.run(z, feed_dict=feed_dict))"
   ]
  },
  {
   "cell_type": "code",
   "execution_count": 7,
   "id": "6981956d",
   "metadata": {},
   "outputs": [],
   "source": [
    "## TF-v2 style\n",
    "def compute_z(a,b,c):\n",
    "    r1 = tf.subtract(a,b)\n",
    "    r2 = tf.multiply(2, r1)\n",
    "    z = tf.add(r2, c)\n",
    "    return z"
   ]
  },
  {
   "cell_type": "code",
   "execution_count": 8,
   "id": "d8ed8e4b",
   "metadata": {},
   "outputs": [
    {
     "name": "stdout",
     "output_type": "stream",
     "text": [
      "Scalar Inputs: 1\n"
     ]
    }
   ],
   "source": [
    "tf.print('Scalar Inputs:', compute_z(1,2,3))"
   ]
  },
  {
   "cell_type": "markdown",
   "id": "84d50b9d",
   "metadata": {},
   "source": [
    "## Improving computational performance with function decorators"
   ]
  },
  {
   "cell_type": "code",
   "execution_count": 9,
   "id": "6ba4e086",
   "metadata": {},
   "outputs": [],
   "source": [
    "@tf.function\n",
    "def compute_z(a,b,c):\n",
    "    r1 = tf.subtract(a,b)\n",
    "    r2 = tf.multiply(2, r1)\n",
    "    z = tf.add(r2, c)\n",
    "    return z"
   ]
  },
  {
   "cell_type": "code",
   "execution_count": 10,
   "id": "504e98c1",
   "metadata": {},
   "outputs": [
    {
     "name": "stdout",
     "output_type": "stream",
     "text": [
      "Scalar Inputs: 1\n"
     ]
    }
   ],
   "source": [
    "tf.print('Scalar Inputs:', compute_z(1,2,3))"
   ]
  },
  {
   "cell_type": "code",
   "execution_count": 11,
   "id": "decb9e3c",
   "metadata": {},
   "outputs": [
    {
     "name": "stdout",
     "output_type": "stream",
     "text": [
      "Rank 1 Inputs: [1]\n"
     ]
    }
   ],
   "source": [
    "tf.print('Rank 1 Inputs:', compute_z([1],[2],[3]))"
   ]
  },
  {
   "cell_type": "code",
   "execution_count": 12,
   "id": "ad085403",
   "metadata": {},
   "outputs": [],
   "source": [
    "@tf.function(input_signature=(tf.TensorSpec(shape=[None], dtype=tf.int32),\n",
    "                              tf.TensorSpec(shape=[None], dtype=tf.int32),\n",
    "                              tf.TensorSpec(shape=[None], dtype=tf.int32)))\n",
    "def compute_z(a,b,c):\n",
    "    r1 = tf.subtract(a,b)\n",
    "    r2 = tf.multiply(2, r1)\n",
    "    z = tf.add(r2, c)\n",
    "    return z"
   ]
  },
  {
   "cell_type": "code",
   "execution_count": 13,
   "id": "a566e0d2",
   "metadata": {},
   "outputs": [
    {
     "name": "stdout",
     "output_type": "stream",
     "text": [
      "Rank 1 Inputs: [1]\n"
     ]
    }
   ],
   "source": [
    "tf.print('Rank 1 Inputs:', compute_z([1],[2],[3]))"
   ]
  },
  {
   "cell_type": "code",
   "execution_count": 14,
   "id": "0bcaf041",
   "metadata": {},
   "outputs": [],
   "source": [
    "#tf.print('Rank 0 Inputs:', compute_z(1,2,3))\n",
    "### will result in error - specified input signature is tensor of rank 1"
   ]
  },
  {
   "cell_type": "code",
   "execution_count": 15,
   "id": "a20195a2",
   "metadata": {},
   "outputs": [
    {
     "name": "stdout",
     "output_type": "stream",
     "text": [
      "<tf.Variable 'var_a:0' shape=() dtype=float32, numpy=3.14>\n"
     ]
    }
   ],
   "source": [
    "a = tf.Variable(initial_value=3.14, name='var_a')\n",
    "print(a)"
   ]
  },
  {
   "cell_type": "code",
   "execution_count": 16,
   "id": "b4fa1de2",
   "metadata": {},
   "outputs": [
    {
     "name": "stdout",
     "output_type": "stream",
     "text": [
      "<tf.Variable 'var_b:0' shape=(3,) dtype=int32, numpy=array([1, 2, 3], dtype=int32)>\n"
     ]
    }
   ],
   "source": [
    "b = tf.Variable(initial_value=[1, 2, 3], name='var_b')\n",
    "print(b)"
   ]
  },
  {
   "cell_type": "code",
   "execution_count": 17,
   "id": "ff9267f8",
   "metadata": {},
   "outputs": [
    {
     "name": "stdout",
     "output_type": "stream",
     "text": [
      "<tf.Variable 'Variable:0' shape=(2,) dtype=bool, numpy=array([ True, False])>\n"
     ]
    }
   ],
   "source": [
    "c = tf.Variable(initial_value=[True, False], dtype=tf.bool)\n",
    "print(c)"
   ]
  },
  {
   "cell_type": "code",
   "execution_count": 18,
   "id": "4a9f2840",
   "metadata": {},
   "outputs": [
    {
     "name": "stdout",
     "output_type": "stream",
     "text": [
      "<tf.Variable 'Variable:0' shape=(1,) dtype=string, numpy=array([b'abc'], dtype=object)>\n"
     ]
    }
   ],
   "source": [
    "d = tf.Variable(initial_value=['abc'], dtype=tf.string)\n",
    "print(d)"
   ]
  },
  {
   "cell_type": "code",
   "execution_count": 19,
   "id": "36186503",
   "metadata": {},
   "outputs": [
    {
     "name": "stdout",
     "output_type": "stream",
     "text": [
      "False\n"
     ]
    }
   ],
   "source": [
    "w = tf.Variable([1,2,3], trainable=False)\n",
    "print(w.trainable)"
   ]
  },
  {
   "cell_type": "code",
   "execution_count": 20,
   "id": "96846f80",
   "metadata": {},
   "outputs": [
    {
     "name": "stdout",
     "output_type": "stream",
     "text": [
      "<tf.Variable 'UnreadVariable' shape=(3,) dtype=int32, numpy=array([3, 1, 4], dtype=int32)>\n"
     ]
    }
   ],
   "source": [
    "print(w.assign([3, 1, 4], read_value=True))"
   ]
  },
  {
   "cell_type": "code",
   "execution_count": 21,
   "id": "6c0e1264",
   "metadata": {},
   "outputs": [
    {
     "name": "stdout",
     "output_type": "stream",
     "text": [
      "tf.Tensor([5 0 6], shape=(3,), dtype=int32)\n"
     ]
    }
   ],
   "source": [
    "w.assign_add([2, -1, 2], read_value=False)\n",
    "print(w.value())"
   ]
  },
  {
   "cell_type": "code",
   "execution_count": 22,
   "id": "d8da6ea7",
   "metadata": {},
   "outputs": [
    {
     "name": "stdout",
     "output_type": "stream",
     "text": [
      "[-0.722795904 1.01456821 0.251808226]\n"
     ]
    }
   ],
   "source": [
    "tf.random.set_seed(1)\n",
    "init = tf.keras.initializers.GlorotNormal()\n",
    "tf.print(init(shape=(3,)))"
   ]
  },
  {
   "cell_type": "code",
   "execution_count": 23,
   "id": "080a7040",
   "metadata": {},
   "outputs": [
    {
     "name": "stdout",
     "output_type": "stream",
     "text": [
      "[[0.28982234 -0.782292783 -0.0453658961]\n",
      " [0.960991383 -0.120003454 0.708528221]]\n"
     ]
    }
   ],
   "source": [
    "v = tf.Variable(init(shape=(2,3)))\n",
    "tf.print(v)"
   ]
  },
  {
   "cell_type": "code",
   "execution_count": 24,
   "id": "6ea43b74",
   "metadata": {},
   "outputs": [],
   "source": [
    "class MyModule(tf.Module):\n",
    "    def __init__(self):\n",
    "        init = tf.keras.initializers.GlorotNormal()\n",
    "        self.w1 = tf.Variable(init(shape=(2,3)),trainable=True)\n",
    "        self.w2 = tf.Variable(init(shape=(1,2)),trainable=False)"
   ]
  },
  {
   "cell_type": "code",
   "execution_count": 25,
   "id": "f0b254fb",
   "metadata": {},
   "outputs": [
    {
     "name": "stdout",
     "output_type": "stream",
     "text": [
      "All module variables: [TensorShape([2, 3]), TensorShape([1, 2])]\n"
     ]
    },
    {
     "name": "stderr",
     "output_type": "stream",
     "text": [
      "2022-02-01 13:23:15.544303: W tensorflow/python/util/util.cc:299] Sets are not currently considered sequences, but this may change in the future, so consider avoiding using them.\n"
     ]
    }
   ],
   "source": [
    "m = MyModule()\n",
    "print('All module variables:', [v.shape for v in m.variables])"
   ]
  },
  {
   "cell_type": "code",
   "execution_count": 26,
   "id": "1fe087cf",
   "metadata": {},
   "outputs": [
    {
     "name": "stdout",
     "output_type": "stream",
     "text": [
      "Trainable variable: [TensorShape([2, 3])]\n"
     ]
    }
   ],
   "source": [
    "print('Trainable variable:', [v.shape for v in m.trainable_variables])"
   ]
  },
  {
   "cell_type": "code",
   "execution_count": 27,
   "id": "2082cfe4",
   "metadata": {},
   "outputs": [],
   "source": [
    "w = tf.Variable(tf.random.uniform((3,3)))\n",
    "@tf.function\n",
    "def compute_z(x):\n",
    "    return tf.matmul(w,x)"
   ]
  },
  {
   "cell_type": "code",
   "execution_count": 28,
   "id": "d625927f",
   "metadata": {},
   "outputs": [
    {
     "name": "stderr",
     "output_type": "stream",
     "text": [
      "2022-02-01 13:23:15.601150: I tensorflow/stream_executor/platform/default/dso_loader.cc:44] Successfully opened dynamic library libcublas.so.10.0\n"
     ]
    },
    {
     "name": "stdout",
     "output_type": "stream",
     "text": [
      "[[1.20935762]\n",
      " [3.89828062]\n",
      " [1.65398622]]\n"
     ]
    }
   ],
   "source": [
    "x = tf.constant([[1],[2],[3]], dtype=tf.float32)\n",
    "tf.print(compute_z(x))"
   ]
  },
  {
   "cell_type": "markdown",
   "id": "30e0bd12",
   "metadata": {},
   "source": [
    "# Computing gradients via automatic differentiation and GradientTape"
   ]
  },
  {
   "cell_type": "markdown",
   "id": "e49bd625",
   "metadata": {},
   "source": [
    "## Gradients of Trainable variables i.e. weights & biases"
   ]
  },
  {
   "cell_type": "code",
   "execution_count": 29,
   "id": "109c0e5c",
   "metadata": {},
   "outputs": [
    {
     "name": "stdout",
     "output_type": "stream",
     "text": [
      "True True\n"
     ]
    }
   ],
   "source": [
    "w = tf.Variable(1.0)\n",
    "b = tf.Variable(0.5)\n",
    "print(w.trainable, b.trainable)"
   ]
  },
  {
   "cell_type": "code",
   "execution_count": 30,
   "id": "6cd4de0e",
   "metadata": {},
   "outputs": [],
   "source": [
    "x = tf.convert_to_tensor([1.4])\n",
    "y = tf.convert_to_tensor([2.1])\n",
    "with tf.GradientTape() as tape:\n",
    "    z = tf.add(tf.multiply(w,x), b)\n",
    "    loss = tf.reduce_sum(tf.square(y-z))"
   ]
  },
  {
   "cell_type": "code",
   "execution_count": 31,
   "id": "5709bf78",
   "metadata": {},
   "outputs": [
    {
     "name": "stdout",
     "output_type": "stream",
     "text": [
      "dL/dw: -0.559999764\n"
     ]
    }
   ],
   "source": [
    "dloss_dw = tape.gradient(loss, w) # dL, dw\n",
    "tf.print('dL/dw:', dloss_dw)"
   ]
  },
  {
   "cell_type": "code",
   "execution_count": 32,
   "id": "7a13f693",
   "metadata": {},
   "outputs": [
    {
     "name": "stdout",
     "output_type": "stream",
     "text": [
      "[-0.559999764]\n"
     ]
    }
   ],
   "source": [
    "# verifying the computed gradient\n",
    "tf.print(2*x*(w*x+b-y))"
   ]
  },
  {
   "cell_type": "markdown",
   "id": "3263f0fc",
   "metadata": {},
   "source": [
    "## Gradients of Non-Trainable variables i.e. inputs"
   ]
  },
  {
   "cell_type": "code",
   "execution_count": 33,
   "id": "bacc9a16",
   "metadata": {},
   "outputs": [],
   "source": [
    "with tf.GradientTape() as tape:\n",
    "    tape.watch(x)\n",
    "    z = tf.add(tf.multiply(w,x),b)\n",
    "    loss = tf.reduce_sum(tf.square(y-z))"
   ]
  },
  {
   "cell_type": "code",
   "execution_count": 34,
   "id": "1353df06",
   "metadata": {},
   "outputs": [],
   "source": [
    "dloss_dx = tape.gradient(loss, x) # dL, dx"
   ]
  },
  {
   "cell_type": "code",
   "execution_count": 35,
   "id": "3dddd15e",
   "metadata": {},
   "outputs": [
    {
     "name": "stdout",
     "output_type": "stream",
     "text": [
      "dL/dx: [-0.399999857]\n"
     ]
    }
   ],
   "source": [
    "tf.print('dL/dx:',dloss_dx) "
   ]
  },
  {
   "cell_type": "markdown",
   "id": "488b4226",
   "metadata": {},
   "source": [
    "## Multiple gradient computations"
   ]
  },
  {
   "cell_type": "code",
   "execution_count": 36,
   "id": "60c20c23",
   "metadata": {},
   "outputs": [],
   "source": [
    "with tf.GradientTape(persistent=True) as tape: #persistence!!!!\n",
    "    z = tf.add(tf.multiply(w,x),b)\n",
    "    loss = tf.reduce_sum(tf.square(y-z))"
   ]
  },
  {
   "cell_type": "code",
   "execution_count": 37,
   "id": "97eeafc6",
   "metadata": {},
   "outputs": [
    {
     "name": "stdout",
     "output_type": "stream",
     "text": [
      "dL/dw: -0.559999764\n"
     ]
    }
   ],
   "source": [
    "dloss_dw = tape.gradient(loss, w)\n",
    "tf.print('dL/dw:', dloss_dw)"
   ]
  },
  {
   "cell_type": "code",
   "execution_count": 38,
   "id": "7fc61b99",
   "metadata": {},
   "outputs": [
    {
     "name": "stdout",
     "output_type": "stream",
     "text": [
      "dL/db: -0.399999857\n"
     ]
    }
   ],
   "source": [
    "dloss_db = tape.gradient(loss, b)\n",
    "tf.print('dL/db:', dloss_db)"
   ]
  },
  {
   "cell_type": "code",
   "execution_count": 39,
   "id": "a5477039",
   "metadata": {},
   "outputs": [
    {
     "data": {
      "text/plain": [
       "<tf.Variable 'UnreadVariable' shape=() dtype=int64, numpy=1>"
      ]
     },
     "execution_count": 39,
     "metadata": {},
     "output_type": "execute_result"
    }
   ],
   "source": [
    "optimizer = tf.keras.optimizers.SGD()\n",
    "optimizer.apply_gradients(zip([dloss_dw, dloss_db], [w,b]))"
   ]
  },
  {
   "cell_type": "code",
   "execution_count": 40,
   "id": "17f592d9",
   "metadata": {},
   "outputs": [
    {
     "name": "stdout",
     "output_type": "stream",
     "text": [
      "Updated weight: 1.0056\n"
     ]
    }
   ],
   "source": [
    "tf.print('Updated weight:', w)"
   ]
  },
  {
   "cell_type": "code",
   "execution_count": 41,
   "id": "acb98e6e",
   "metadata": {},
   "outputs": [
    {
     "name": "stdout",
     "output_type": "stream",
     "text": [
      "Updated bias: 0.504\n"
     ]
    }
   ],
   "source": [
    "tf.print('Updated bias:', b)"
   ]
  },
  {
   "cell_type": "markdown",
   "id": "eb78c542",
   "metadata": {},
   "source": [
    "# Simplifying implementations of common architectures via the Keras API"
   ]
  },
  {
   "cell_type": "code",
   "execution_count": 42,
   "id": "7b649093",
   "metadata": {},
   "outputs": [
    {
     "name": "stdout",
     "output_type": "stream",
     "text": [
      "Model: \"sequential\"\n",
      "_________________________________________________________________\n",
      "Layer (type)                 Output Shape              Param #   \n",
      "=================================================================\n",
      "dense (Dense)                multiple                  80        \n",
      "_________________________________________________________________\n",
      "dense_1 (Dense)              multiple                  544       \n",
      "=================================================================\n",
      "Total params: 624\n",
      "Trainable params: 624\n",
      "Non-trainable params: 0\n",
      "_________________________________________________________________\n"
     ]
    }
   ],
   "source": [
    "model = tf.keras.Sequential()\n",
    "model.add(tf.keras.layers.Dense(units=16, activation='relu'))\n",
    "model.add(tf.keras.layers.Dense(units=32, activation='relu'))\n",
    "## late variable creation\n",
    "model.build(input_shape=(None, 4))\n",
    "model.summary()"
   ]
  },
  {
   "cell_type": "code",
   "execution_count": 43,
   "id": "02ae8b53",
   "metadata": {},
   "outputs": [
    {
     "name": "stdout",
     "output_type": "stream",
     "text": [
      "dense/kernel:0       True (4, 16)\n",
      "dense/bias:0         True (16,)\n",
      "dense_1/kernel:0     True (16, 32)\n",
      "dense_1/bias:0       True (32,)\n"
     ]
    }
   ],
   "source": [
    "## printing variables of the model\n",
    "for v in model.variables:\n",
    "    print('{:20s}'.format(v.name), v.trainable, v.shape)"
   ]
  },
  {
   "cell_type": "code",
   "execution_count": 44,
   "id": "643ff910",
   "metadata": {},
   "outputs": [],
   "source": [
    "model = tf.keras.Sequential()\n",
    "model.add(\n",
    "    tf.keras.layers.Dense(\n",
    "        units = 16,\n",
    "        activation = tf.keras.activations.relu,\n",
    "        kernel_initializer = tf.keras.initializers.glorot_uniform(),\n",
    "        bias_initializer = tf.keras.initializers.Constant(2.0)\n",
    "    ))\n",
    "\n",
    "model.add(\n",
    "    tf.keras.layers.Dense(\n",
    "        units=32,\n",
    "        activation=tf.keras.activations.sigmoid,\n",
    "        kernel_regularizer=tf.keras.regularizers.l1\n",
    "    )\n",
    ")"
   ]
  },
  {
   "cell_type": "code",
   "execution_count": 45,
   "id": "4bd0c5df",
   "metadata": {},
   "outputs": [],
   "source": [
    "model.compile(\n",
    "    optimizer = tf.keras.optimizers.SGD(learning_rate=0.001),\n",
    "    loss = tf.keras.losses.BinaryCrossentropy(),\n",
    "    metrics = [tf.keras.metrics.Accuracy(),\n",
    "               tf.keras.metrics.Precision(),\n",
    "               tf.keras.metrics.Recall()]\n",
    ")"
   ]
  },
  {
   "cell_type": "markdown",
   "id": "47eced61",
   "metadata": {},
   "source": [
    "## Solving an XOR classification problem"
   ]
  },
  {
   "cell_type": "code",
   "execution_count": 46,
   "id": "79a85507",
   "metadata": {},
   "outputs": [
    {
     "data": {
      "image/png": "[encoded data removed]",
      "text/plain": [
       "<Figure size 432x432 with 1 Axes>"
      ]
     },
     "metadata": {
      "needs_background": "light"
     },
     "output_type": "display_data"
    }
   ],
   "source": [
    "import numpy as np\n",
    "import matplotlib.pyplot as plt\n",
    "\n",
    "tf.random.set_seed(1)\n",
    "np.random.seed(1)\n",
    "\n",
    "x = np.random.uniform(low=-1, high=1, size=(200,2))\n",
    "y = np.ones(len(x))\n",
    "y[x[:,0]*x[:,1]<0] = 0\n",
    "\n",
    "x_train = x[:100, :]\n",
    "y_train = y[:100]\n",
    "x_valid = x[100:, :]\n",
    "y_valid = y[100:]\n",
    "\n",
    "fig = plt.figure(figsize=(6,6))\n",
    "plt.plot(x[y==0,0], x[y==0,1], 'o', alpha=0.75, markersize=10)\n",
    "plt.plot(x[y==1,0], x[y==1,1], '<', alpha=0.75, markersize=10)\n",
    "plt.xlabel(r'$x_1$',size=15)\n",
    "plt.ylabel(r'$x_2$',size=15)\n",
    "plt.show()"
   ]
  },
  {
   "cell_type": "code",
   "execution_count": 47,
   "id": "ac4a7ad3",
   "metadata": {},
   "outputs": [
    {
     "name": "stdout",
     "output_type": "stream",
     "text": [
      "Model: \"sequential_2\"\n",
      "_________________________________________________________________\n",
      "Layer (type)                 Output Shape              Param #   \n",
      "=================================================================\n",
      "dense_4 (Dense)              (None, 1)                 3         \n",
      "=================================================================\n",
      "Total params: 3\n",
      "Trainable params: 3\n",
      "Non-trainable params: 0\n",
      "_________________________________________________________________\n"
     ]
    }
   ],
   "source": [
    "model = tf.keras.Sequential()\n",
    "model.add(tf.keras.layers.Dense(units=1,\n",
    "                                input_shape=(2,),\n",
    "                                activation='sigmoid'))\n",
    "model.summary()"
   ]
  },
  {
   "cell_type": "code",
   "execution_count": 48,
   "id": "f2bef499",
   "metadata": {},
   "outputs": [],
   "source": [
    "model.compile(optimizer=tf.keras.optimizers.SGD(),\n",
    "              loss=tf.keras.losses.BinaryCrossentropy(),\n",
    "              metrics=[tf.keras.metrics.BinaryAccuracy()])"
   ]
  },
  {
   "cell_type": "code",
   "execution_count": 49,
   "id": "bb475c45",
   "metadata": {},
   "outputs": [],
   "source": [
    "hist = model.fit(x_train,y_train,\n",
    "                 validation_data=(x_valid, y_valid),\n",
    "                 epochs=200, batch_size=2, verbose=0)"
   ]
  },
  {
   "cell_type": "code",
   "execution_count": 50,
   "id": "b9bc95d0",
   "metadata": {},
   "outputs": [
    {
     "name": "stderr",
     "output_type": "stream",
     "text": [
      "/home/lunet/ttrmc/anaconda3/envs/tf-gpu-cuda10/lib/python3.7/site-packages/ipykernel_launcher.py:19: DeprecationWarning: Converting `np.integer` or `np.signedinteger` to a dtype is deprecated. The current result is `np.dtype(np.int_)` which is not strictly correct. Note that the result depends on the system. To ensure stable results use may want to use `np.int64` or `np.int32`.\n"
     ]
    },
    {
     "data": {
      "image/png": "[encoded data removed]",
      "text/plain": [
       "<Figure size 1152x288 with 3 Axes>"
      ]
     },
     "metadata": {
      "needs_background": "light"
     },
     "output_type": "display_data"
    }
   ],
   "source": [
    "from mlxtend.plotting import plot_decision_regions\n",
    "\n",
    "history = hist.history\n",
    "\n",
    "fig = plt.figure(figsize=(16,4))\n",
    "ax = fig.add_subplot(1,3,1)\n",
    "plt.plot(history['loss'],lw=4)\n",
    "plt.plot(history['val_loss'], lw=4)\n",
    "plt.legend(['Train loss', 'Validation loss'], fontsize=15)\n",
    "ax.set_xlabel('Epochs', size=15)\n",
    "\n",
    "ax = fig.add_subplot(1,3,2)\n",
    "plt.plot(history['binary_accuracy'], lw=4)\n",
    "plt.plot(history['val_binary_accuracy'], lw=4)\n",
    "plt.legend(['Train Acc.', 'Validation Acc.'], fontsize=15)\n",
    "ax.set_xlabel('Epochs', size=15)\n",
    "\n",
    "ax = fig.add_subplot(1,3,3)\n",
    "plot_decision_regions(X=x_valid, y=y_valid.astype(np.integer), clf=model)\n",
    "ax.set_xlabel(r'$x_1$', size=15)\n",
    "ax.xaxis.set_label_coords(1,-0.025)\n",
    "ax.set_ylabel(r'$x_2$',size=15)\n",
    "ax.yaxis.set_label_coords(-0.025,1)\n",
    "plt.show()"
   ]
  },
  {
   "cell_type": "code",
   "execution_count": 51,
   "id": "ccfbf907",
   "metadata": {},
   "outputs": [
    {
     "name": "stdout",
     "output_type": "stream",
     "text": [
      "Model: \"sequential_3\"\n",
      "_________________________________________________________________\n",
      "Layer (type)                 Output Shape              Param #   \n",
      "=================================================================\n",
      "dense_5 (Dense)              (None, 4)                 12        \n",
      "_________________________________________________________________\n",
      "dense_6 (Dense)              (None, 4)                 20        \n",
      "_________________________________________________________________\n",
      "dense_7 (Dense)              (None, 4)                 20        \n",
      "_________________________________________________________________\n",
      "dense_8 (Dense)              (None, 1)                 5         \n",
      "=================================================================\n",
      "Total params: 57\n",
      "Trainable params: 57\n",
      "Non-trainable params: 0\n",
      "_________________________________________________________________\n"
     ]
    }
   ],
   "source": [
    "model = tf.keras.Sequential()\n",
    "model.add(tf.keras.layers.Dense(units=4,input_shape=(2,),activation='relu'))\n",
    "model.add(tf.keras.layers.Dense(units=4,activation='relu'))\n",
    "model.add(tf.keras.layers.Dense(units=4,activation='relu'))\n",
    "model.add(tf.keras.layers.Dense(units=1,activation='sigmoid'))\n",
    "model.summary()"
   ]
  },
  {
   "cell_type": "code",
   "execution_count": 52,
   "id": "269ea255",
   "metadata": {},
   "outputs": [],
   "source": [
    "## compile:\n",
    "model.compile(optimizer=tf.keras.optimizers.SGD(),\n",
    "              loss=tf.keras.losses.BinaryCrossentropy(),\n",
    "              metrics=[tf.keras.metrics.BinaryAccuracy()])"
   ]
  },
  {
   "cell_type": "code",
   "execution_count": 53,
   "id": "a7d1ffc8",
   "metadata": {},
   "outputs": [],
   "source": [
    "## train:\n",
    "hist = model.fit(x_train, y_train,\n",
    "                 validation_data=(x_valid, y_valid),\n",
    "                 epochs=200, batch_size=2, verbose=0)"
   ]
  },
  {
   "cell_type": "code",
   "execution_count": 54,
   "id": "ad908d52",
   "metadata": {},
   "outputs": [
    {
     "name": "stderr",
     "output_type": "stream",
     "text": [
      "/home/lunet/ttrmc/anaconda3/envs/tf-gpu-cuda10/lib/python3.7/site-packages/ipykernel_launcher.py:17: DeprecationWarning: Converting `np.integer` or `np.signedinteger` to a dtype is deprecated. The current result is `np.dtype(np.int_)` which is not strictly correct. Note that the result depends on the system. To ensure stable results use may want to use `np.int64` or `np.int32`.\n"
     ]
    },
    {
     "data": {
      "image/png": "[encoded data removed]",
      "text/plain": [
       "<Figure size 1152x288 with 3 Axes>"
      ]
     },
     "metadata": {
      "needs_background": "light"
     },
     "output_type": "display_data"
    }
   ],
   "source": [
    "history = hist.history\n",
    "\n",
    "fig = plt.figure(figsize=(16,4))\n",
    "ax = fig.add_subplot(1,3,1)\n",
    "plt.plot(history['loss'],lw=4)\n",
    "plt.plot(history['val_loss'], lw=4)\n",
    "plt.legend(['Train loss', 'Validation loss'], fontsize=15)\n",
    "ax.set_xlabel('Epochs', size=15)\n",
    "\n",
    "ax = fig.add_subplot(1,3,2)\n",
    "plt.plot(history['binary_accuracy'], lw=4)\n",
    "plt.plot(history['val_binary_accuracy'], lw=4)\n",
    "plt.legend(['Train Acc.', 'Validation Acc.'], fontsize=15)\n",
    "ax.set_xlabel('Epochs', size=15)\n",
    "\n",
    "ax = fig.add_subplot(1,3,3)\n",
    "plot_decision_regions(X=x_valid, y=y_valid.astype(np.integer), clf=model)\n",
    "ax.set_xlabel(r'$x_1$', size=15)\n",
    "ax.xaxis.set_label_coords(1,-0.025)\n",
    "ax.set_ylabel(r'$x_2$',size=15)\n",
    "ax.yaxis.set_label_coords(-0.025,1)\n",
    "plt.show()"
   ]
  },
  {
   "cell_type": "markdown",
   "id": "b819bf1b",
   "metadata": {},
   "source": [
    "# Flexible model building with Keras' functional API"
   ]
  },
  {
   "cell_type": "code",
   "execution_count": 55,
   "id": "565df98c",
   "metadata": {},
   "outputs": [
    {
     "name": "stdout",
     "output_type": "stream",
     "text": [
      "Model: \"model\"\n",
      "_________________________________________________________________\n",
      "Layer (type)                 Output Shape              Param #   \n",
      "=================================================================\n",
      "input_1 (InputLayer)         [(None, 2)]               0         \n",
      "_________________________________________________________________\n",
      "dense_9 (Dense)              (None, 4)                 12        \n",
      "_________________________________________________________________\n",
      "dense_10 (Dense)             (None, 4)                 20        \n",
      "_________________________________________________________________\n",
      "dense_11 (Dense)             (None, 4)                 20        \n",
      "_________________________________________________________________\n",
      "dense_12 (Dense)             (None, 1)                 5         \n",
      "=================================================================\n",
      "Total params: 57\n",
      "Trainable params: 57\n",
      "Non-trainable params: 0\n",
      "_________________________________________________________________\n"
     ]
    }
   ],
   "source": [
    "## input layer:\n",
    "inputs = tf.keras.Input(shape=(2,))\n",
    "\n",
    "## hidden layers\n",
    "h1 = tf.keras.layers.Dense(units=4, activation='relu')(inputs)\n",
    "h2 = tf.keras.layers.Dense(units=4, activation='relu')(h1)\n",
    "h3 = tf.keras.layers.Dense(units=4, activation='relu')(h2)\n",
    "\n",
    "## output:\n",
    "outputs = tf.keras.layers.Dense(units=1, activation='sigmoid')(h3)\n",
    "\n",
    "## construct a model:\n",
    "model = tf.keras.Model(inputs=inputs, outputs=outputs)\n",
    "\n",
    "model.summary()"
   ]
  },
  {
   "cell_type": "code",
   "execution_count": 56,
   "id": "490709d4",
   "metadata": {},
   "outputs": [],
   "source": [
    "## compile:\n",
    "model.compile(optimizer=tf.keras.optimizers.SGD(),\n",
    "              loss=tf.keras.losses.BinaryCrossentropy(),\n",
    "              metrics=[tf.keras.metrics.BinaryAccuracy()])"
   ]
  },
  {
   "cell_type": "code",
   "execution_count": 57,
   "id": "37acfdfd",
   "metadata": {},
   "outputs": [],
   "source": [
    "## train:\n",
    "hist = model.fit(x_train, y_train,\n",
    "                 validation_data=(x_valid, y_valid),\n",
    "                 epochs=200, batch_size=2, verbose=0)"
   ]
  },
  {
   "cell_type": "code",
   "execution_count": 58,
   "id": "ed3e8056",
   "metadata": {},
   "outputs": [
    {
     "name": "stderr",
     "output_type": "stream",
     "text": [
      "/home/lunet/ttrmc/anaconda3/envs/tf-gpu-cuda10/lib/python3.7/site-packages/ipykernel_launcher.py:17: DeprecationWarning: Converting `np.integer` or `np.signedinteger` to a dtype is deprecated. The current result is `np.dtype(np.int_)` which is not strictly correct. Note that the result depends on the system. To ensure stable results use may want to use `np.int64` or `np.int32`.\n"
     ]
    },
    {
     "data": {
      "image/png": "[encoded data removed]",
      "text/plain": [
       "<Figure size 1152x288 with 3 Axes>"
      ]
     },
     "metadata": {
      "needs_background": "light"
     },
     "output_type": "display_data"
    }
   ],
   "source": [
    "history = hist.history\n",
    "\n",
    "fig = plt.figure(figsize=(16,4))\n",
    "ax = fig.add_subplot(1,3,1)\n",
    "plt.plot(history['loss'],lw=4)\n",
    "plt.plot(history['val_loss'], lw=4)\n",
    "plt.legend(['Train loss', 'Validation loss'], fontsize=15)\n",
    "ax.set_xlabel('Epochs', size=15)\n",
    "\n",
    "ax = fig.add_subplot(1,3,2)\n",
    "plt.plot(history['binary_accuracy'], lw=4)\n",
    "plt.plot(history['val_binary_accuracy'], lw=4)\n",
    "plt.legend(['Train Acc.', 'Validation Acc.'], fontsize=15)\n",
    "ax.set_xlabel('Epochs', size=15)\n",
    "\n",
    "ax = fig.add_subplot(1,3,3)\n",
    "plot_decision_regions(X=x_valid, y=y_valid.astype(np.integer), clf=model)\n",
    "ax.set_xlabel(r'$x_1$', size=15)\n",
    "ax.xaxis.set_label_coords(1,-0.025)\n",
    "ax.set_ylabel(r'$x_2$',size=15)\n",
    "ax.yaxis.set_label_coords(-0.025,1)\n",
    "plt.show()"
   ]
  },
  {
   "cell_type": "markdown",
   "id": "61cd28a6",
   "metadata": {},
   "source": [
    "# Implementing models based on Keras' Model class"
   ]
  },
  {
   "cell_type": "code",
   "execution_count": 59,
   "id": "efae8c17",
   "metadata": {},
   "outputs": [],
   "source": [
    "class MyModel(tf.keras.Model):\n",
    "    def __init__(self):\n",
    "        super(MyModel, self).__init__()\n",
    "        self.hidden_1 = tf.keras.layers.Dense(units=4, activation='relu')\n",
    "        self.hidden_2 = tf.keras.layers.Dense(units=4, activation='relu')\n",
    "        self.hidden_3 = tf.keras.layers.Dense(units=4, activation='relu')\n",
    "        self.output_layer = tf.keras.layers.Dense(units=1, activation='sigmoid')\n",
    "        \n",
    "    def call(self, inputs):\n",
    "        h = self.hidden_1(inputs)\n",
    "        h = self.hidden_2(h)\n",
    "        h = self.hidden_3(h)\n",
    "        return self.output_layer(h)"
   ]
  },
  {
   "cell_type": "code",
   "execution_count": 60,
   "id": "e93d89aa",
   "metadata": {},
   "outputs": [
    {
     "name": "stdout",
     "output_type": "stream",
     "text": [
      "Model: \"my_model\"\n",
      "_________________________________________________________________\n",
      "Layer (type)                 Output Shape              Param #   \n",
      "=================================================================\n",
      "dense_13 (Dense)             multiple                  12        \n",
      "_________________________________________________________________\n",
      "dense_14 (Dense)             multiple                  20        \n",
      "_________________________________________________________________\n",
      "dense_15 (Dense)             multiple                  20        \n",
      "_________________________________________________________________\n",
      "dense_16 (Dense)             multiple                  5         \n",
      "=================================================================\n",
      "Total params: 57\n",
      "Trainable params: 57\n",
      "Non-trainable params: 0\n",
      "_________________________________________________________________\n"
     ]
    }
   ],
   "source": [
    "model = MyModel()\n",
    "model.build(input_shape=(None,2))\n",
    "model.summary()"
   ]
  },
  {
   "cell_type": "code",
   "execution_count": 61,
   "id": "bbb816ee",
   "metadata": {},
   "outputs": [],
   "source": [
    "## compile:\n",
    "model.compile(optimizer=tf.keras.optimizers.SGD(),\n",
    "              loss=tf.keras.losses.BinaryCrossentropy(),\n",
    "              metrics=[tf.keras.metrics.BinaryAccuracy()])"
   ]
  },
  {
   "cell_type": "code",
   "execution_count": 62,
   "id": "45e7584b",
   "metadata": {},
   "outputs": [],
   "source": [
    "## train:\n",
    "hist = model.fit(x_train, y_train,\n",
    "                 validation_data=(x_valid, y_valid),\n",
    "                 epochs=200, batch_size=2, verbose=0)"
   ]
  },
  {
   "cell_type": "code",
   "execution_count": 63,
   "id": "1c220f5f",
   "metadata": {},
   "outputs": [
    {
     "name": "stderr",
     "output_type": "stream",
     "text": [
      "/home/lunet/ttrmc/anaconda3/envs/tf-gpu-cuda10/lib/python3.7/site-packages/ipykernel_launcher.py:17: DeprecationWarning: Converting `np.integer` or `np.signedinteger` to a dtype is deprecated. The current result is `np.dtype(np.int_)` which is not strictly correct. Note that the result depends on the system. To ensure stable results use may want to use `np.int64` or `np.int32`.\n"
     ]
    },
    {
     "data": {
      "image/png": "[encoded data removed]",
      "text/plain": [
       "<Figure size 1152x288 with 3 Axes>"
      ]
     },
     "metadata": {
      "needs_background": "light"
     },
     "output_type": "display_data"
    }
   ],
   "source": [
    "history = hist.history\n",
    "\n",
    "fig = plt.figure(figsize=(16,4))\n",
    "ax = fig.add_subplot(1,3,1)\n",
    "plt.plot(history['loss'],lw=4)\n",
    "plt.plot(history['val_loss'], lw=4)\n",
    "plt.legend(['Train loss', 'Validation loss'], fontsize=15)\n",
    "ax.set_xlabel('Epochs', size=15)\n",
    "\n",
    "ax = fig.add_subplot(1,3,2)\n",
    "plt.plot(history['binary_accuracy'], lw=4)\n",
    "plt.plot(history['val_binary_accuracy'], lw=4)\n",
    "plt.legend(['Train Acc.', 'Validation Acc.'], fontsize=15)\n",
    "ax.set_xlabel('Epochs', size=15)\n",
    "\n",
    "ax = fig.add_subplot(1,3,3)\n",
    "plot_decision_regions(X=x_valid, y=y_valid.astype(np.integer), clf=model)\n",
    "ax.set_xlabel(r'$x_1$', size=15)\n",
    "ax.xaxis.set_label_coords(1,-0.025)\n",
    "ax.set_ylabel(r'$x_2$',size=15)\n",
    "ax.yaxis.set_label_coords(-0.025,1)\n",
    "plt.show()"
   ]
  },
  {
   "cell_type": "markdown",
   "id": "69944f5b",
   "metadata": {},
   "source": [
    "# Writing custom keras layers"
   ]
  },
  {
   "cell_type": "code",
   "execution_count": 64,
   "id": "65bafec6",
   "metadata": {},
   "outputs": [],
   "source": [
    "class NoisyLinear(tf.keras.layers.Layer):\n",
    "    def __init__(self, output_dim, noise_stddev=0.1, **kwargs):\n",
    "        self.output_dim = output_dim\n",
    "        self.noise_stddev = noise_stddev\n",
    "        super(NoisyLinear, self).__init__(**kwargs)\n",
    "        \n",
    "    def build(self, input_shape):\n",
    "        self.w = self.add_weight(name='weights',\n",
    "                                 shape=(input_shape[1], self.output_dim),\n",
    "                                 initializer='random_normal',\n",
    "                                 trainable=True)\n",
    "        \n",
    "        self.b = self.add_weight(shape=(self.output_dim,),\n",
    "                                 initializer='zeros',\n",
    "                                 trainable=True)\n",
    "        \n",
    "    def call(self, inputs, training=False):\n",
    "        if training:\n",
    "            batch = tf.shape(inputs)[0]\n",
    "            dim = tf.shape(inputs)[1]\n",
    "            noise = tf.random.normal(shape=(batch, dim),\n",
    "                                     mean=0.0,\n",
    "                                     stddev=self.noise_stddev)\n",
    "            \n",
    "            noisy_inputs = tf.add(inputs, noise)\n",
    "        else:\n",
    "            noisy_inputs = inputs\n",
    "        z = tf.matmul(noisy_inputs, self.w) + self.b\n",
    "        return tf.keras.activations.relu(z)\n",
    "    \n",
    "    def get_config(self):\n",
    "        config = super(NoisyLinear, self).get_config()\n",
    "        config.update({'output_dim': self.output_dim,\n",
    "                       'noise_stddev': self.noise_stddev})\n",
    "        return config"
   ]
  },
  {
   "cell_type": "code",
   "execution_count": 67,
   "id": "a7a6e38d",
   "metadata": {},
   "outputs": [
    {
     "name": "stdout",
     "output_type": "stream",
     "text": [
      "[[0 0 0.00372218573 0.0130317742]]\n",
      "[[0 0.000146614708 0 0]]\n"
     ]
    }
   ],
   "source": [
    "noisy_layer = NoisyLinear(4)\n",
    "noisy_layer.build(input_shape=(None,4))\n",
    "\n",
    "x = tf.zeros(shape=(1,4))\n",
    "tf.print(noisy_layer(x, training=True))\n",
    "\n",
    "## re-building from config:\n",
    "config = noisy_layer.get_config()\n",
    "new_layer = NoisyLinear.from_config(config)\n",
    "tf.print(new_layer(x,training=True))"
   ]
  },
  {
   "cell_type": "code",
   "execution_count": 68,
   "id": "78b08d2d",
   "metadata": {},
   "outputs": [],
   "source": [
    "model = tf.keras.Sequential([\n",
    "    NoisyLinear(4, noise_stddev=0.1),\n",
    "    tf.keras.layers.Dense(units=4, activation='relu'),\n",
    "    tf.keras.layers.Dense(units=4, activation='relu'),\n",
    "    tf.keras.layers.Dense(units=1, activation='sigmoid')\n",
    "])"
   ]
  },
  {
   "cell_type": "code",
   "execution_count": 69,
   "id": "5b515d9d",
   "metadata": {},
   "outputs": [
    {
     "name": "stdout",
     "output_type": "stream",
     "text": [
      "Model: \"sequential_4\"\n",
      "_________________________________________________________________\n",
      "Layer (type)                 Output Shape              Param #   \n",
      "=================================================================\n",
      "noisy_linear_3 (NoisyLinear) multiple                  12        \n",
      "_________________________________________________________________\n",
      "dense_17 (Dense)             multiple                  20        \n",
      "_________________________________________________________________\n",
      "dense_18 (Dense)             multiple                  20        \n",
      "_________________________________________________________________\n",
      "dense_19 (Dense)             multiple                  5         \n",
      "=================================================================\n",
      "Total params: 57\n",
      "Trainable params: 57\n",
      "Non-trainable params: 0\n",
      "_________________________________________________________________\n"
     ]
    }
   ],
   "source": [
    "model.build(input_shape=(None,2))\n",
    "model.summary()"
   ]
  },
  {
   "cell_type": "code",
   "execution_count": 70,
   "id": "288b6871",
   "metadata": {},
   "outputs": [],
   "source": [
    "## compile:\n",
    "model.compile(optimizer=tf.keras.optimizers.SGD(),\n",
    "              loss=tf.keras.losses.BinaryCrossentropy(),\n",
    "              metrics=[tf.keras.metrics.BinaryAccuracy()])"
   ]
  },
  {
   "cell_type": "code",
   "execution_count": 71,
   "id": "951ede1e",
   "metadata": {},
   "outputs": [],
   "source": [
    "## train:\n",
    "hist = model.fit(x_train, y_train,\n",
    "                 validation_data=(x_valid, y_valid),\n",
    "                 epochs=200, batch_size=2, verbose=0)"
   ]
  },
  {
   "cell_type": "code",
   "execution_count": 72,
   "id": "9d4e879e",
   "metadata": {},
   "outputs": [
    {
     "name": "stderr",
     "output_type": "stream",
     "text": [
      "/home/lunet/ttrmc/anaconda3/envs/tf-gpu-cuda10/lib/python3.7/site-packages/ipykernel_launcher.py:17: DeprecationWarning: Converting `np.integer` or `np.signedinteger` to a dtype is deprecated. The current result is `np.dtype(np.int_)` which is not strictly correct. Note that the result depends on the system. To ensure stable results use may want to use `np.int64` or `np.int32`.\n",
      "/home/lunet/ttrmc/anaconda3/envs/tf-gpu-cuda10/lib/python3.7/site-packages/mlxtend/plotting/decision_regions.py:246: UserWarning: No contour levels were found within the data range.\n",
      "  antialiased=True)\n"
     ]
    },
    {
     "data": {
      "image/png": "[encoded data removed]",
      "text/plain": [
       "<Figure size 1152x288 with 3 Axes>"
      ]
     },
     "metadata": {
      "needs_background": "light"
     },
     "output_type": "display_data"
    }
   ],
   "source": [
    "history = hist.history\n",
    "\n",
    "fig = plt.figure(figsize=(16,4))\n",
    "ax = fig.add_subplot(1,3,1)\n",
    "plt.plot(history['loss'],lw=4)\n",
    "plt.plot(history['val_loss'], lw=4)\n",
    "plt.legend(['Train loss', 'Validation loss'], fontsize=15)\n",
    "ax.set_xlabel('Epochs', size=15)\n",
    "\n",
    "ax = fig.add_subplot(1,3,2)\n",
    "plt.plot(history['binary_accuracy'], lw=4)\n",
    "plt.plot(history['val_binary_accuracy'], lw=4)\n",
    "plt.legend(['Train Acc.', 'Validation Acc.'], fontsize=15)\n",
    "ax.set_xlabel('Epochs', size=15)\n",
    "\n",
    "ax = fig.add_subplot(1,3,3)\n",
    "plot_decision_regions(X=x_valid, y=y_valid.astype(np.integer), clf=model)\n",
    "ax.set_xlabel(r'$x_1$', size=15)\n",
    "ax.xaxis.set_label_coords(1,-0.025)\n",
    "ax.set_ylabel(r'$x_2$',size=15)\n",
    "ax.yaxis.set_label_coords(-0.025,1)\n",
    "plt.show()"
   ]
  },
  {
   "cell_type": "code",
   "execution_count": 73,
   "id": "2ac3c03d",
   "metadata": {},
   "outputs": [],
   "source": [
    "## error in the validation data"
   ]
  },
  {
   "cell_type": "markdown",
   "id": "fd37f7d4",
   "metadata": {},
   "source": [
    "# TensorFlow Estimators"
   ]
  },
  {
   "cell_type": "code",
   "execution_count": 74,
   "id": "4b3526df",
   "metadata": {},
   "outputs": [
    {
     "name": "stdout",
     "output_type": "stream",
     "text": [
      "Downloading data from http://archive.ics.uci.edu/ml/machine-learning-databases/auto-mpg/auto-mpg.data\n",
      "32768/30286 [================================] - 0s 4us/step\n"
     ]
    }
   ],
   "source": [
    "import pandas as pd\n",
    "\n",
    "dataset_path = tf.keras.utils.get_file(\"auto-mpg.data\",\n",
    "                                      (\"http://archive.ics.uci.edu/ml/machine-learning\"\n",
    "                                       \"-databases/auto-mpg/auto-mpg.data\"))\n",
    "\n",
    "column_names = ['MPG', 'Cylinders', 'Displacement', 'Horsepower', \n",
    "                'Weight', 'Acceleration', 'ModelYear', 'Origin']\n",
    "\n",
    "df = pd.read_csv(dataset_path, names=column_names, na_values='?', comment='\\t', sep=' ', skipinitialspace=True)"
   ]
  },
  {
   "cell_type": "code",
   "execution_count": 75,
   "id": "915f2f11",
   "metadata": {},
   "outputs": [],
   "source": [
    "## drop the NA rows\n",
    "df = df.dropna()\n",
    "df = df.reset_index(drop=True)"
   ]
  },
  {
   "cell_type": "code",
   "execution_count": 77,
   "id": "2c2382a6",
   "metadata": {},
   "outputs": [
    {
     "data": {
      "text/html": [
       "<div>\n",
       "<style scoped>\n",
       "    .dataframe tbody tr th:only-of-type {\n",
       "        vertical-align: middle;\n",
       "    }\n",
       "\n",
       "    .dataframe tbody tr th {\n",
       "        vertical-align: top;\n",
       "    }\n",
       "\n",
       "    .dataframe thead th {\n",
       "        text-align: right;\n",
       "    }\n",
       "</style>\n",
       "<table border=\"1\" class=\"dataframe\">\n",
       "  <thead>\n",
       "    <tr style=\"text-align: right;\">\n",
       "      <th></th>\n",
       "      <th>MPG</th>\n",
       "      <th>Cylinders</th>\n",
       "      <th>Displacement</th>\n",
       "      <th>Horsepower</th>\n",
       "      <th>Weight</th>\n",
       "      <th>Acceleration</th>\n",
       "      <th>ModelYear</th>\n",
       "      <th>Origin</th>\n",
       "    </tr>\n",
       "  </thead>\n",
       "  <tbody>\n",
       "    <tr>\n",
       "      <th>371</th>\n",
       "      <td>31.0</td>\n",
       "      <td>-0.852161</td>\n",
       "      <td>-0.961659</td>\n",
       "      <td>-0.934187</td>\n",
       "      <td>-1.152854</td>\n",
       "      <td>0.758748</td>\n",
       "      <td>82</td>\n",
       "      <td>3</td>\n",
       "    </tr>\n",
       "    <tr>\n",
       "      <th>170</th>\n",
       "      <td>25.0</td>\n",
       "      <td>-0.852161</td>\n",
       "      <td>-0.970942</td>\n",
       "      <td>-0.858462</td>\n",
       "      <td>-0.865478</td>\n",
       "      <td>0.361852</td>\n",
       "      <td>75</td>\n",
       "      <td>2</td>\n",
       "    </tr>\n",
       "    <tr>\n",
       "      <th>179</th>\n",
       "      <td>33.0</td>\n",
       "      <td>-0.852161</td>\n",
       "      <td>-0.961659</td>\n",
       "      <td>-1.312814</td>\n",
       "      <td>-1.351632</td>\n",
       "      <td>0.722667</td>\n",
       "      <td>75</td>\n",
       "      <td>3</td>\n",
       "    </tr>\n",
       "    <tr>\n",
       "      <th>232</th>\n",
       "      <td>24.5</td>\n",
       "      <td>-0.852161</td>\n",
       "      <td>-0.404640</td>\n",
       "      <td>-0.429352</td>\n",
       "      <td>-0.278231</td>\n",
       "      <td>0.181445</td>\n",
       "      <td>77</td>\n",
       "      <td>1</td>\n",
       "    </tr>\n",
       "    <tr>\n",
       "      <th>178</th>\n",
       "      <td>25.0</td>\n",
       "      <td>-0.852161</td>\n",
       "      <td>-0.683149</td>\n",
       "      <td>0.252176</td>\n",
       "      <td>-0.356606</td>\n",
       "      <td>-0.720592</td>\n",
       "      <td>75</td>\n",
       "      <td>2</td>\n",
       "    </tr>\n",
       "  </tbody>\n",
       "</table>\n",
       "</div>"
      ],
      "text/plain": [
       "      MPG  Cylinders  Displacement  Horsepower    Weight  Acceleration  \\\n",
       "371  31.0  -0.852161     -0.961659   -0.934187 -1.152854      0.758748   \n",
       "170  25.0  -0.852161     -0.970942   -0.858462 -0.865478      0.361852   \n",
       "179  33.0  -0.852161     -0.961659   -1.312814 -1.351632      0.722667   \n",
       "232  24.5  -0.852161     -0.404640   -0.429352 -0.278231      0.181445   \n",
       "178  25.0  -0.852161     -0.683149    0.252176 -0.356606     -0.720592   \n",
       "\n",
       "     ModelYear  Origin  \n",
       "371         82       3  \n",
       "170         75       2  \n",
       "179         75       3  \n",
       "232         77       1  \n",
       "178         75       2  "
      ]
     },
     "execution_count": 77,
     "metadata": {},
     "output_type": "execute_result"
    }
   ],
   "source": [
    "## train/test splits:\n",
    "import sklearn\n",
    "import sklearn.model_selection\n",
    "\n",
    "df_train, df_test = sklearn.model_selection.train_test_split(df, train_size=0.8)\n",
    "train_stats = df_train.describe().transpose()\n",
    "\n",
    "numeric_column_names = ['Cylinders', 'Displacement', 'Horsepower',\n",
    "                        'Weight', 'Acceleration']\n",
    "\n",
    "df_train_norm, df_test_norm = df_train.copy(), df_test.copy()\n",
    "\n",
    "for col_name in numeric_column_names:\n",
    "    mean = train_stats.loc[col_name, 'mean']\n",
    "    std = train_stats.loc[col_name, 'std']\n",
    "    df_train_norm.loc[:, col_name] = (df_train_norm.loc[:, col_name] - mean)/std\n",
    "    df_test_norm.loc[:, col_name] = (df_test_norm.loc[:, col_name] - mean)/std\n",
    "    \n",
    "df_train_norm.tail()"
   ]
  },
  {
   "cell_type": "code",
   "execution_count": 78,
   "id": "bea0ef20",
   "metadata": {},
   "outputs": [],
   "source": [
    "numeric_features = []\n",
    "for col_name in numeric_column_names:\n",
    "    numeric_features.append(tf.feature_column.numeric_column(key=col_name))"
   ]
  },
  {
   "cell_type": "code",
   "execution_count": 79,
   "id": "d3673570",
   "metadata": {},
   "outputs": [],
   "source": [
    "feature_year = tf.feature_column.numeric_column(key='ModelYear')\n",
    "bucketized_features = []\n",
    "bucketized_features.append(\n",
    "    tf.feature_column.bucketized_column(\n",
    "        source_column=feature_year,\n",
    "        boundaries=[73, 76, 79]))"
   ]
  },
  {
   "cell_type": "code",
   "execution_count": 82,
   "id": "99673d9a",
   "metadata": {},
   "outputs": [],
   "source": [
    "feature_origin = tf.feature_column.categorical_column_with_vocabulary_list(\n",
    "                    key='Origin',\n",
    "                    vocabulary_list=[1,2,3])"
   ]
  },
  {
   "cell_type": "code",
   "execution_count": 83,
   "id": "e77c74e2",
   "metadata": {},
   "outputs": [],
   "source": [
    "categorical_indicator_features = []\n",
    "categorical_indicator_features.append(\n",
    "    tf.feature_column.indicator_column(feature_origin))"
   ]
  },
  {
   "cell_type": "markdown",
   "id": "2a8a3262",
   "metadata": {},
   "source": [
    "# Machine learning with pre-made Estimators (Regression)"
   ]
  },
  {
   "cell_type": "markdown",
   "id": "a7930d04",
   "metadata": {},
   "source": [
    "## input function for training data"
   ]
  },
  {
   "cell_type": "code",
   "execution_count": 84,
   "id": "310062ea",
   "metadata": {},
   "outputs": [],
   "source": [
    "def train_input_fn(df_train, batch_size=8):\n",
    "    df = df_train.copy()\n",
    "    train_x, train_y = df, df.pop('MPG')\n",
    "    dataset = tf.data.Dataset.from_tensor_slices((dict(train_x), train_y))\n",
    "    \n",
    "    # shuffle, repeat, and batch the examples\n",
    "    return dataset.shuffle(1000).repeat().batch(batch_size)"
   ]
  },
  {
   "cell_type": "code",
   "execution_count": 85,
   "id": "c54a993d",
   "metadata": {},
   "outputs": [
    {
     "name": "stdout",
     "output_type": "stream",
     "text": [
      "Keys: dict_keys(['Cylinders', 'Displacement', 'Horsepower', 'Weight', 'Acceleration', 'ModelYear', 'Origin'])\n"
     ]
    }
   ],
   "source": [
    "ds = train_input_fn(df_train_norm)\n",
    "batch = next(iter(ds))\n",
    "print('Keys:', batch[0].keys())"
   ]
  },
  {
   "cell_type": "code",
   "execution_count": 86,
   "id": "ba29ea67",
   "metadata": {},
   "outputs": [
    {
     "name": "stdout",
     "output_type": "stream",
     "text": [
      "Batch Model Years: tf.Tensor([70 76 79 79 72 77 78 71], shape=(8,), dtype=int32)\n"
     ]
    }
   ],
   "source": [
    "print('Batch Model Years:', batch[0]['ModelYear'])"
   ]
  },
  {
   "cell_type": "markdown",
   "id": "f65ea933",
   "metadata": {},
   "source": [
    "## input function for test dataset"
   ]
  },
  {
   "cell_type": "code",
   "execution_count": 98,
   "id": "a765fd03",
   "metadata": {},
   "outputs": [],
   "source": [
    "def eval_input_fn(df_test, batch_size=8):\n",
    "    df = df_test.copy()\n",
    "    test_x, test_y = df, df.pop('MPG')\n",
    "    dataset = tf.data.Dataset.from_tensor_slices((dict(test_x), test_y))\n",
    "    return dataset.batch(batch_size)"
   ]
  },
  {
   "cell_type": "markdown",
   "id": "fc6b8184",
   "metadata": {},
   "source": [
    "## define the feature columns"
   ]
  },
  {
   "cell_type": "code",
   "execution_count": 88,
   "id": "2c405e2d",
   "metadata": {},
   "outputs": [],
   "source": [
    "all_feature_columns = (\n",
    "    numeric_features +\n",
    "    bucketized_features +\n",
    "    categorical_indicator_features)"
   ]
  },
  {
   "cell_type": "markdown",
   "id": "15ef4c74",
   "metadata": {},
   "source": [
    "## instantiate a new Estimator"
   ]
  },
  {
   "cell_type": "code",
   "execution_count": 89,
   "id": "9a1c88d4",
   "metadata": {},
   "outputs": [
    {
     "name": "stdout",
     "output_type": "stream",
     "text": [
      "INFO:tensorflow:Using default config.\n",
      "INFO:tensorflow:Using config: {'_model_dir': 'models/autompg-dnnregressor/', '_tf_random_seed': None, '_save_summary_steps': 100, '_save_checkpoints_steps': None, '_save_checkpoints_secs': 600, '_session_config': allow_soft_placement: true\n",
      "graph_options {\n",
      "  rewrite_options {\n",
      "    meta_optimizer_iterations: ONE\n",
      "  }\n",
      "}\n",
      ", '_keep_checkpoint_max': 5, '_keep_checkpoint_every_n_hours': 10000, '_log_step_count_steps': 100, '_train_distribute': None, '_device_fn': None, '_protocol': None, '_eval_distribute': None, '_experimental_distribute': None, '_experimental_max_worker_delay_secs': None, '_session_creation_timeout_secs': 7200, '_service': None, '_cluster_spec': <tensorflow.python.training.server_lib.ClusterSpec object at 0x7f4554115090>, '_task_type': 'worker', '_task_id': 0, '_global_id_in_cluster': 0, '_master': '', '_evaluation_master': '', '_is_chief': True, '_num_ps_replicas': 0, '_num_worker_replicas': 1}\n"
     ]
    }
   ],
   "source": [
    "regressor = tf.estimator.DNNRegressor(\n",
    "    feature_columns = all_feature_columns,\n",
    "    hidden_units = [32, 10],\n",
    "    model_dir = 'models/autompg-dnnregressor/')"
   ]
  },
  {
   "cell_type": "markdown",
   "id": "ed30544e",
   "metadata": {},
   "source": [
    "## train the Estimator"
   ]
  },
  {
   "cell_type": "code",
   "execution_count": 90,
   "id": "fa5219f4",
   "metadata": {},
   "outputs": [
    {
     "name": "stdout",
     "output_type": "stream",
     "text": [
      "Training Steps: 40000\n"
     ]
    }
   ],
   "source": [
    "EPOCHS = 1000\n",
    "BATCH_SIZE = 8\n",
    "total_steps = EPOCHS * int(np.ceil(len(df_train) / BATCH_SIZE))\n",
    "print('Training Steps:', total_steps)"
   ]
  },
  {
   "cell_type": "code",
   "execution_count": 91,
   "id": "1b215f58",
   "metadata": {},
   "outputs": [
    {
     "name": "stdout",
     "output_type": "stream",
     "text": [
      "WARNING:tensorflow:From /home/lunet/ttrmc/anaconda3/envs/tf-gpu-cuda10/lib/python3.7/site-packages/tensorflow_core/python/ops/resource_variable_ops.py:1630: calling BaseResourceVariable.__init__ (from tensorflow.python.ops.resource_variable_ops) with constraint is deprecated and will be removed in a future version.\n",
      "Instructions for updating:\n",
      "If using Keras pass *_constraint arguments to layers.\n",
      "WARNING:tensorflow:From /home/lunet/ttrmc/anaconda3/envs/tf-gpu-cuda10/lib/python3.7/site-packages/tensorflow_core/python/training/training_util.py:236: Variable.initialized_value (from tensorflow.python.ops.variables) is deprecated and will be removed in a future version.\n",
      "Instructions for updating:\n",
      "Use Variable.read_value. Variables in 2.X are initialized automatically both in eager and graph (inside tf.defun) contexts.\n",
      "INFO:tensorflow:Calling model_fn.\n",
      "WARNING:tensorflow:Layer dnn is casting an input tensor from dtype float64 to the layer's dtype of float32, which is new behavior in TensorFlow 2.  The layer has dtype float32 because it's dtype defaults to floatx.\n",
      "\n",
      "If you intended to run this layer in float32, you can safely ignore this warning. If in doubt, this warning is likely only an issue if you are porting a TensorFlow 1.X model to TensorFlow 2.\n",
      "\n",
      "To change all layers to have dtype float64 by default, call `tf.keras.backend.set_floatx('float64')`. To change just this layer, pass dtype='float64' to the layer constructor. If you are the author of this layer, you can disable autocasting by passing autocast=False to the base Layer constructor.\n",
      "\n",
      "WARNING:tensorflow:From /home/lunet/ttrmc/anaconda3/envs/tf-gpu-cuda10/lib/python3.7/site-packages/tensorflow_core/python/feature_column/feature_column_v2.py:4276: IndicatorColumn._variable_shape (from tensorflow.python.feature_column.feature_column_v2) is deprecated and will be removed in a future version.\n",
      "Instructions for updating:\n",
      "The old _FeatureColumn APIs are being deprecated. Please use the new FeatureColumn APIs instead.\n",
      "WARNING:tensorflow:From /home/lunet/ttrmc/anaconda3/envs/tf-gpu-cuda10/lib/python3.7/site-packages/tensorflow_core/python/feature_column/feature_column_v2.py:4331: VocabularyListCategoricalColumn._num_buckets (from tensorflow.python.feature_column.feature_column_v2) is deprecated and will be removed in a future version.\n",
      "Instructions for updating:\n",
      "The old _FeatureColumn APIs are being deprecated. Please use the new FeatureColumn APIs instead.\n",
      "WARNING:tensorflow:From /home/lunet/ttrmc/anaconda3/envs/tf-gpu-cuda10/lib/python3.7/site-packages/tensorflow_estimator/python/estimator/head/regression_head.py:156: to_float (from tensorflow.python.ops.math_ops) is deprecated and will be removed in a future version.\n",
      "Instructions for updating:\n",
      "Use `tf.cast` instead.\n",
      "WARNING:tensorflow:From /home/lunet/ttrmc/anaconda3/envs/tf-gpu-cuda10/lib/python3.7/site-packages/tensorflow_core/python/keras/optimizer_v2/adagrad.py:108: calling Constant.__init__ (from tensorflow.python.ops.init_ops) with dtype is deprecated and will be removed in a future version.\n",
      "Instructions for updating:\n",
      "Call initializer instance with the dtype argument instead of passing it to the constructor\n",
      "INFO:tensorflow:Done calling model_fn.\n",
      "INFO:tensorflow:Create CheckpointSaverHook.\n",
      "INFO:tensorflow:Graph was finalized.\n",
      "INFO:tensorflow:Running local_init_op.\n",
      "INFO:tensorflow:Done running local_init_op.\n"
     ]
    },
    {
     "name": "stderr",
     "output_type": "stream",
     "text": [
      "2022-02-02 12:39:52.412890: I tensorflow/stream_executor/cuda/cuda_gpu_executor.cc:1006] successful NUMA node read from SysFS had negative value (-1), but there must be at least one NUMA node, so returning NUMA node zero\n",
      "2022-02-02 12:39:52.413198: I tensorflow/core/common_runtime/gpu/gpu_device.cc:1618] Found device 0 with properties: \n",
      "name: GeForce RTX 2080 Ti major: 7 minor: 5 memoryClockRate(GHz): 1.545\n",
      "pciBusID: 0000:01:00.0\n",
      "2022-02-02 12:39:52.413260: I tensorflow/stream_executor/cuda/cuda_gpu_executor.cc:1006] successful NUMA node read from SysFS had negative value (-1), but there must be at least one NUMA node, so returning NUMA node zero\n",
      "2022-02-02 12:39:52.413795: I tensorflow/core/common_runtime/gpu/gpu_device.cc:1618] Found device 1 with properties: \n",
      "name: GeForce RTX 2080 Ti major: 7 minor: 5 memoryClockRate(GHz): 1.545\n",
      "pciBusID: 0000:02:00.0\n",
      "2022-02-02 12:39:52.413825: I tensorflow/stream_executor/platform/default/dso_loader.cc:44] Successfully opened dynamic library libcudart.so.10.0\n",
      "2022-02-02 12:39:52.413834: I tensorflow/stream_executor/platform/default/dso_loader.cc:44] Successfully opened dynamic library libcublas.so.10.0\n",
      "2022-02-02 12:39:52.413863: I tensorflow/stream_executor/platform/default/dso_loader.cc:44] Successfully opened dynamic library libcufft.so.10.0\n",
      "2022-02-02 12:39:52.413884: I tensorflow/stream_executor/platform/default/dso_loader.cc:44] Successfully opened dynamic library libcurand.so.10.0\n",
      "2022-02-02 12:39:52.413892: I tensorflow/stream_executor/platform/default/dso_loader.cc:44] Successfully opened dynamic library libcusolver.so.10.0\n",
      "2022-02-02 12:39:52.413900: I tensorflow/stream_executor/platform/default/dso_loader.cc:44] Successfully opened dynamic library libcusparse.so.10.0\n",
      "2022-02-02 12:39:52.413907: I tensorflow/stream_executor/platform/default/dso_loader.cc:44] Successfully opened dynamic library libcudnn.so.7\n",
      "2022-02-02 12:39:52.413944: I tensorflow/stream_executor/cuda/cuda_gpu_executor.cc:1006] successful NUMA node read from SysFS had negative value (-1), but there must be at least one NUMA node, so returning NUMA node zero\n",
      "2022-02-02 12:39:52.414224: I tensorflow/stream_executor/cuda/cuda_gpu_executor.cc:1006] successful NUMA node read from SysFS had negative value (-1), but there must be at least one NUMA node, so returning NUMA node zero\n",
      "2022-02-02 12:39:52.414614: I tensorflow/stream_executor/cuda/cuda_gpu_executor.cc:1006] successful NUMA node read from SysFS had negative value (-1), but there must be at least one NUMA node, so returning NUMA node zero\n",
      "2022-02-02 12:39:52.414858: I tensorflow/stream_executor/cuda/cuda_gpu_executor.cc:1006] successful NUMA node read from SysFS had negative value (-1), but there must be at least one NUMA node, so returning NUMA node zero\n",
      "2022-02-02 12:39:52.415262: I tensorflow/core/common_runtime/gpu/gpu_device.cc:1746] Adding visible gpu devices: 0, 1\n",
      "2022-02-02 12:39:52.415287: I tensorflow/core/common_runtime/gpu/gpu_device.cc:1159] Device interconnect StreamExecutor with strength 1 edge matrix:\n",
      "2022-02-02 12:39:52.415291: I tensorflow/core/common_runtime/gpu/gpu_device.cc:1165]      0 1 \n",
      "2022-02-02 12:39:52.415295: I tensorflow/core/common_runtime/gpu/gpu_device.cc:1178] 0:   N N \n",
      "2022-02-02 12:39:52.415297: I tensorflow/core/common_runtime/gpu/gpu_device.cc:1178] 1:   N N \n",
      "2022-02-02 12:39:52.415364: I tensorflow/stream_executor/cuda/cuda_gpu_executor.cc:1006] successful NUMA node read from SysFS had negative value (-1), but there must be at least one NUMA node, so returning NUMA node zero\n",
      "2022-02-02 12:39:52.415612: I tensorflow/stream_executor/cuda/cuda_gpu_executor.cc:1006] successful NUMA node read from SysFS had negative value (-1), but there must be at least one NUMA node, so returning NUMA node zero\n",
      "2022-02-02 12:39:52.416044: I tensorflow/stream_executor/cuda/cuda_gpu_executor.cc:1006] successful NUMA node read from SysFS had negative value (-1), but there must be at least one NUMA node, so returning NUMA node zero\n",
      "2022-02-02 12:39:52.416276: I tensorflow/core/common_runtime/gpu/gpu_device.cc:1304] Created TensorFlow device (/job:localhost/replica:0/task:0/device:GPU:0 with 9658 MB memory) -> physical GPU (device: 0, name: GeForce RTX 2080 Ti, pci bus id: 0000:01:00.0, compute capability: 7.5)\n",
      "2022-02-02 12:39:52.416315: I tensorflow/stream_executor/cuda/cuda_gpu_executor.cc:1006] successful NUMA node read from SysFS had negative value (-1), but there must be at least one NUMA node, so returning NUMA node zero\n",
      "2022-02-02 12:39:52.416681: I tensorflow/core/common_runtime/gpu/gpu_device.cc:1304] Created TensorFlow device (/job:localhost/replica:0/task:0/device:GPU:1 with 10310 MB memory) -> physical GPU (device: 1, name: GeForce RTX 2080 Ti, pci bus id: 0000:02:00.0, compute capability: 7.5)\n"
     ]
    },
    {
     "name": "stdout",
     "output_type": "stream",
     "text": [
      "INFO:tensorflow:Saving checkpoints for 0 into models/autompg-dnnregressor/model.ckpt.\n",
      "INFO:tensorflow:loss = 691.71216, step = 0\n",
      "INFO:tensorflow:global_step/sec: 648.617\n",
      "INFO:tensorflow:loss = 551.1969, step = 100 (0.155 sec)\n",
      "INFO:tensorflow:global_step/sec: 759.957\n",
      "INFO:tensorflow:loss = 440.8614, step = 200 (0.131 sec)\n",
      "INFO:tensorflow:global_step/sec: 793.656\n",
      "INFO:tensorflow:loss = 405.41016, step = 300 (0.126 sec)\n",
      "INFO:tensorflow:global_step/sec: 920.753\n",
      "INFO:tensorflow:loss = 553.64343, step = 400 (0.108 sec)\n",
      "INFO:tensorflow:global_step/sec: 955.527\n",
      "INFO:tensorflow:loss = 657.3158, step = 500 (0.105 sec)\n",
      "INFO:tensorflow:global_step/sec: 939.546\n",
      "INFO:tensorflow:loss = 653.291, step = 600 (0.106 sec)\n",
      "INFO:tensorflow:global_step/sec: 942.64\n",
      "INFO:tensorflow:loss = 710.86957, step = 700 (0.106 sec)\n",
      "INFO:tensorflow:global_step/sec: 962.321\n",
      "INFO:tensorflow:loss = 406.26538, step = 800 (0.104 sec)\n",
      "INFO:tensorflow:global_step/sec: 410.177\n",
      "INFO:tensorflow:loss = 482.50424, step = 900 (0.244 sec)\n",
      "INFO:tensorflow:global_step/sec: 537.221\n",
      "INFO:tensorflow:loss = 432.48096, step = 1000 (0.186 sec)\n",
      "INFO:tensorflow:global_step/sec: 745.486\n",
      "INFO:tensorflow:loss = 650.71204, step = 1100 (0.134 sec)\n",
      "INFO:tensorflow:global_step/sec: 829.982\n",
      "INFO:tensorflow:loss = 472.1164, step = 1200 (0.120 sec)\n",
      "INFO:tensorflow:global_step/sec: 933.192\n",
      "INFO:tensorflow:loss = 465.47482, step = 1300 (0.107 sec)\n",
      "INFO:tensorflow:global_step/sec: 950.824\n",
      "INFO:tensorflow:loss = 469.74677, step = 1400 (0.105 sec)\n",
      "INFO:tensorflow:global_step/sec: 957.44\n",
      "INFO:tensorflow:loss = 522.5464, step = 1500 (0.104 sec)\n",
      "INFO:tensorflow:global_step/sec: 957.682\n",
      "INFO:tensorflow:loss = 346.86176, step = 1600 (0.104 sec)\n",
      "INFO:tensorflow:global_step/sec: 927.851\n",
      "INFO:tensorflow:loss = 557.22095, step = 1700 (0.108 sec)\n",
      "INFO:tensorflow:global_step/sec: 932.727\n",
      "INFO:tensorflow:loss = 401.59558, step = 1800 (0.107 sec)\n",
      "INFO:tensorflow:global_step/sec: 965.164\n",
      "INFO:tensorflow:loss = 490.3859, step = 1900 (0.103 sec)\n",
      "INFO:tensorflow:global_step/sec: 938.552\n",
      "INFO:tensorflow:loss = 363.05963, step = 2000 (0.107 sec)\n",
      "INFO:tensorflow:global_step/sec: 935.992\n",
      "INFO:tensorflow:loss = 534.64435, step = 2100 (0.107 sec)\n",
      "INFO:tensorflow:global_step/sec: 924.744\n",
      "INFO:tensorflow:loss = 500.4403, step = 2200 (0.108 sec)\n",
      "INFO:tensorflow:global_step/sec: 959.303\n",
      "INFO:tensorflow:loss = 435.90057, step = 2300 (0.104 sec)\n",
      "INFO:tensorflow:global_step/sec: 966.764\n",
      "INFO:tensorflow:loss = 311.857, step = 2400 (0.103 sec)\n",
      "INFO:tensorflow:global_step/sec: 952.279\n",
      "INFO:tensorflow:loss = 413.57635, step = 2500 (0.105 sec)\n",
      "INFO:tensorflow:global_step/sec: 805.559\n",
      "INFO:tensorflow:loss = 227.06064, step = 2600 (0.124 sec)\n",
      "INFO:tensorflow:global_step/sec: 470.502\n",
      "INFO:tensorflow:loss = 424.40808, step = 2700 (0.212 sec)\n",
      "INFO:tensorflow:global_step/sec: 936.285\n",
      "INFO:tensorflow:loss = 471.59738, step = 2800 (0.107 sec)\n",
      "INFO:tensorflow:global_step/sec: 947.375\n",
      "INFO:tensorflow:loss = 248.61237, step = 2900 (0.106 sec)\n",
      "INFO:tensorflow:global_step/sec: 395.786\n",
      "INFO:tensorflow:loss = 607.4699, step = 3000 (0.253 sec)\n",
      "INFO:tensorflow:global_step/sec: 441.196\n",
      "INFO:tensorflow:loss = 302.99872, step = 3100 (0.228 sec)\n",
      "INFO:tensorflow:global_step/sec: 925.729\n",
      "INFO:tensorflow:loss = 252.08804, step = 3200 (0.107 sec)\n",
      "INFO:tensorflow:global_step/sec: 953.723\n",
      "INFO:tensorflow:loss = 298.44418, step = 3300 (0.105 sec)\n",
      "INFO:tensorflow:global_step/sec: 455.231\n",
      "INFO:tensorflow:loss = 442.3261, step = 3400 (0.220 sec)\n",
      "INFO:tensorflow:global_step/sec: 399.799\n",
      "INFO:tensorflow:loss = 424.41156, step = 3500 (0.250 sec)\n",
      "INFO:tensorflow:global_step/sec: 768.265\n",
      "INFO:tensorflow:loss = 359.4809, step = 3600 (0.130 sec)\n",
      "INFO:tensorflow:global_step/sec: 889.836\n",
      "INFO:tensorflow:loss = 212.34113, step = 3700 (0.112 sec)\n",
      "INFO:tensorflow:global_step/sec: 961.471\n",
      "INFO:tensorflow:loss = 247.34853, step = 3800 (0.104 sec)\n",
      "INFO:tensorflow:global_step/sec: 949.075\n",
      "INFO:tensorflow:loss = 332.8827, step = 3900 (0.105 sec)\n",
      "INFO:tensorflow:global_step/sec: 947.319\n",
      "INFO:tensorflow:loss = 412.99298, step = 4000 (0.106 sec)\n",
      "INFO:tensorflow:global_step/sec: 940.092\n",
      "INFO:tensorflow:loss = 262.5211, step = 4100 (0.106 sec)\n",
      "INFO:tensorflow:global_step/sec: 955.179\n",
      "INFO:tensorflow:loss = 321.6313, step = 4200 (0.105 sec)\n",
      "INFO:tensorflow:global_step/sec: 914.932\n",
      "INFO:tensorflow:loss = 238.98538, step = 4300 (0.109 sec)\n",
      "INFO:tensorflow:global_step/sec: 921.542\n",
      "INFO:tensorflow:loss = 220.05168, step = 4400 (0.108 sec)\n",
      "INFO:tensorflow:global_step/sec: 930.992\n",
      "INFO:tensorflow:loss = 246.6406, step = 4500 (0.107 sec)\n",
      "INFO:tensorflow:global_step/sec: 898.548\n",
      "INFO:tensorflow:loss = 365.82123, step = 4600 (0.111 sec)\n",
      "INFO:tensorflow:global_step/sec: 690.286\n",
      "INFO:tensorflow:loss = 237.63153, step = 4700 (0.145 sec)\n",
      "INFO:tensorflow:global_step/sec: 688.086\n",
      "INFO:tensorflow:loss = 320.98248, step = 4800 (0.145 sec)\n",
      "INFO:tensorflow:global_step/sec: 872.766\n",
      "INFO:tensorflow:loss = 247.13905, step = 4900 (0.115 sec)\n",
      "INFO:tensorflow:global_step/sec: 684.403\n",
      "INFO:tensorflow:loss = 134.62633, step = 5000 (0.146 sec)\n",
      "INFO:tensorflow:global_step/sec: 822.774\n",
      "INFO:tensorflow:loss = 256.5678, step = 5100 (0.122 sec)\n",
      "INFO:tensorflow:global_step/sec: 877.503\n",
      "INFO:tensorflow:loss = 279.72174, step = 5200 (0.114 sec)\n",
      "INFO:tensorflow:global_step/sec: 701.188\n",
      "INFO:tensorflow:loss = 203.5966, step = 5300 (0.143 sec)\n",
      "INFO:tensorflow:global_step/sec: 849.753\n",
      "INFO:tensorflow:loss = 257.53778, step = 5400 (0.118 sec)\n",
      "INFO:tensorflow:global_step/sec: 864.443\n",
      "INFO:tensorflow:loss = 193.11258, step = 5500 (0.116 sec)\n",
      "INFO:tensorflow:global_step/sec: 873.1\n",
      "INFO:tensorflow:loss = 266.99936, step = 5600 (0.115 sec)\n",
      "INFO:tensorflow:global_step/sec: 845.164\n",
      "INFO:tensorflow:loss = 267.58075, step = 5700 (0.118 sec)\n",
      "INFO:tensorflow:global_step/sec: 856.253\n",
      "INFO:tensorflow:loss = 213.32797, step = 5800 (0.117 sec)\n",
      "INFO:tensorflow:global_step/sec: 839.338\n",
      "INFO:tensorflow:loss = 229.92488, step = 5900 (0.119 sec)\n",
      "INFO:tensorflow:global_step/sec: 694.545\n",
      "INFO:tensorflow:loss = 272.93665, step = 6000 (0.144 sec)\n",
      "INFO:tensorflow:global_step/sec: 879.975\n",
      "INFO:tensorflow:loss = 135.04367, step = 6100 (0.114 sec)\n",
      "INFO:tensorflow:global_step/sec: 860.132\n",
      "INFO:tensorflow:loss = 63.000366, step = 6200 (0.116 sec)\n",
      "INFO:tensorflow:global_step/sec: 893.437\n",
      "INFO:tensorflow:loss = 146.95871, step = 6300 (0.112 sec)\n",
      "INFO:tensorflow:global_step/sec: 879.339\n",
      "INFO:tensorflow:loss = 152.71846, step = 6400 (0.114 sec)\n",
      "INFO:tensorflow:global_step/sec: 787.76\n",
      "INFO:tensorflow:loss = 314.99347, step = 6500 (0.127 sec)\n",
      "INFO:tensorflow:global_step/sec: 697.173\n",
      "INFO:tensorflow:loss = 122.57299, step = 6600 (0.143 sec)\n",
      "INFO:tensorflow:global_step/sec: 897.444\n",
      "INFO:tensorflow:loss = 140.8626, step = 6700 (0.111 sec)\n",
      "INFO:tensorflow:global_step/sec: 945.98\n",
      "INFO:tensorflow:loss = 214.78168, step = 6800 (0.106 sec)\n",
      "INFO:tensorflow:global_step/sec: 929.572\n",
      "INFO:tensorflow:loss = 139.1843, step = 6900 (0.108 sec)\n",
      "INFO:tensorflow:global_step/sec: 893.23\n",
      "INFO:tensorflow:loss = 140.50093, step = 7000 (0.112 sec)\n",
      "INFO:tensorflow:global_step/sec: 750.716\n",
      "INFO:tensorflow:loss = 95.042244, step = 7100 (0.134 sec)\n",
      "INFO:tensorflow:global_step/sec: 702.309\n",
      "INFO:tensorflow:loss = 117.45459, step = 7200 (0.142 sec)\n",
      "INFO:tensorflow:global_step/sec: 759.805\n",
      "INFO:tensorflow:loss = 104.944595, step = 7300 (0.132 sec)\n",
      "INFO:tensorflow:global_step/sec: 764.424\n",
      "INFO:tensorflow:loss = 100.0695, step = 7400 (0.131 sec)\n",
      "INFO:tensorflow:global_step/sec: 883.229\n",
      "INFO:tensorflow:loss = 190.211, step = 7500 (0.113 sec)\n",
      "INFO:tensorflow:global_step/sec: 943.69\n",
      "INFO:tensorflow:loss = 103.76618, step = 7600 (0.106 sec)\n",
      "INFO:tensorflow:global_step/sec: 929.059\n",
      "INFO:tensorflow:loss = 68.46488, step = 7700 (0.108 sec)\n",
      "INFO:tensorflow:global_step/sec: 952.805\n",
      "INFO:tensorflow:loss = 86.053925, step = 7800 (0.105 sec)\n",
      "INFO:tensorflow:global_step/sec: 861.246\n",
      "INFO:tensorflow:loss = 80.16653, step = 7900 (0.116 sec)\n",
      "INFO:tensorflow:global_step/sec: 940.71\n",
      "INFO:tensorflow:loss = 103.15774, step = 8000 (0.106 sec)\n",
      "INFO:tensorflow:global_step/sec: 848.076\n",
      "INFO:tensorflow:loss = 157.13687, step = 8100 (0.118 sec)\n",
      "INFO:tensorflow:global_step/sec: 886.85\n",
      "INFO:tensorflow:loss = 114.922226, step = 8200 (0.113 sec)\n"
     ]
    },
    {
     "name": "stdout",
     "output_type": "stream",
     "text": [
      "INFO:tensorflow:global_step/sec: 929.457\n",
      "INFO:tensorflow:loss = 133.55295, step = 8300 (0.108 sec)\n",
      "INFO:tensorflow:global_step/sec: 943.845\n",
      "INFO:tensorflow:loss = 109.18846, step = 8400 (0.106 sec)\n",
      "INFO:tensorflow:global_step/sec: 874.969\n",
      "INFO:tensorflow:loss = 78.36746, step = 8500 (0.114 sec)\n",
      "INFO:tensorflow:global_step/sec: 936.231\n",
      "INFO:tensorflow:loss = 53.57223, step = 8600 (0.107 sec)\n",
      "INFO:tensorflow:global_step/sec: 924.77\n",
      "INFO:tensorflow:loss = 108.67037, step = 8700 (0.108 sec)\n",
      "INFO:tensorflow:global_step/sec: 954.116\n",
      "INFO:tensorflow:loss = 62.484283, step = 8800 (0.105 sec)\n",
      "INFO:tensorflow:global_step/sec: 891.453\n",
      "INFO:tensorflow:loss = 86.8222, step = 8900 (0.112 sec)\n",
      "INFO:tensorflow:global_step/sec: 892.132\n",
      "INFO:tensorflow:loss = 136.06982, step = 9000 (0.112 sec)\n",
      "INFO:tensorflow:global_step/sec: 917.885\n",
      "INFO:tensorflow:loss = 76.882034, step = 9100 (0.109 sec)\n",
      "INFO:tensorflow:global_step/sec: 927.152\n",
      "INFO:tensorflow:loss = 40.530296, step = 9200 (0.108 sec)\n",
      "INFO:tensorflow:global_step/sec: 930.583\n",
      "INFO:tensorflow:loss = 52.503387, step = 9300 (0.108 sec)\n",
      "INFO:tensorflow:global_step/sec: 931.892\n",
      "INFO:tensorflow:loss = 51.274178, step = 9400 (0.107 sec)\n",
      "INFO:tensorflow:global_step/sec: 918.16\n",
      "INFO:tensorflow:loss = 32.32283, step = 9500 (0.110 sec)\n",
      "INFO:tensorflow:global_step/sec: 940.526\n",
      "INFO:tensorflow:loss = 62.22345, step = 9600 (0.106 sec)\n",
      "INFO:tensorflow:global_step/sec: 951.683\n",
      "INFO:tensorflow:loss = 98.64346, step = 9700 (0.105 sec)\n",
      "INFO:tensorflow:global_step/sec: 947.795\n",
      "INFO:tensorflow:loss = 86.6297, step = 9800 (0.106 sec)\n",
      "INFO:tensorflow:global_step/sec: 931.662\n",
      "INFO:tensorflow:loss = 79.03792, step = 9900 (0.108 sec)\n",
      "INFO:tensorflow:global_step/sec: 914.974\n",
      "INFO:tensorflow:loss = 27.441675, step = 10000 (0.109 sec)\n",
      "INFO:tensorflow:global_step/sec: 933.314\n",
      "INFO:tensorflow:loss = 40.615128, step = 10100 (0.107 sec)\n",
      "INFO:tensorflow:global_step/sec: 935.64\n",
      "INFO:tensorflow:loss = 40.826202, step = 10200 (0.107 sec)\n",
      "INFO:tensorflow:global_step/sec: 946.18\n",
      "INFO:tensorflow:loss = 113.77554, step = 10300 (0.106 sec)\n",
      "INFO:tensorflow:global_step/sec: 945.681\n",
      "INFO:tensorflow:loss = 71.1076, step = 10400 (0.106 sec)\n",
      "INFO:tensorflow:global_step/sec: 916.692\n",
      "INFO:tensorflow:loss = 63.652134, step = 10500 (0.109 sec)\n",
      "INFO:tensorflow:global_step/sec: 948.165\n",
      "INFO:tensorflow:loss = 48.01493, step = 10600 (0.106 sec)\n",
      "INFO:tensorflow:global_step/sec: 933.858\n",
      "INFO:tensorflow:loss = 35.98937, step = 10700 (0.107 sec)\n",
      "INFO:tensorflow:global_step/sec: 924.039\n",
      "INFO:tensorflow:loss = 43.75282, step = 10800 (0.108 sec)\n",
      "INFO:tensorflow:global_step/sec: 935.35\n",
      "INFO:tensorflow:loss = 51.87995, step = 10900 (0.107 sec)\n",
      "INFO:tensorflow:global_step/sec: 913.891\n",
      "INFO:tensorflow:loss = 67.69188, step = 11000 (0.110 sec)\n",
      "INFO:tensorflow:global_step/sec: 951.042\n",
      "INFO:tensorflow:loss = 46.864883, step = 11100 (0.105 sec)\n",
      "INFO:tensorflow:global_step/sec: 939.62\n",
      "INFO:tensorflow:loss = 68.16139, step = 11200 (0.107 sec)\n",
      "INFO:tensorflow:global_step/sec: 906.485\n",
      "INFO:tensorflow:loss = 36.242954, step = 11300 (0.110 sec)\n",
      "INFO:tensorflow:global_step/sec: 942.081\n",
      "INFO:tensorflow:loss = 30.338848, step = 11400 (0.106 sec)\n",
      "INFO:tensorflow:global_step/sec: 928.794\n",
      "INFO:tensorflow:loss = 42.265434, step = 11500 (0.108 sec)\n",
      "INFO:tensorflow:global_step/sec: 925.879\n",
      "INFO:tensorflow:loss = 66.7193, step = 11600 (0.108 sec)\n",
      "INFO:tensorflow:global_step/sec: 945.762\n",
      "INFO:tensorflow:loss = 43.06803, step = 11700 (0.106 sec)\n",
      "INFO:tensorflow:global_step/sec: 934.543\n",
      "INFO:tensorflow:loss = 33.485283, step = 11800 (0.108 sec)\n",
      "INFO:tensorflow:global_step/sec: 922.462\n",
      "INFO:tensorflow:loss = 8.78022, step = 11900 (0.107 sec)\n",
      "INFO:tensorflow:global_step/sec: 915.877\n",
      "INFO:tensorflow:loss = 9.120038, step = 12000 (0.109 sec)\n",
      "INFO:tensorflow:global_step/sec: 933.237\n",
      "INFO:tensorflow:loss = 20.51104, step = 12100 (0.107 sec)\n",
      "INFO:tensorflow:global_step/sec: 917.074\n",
      "INFO:tensorflow:loss = 23.81843, step = 12200 (0.110 sec)\n",
      "INFO:tensorflow:global_step/sec: 909.206\n",
      "INFO:tensorflow:loss = 47.80706, step = 12300 (0.109 sec)\n",
      "INFO:tensorflow:global_step/sec: 937.371\n",
      "INFO:tensorflow:loss = 15.856686, step = 12400 (0.107 sec)\n",
      "INFO:tensorflow:global_step/sec: 927.178\n",
      "INFO:tensorflow:loss = 27.82515, step = 12500 (0.108 sec)\n",
      "INFO:tensorflow:global_step/sec: 920.272\n",
      "INFO:tensorflow:loss = 34.517742, step = 12600 (0.109 sec)\n",
      "INFO:tensorflow:global_step/sec: 940.585\n",
      "INFO:tensorflow:loss = 30.943739, step = 12700 (0.106 sec)\n",
      "INFO:tensorflow:global_step/sec: 940.851\n",
      "INFO:tensorflow:loss = 29.626392, step = 12800 (0.106 sec)\n",
      "INFO:tensorflow:global_step/sec: 930.071\n",
      "INFO:tensorflow:loss = 35.15564, step = 12900 (0.108 sec)\n",
      "INFO:tensorflow:global_step/sec: 915.247\n",
      "INFO:tensorflow:loss = 17.435642, step = 13000 (0.108 sec)\n",
      "INFO:tensorflow:global_step/sec: 950.43\n",
      "INFO:tensorflow:loss = 18.249142, step = 13100 (0.105 sec)\n",
      "INFO:tensorflow:global_step/sec: 923.325\n",
      "INFO:tensorflow:loss = 22.794024, step = 13200 (0.108 sec)\n",
      "INFO:tensorflow:global_step/sec: 939.645\n",
      "INFO:tensorflow:loss = 4.9268274, step = 13300 (0.106 sec)\n",
      "INFO:tensorflow:global_step/sec: 944.508\n",
      "INFO:tensorflow:loss = 42.949158, step = 13400 (0.106 sec)\n",
      "INFO:tensorflow:global_step/sec: 943.917\n",
      "INFO:tensorflow:loss = 29.182858, step = 13500 (0.106 sec)\n",
      "INFO:tensorflow:global_step/sec: 934.291\n",
      "INFO:tensorflow:loss = 21.225092, step = 13600 (0.107 sec)\n",
      "INFO:tensorflow:global_step/sec: 930.911\n",
      "INFO:tensorflow:loss = 13.602786, step = 13700 (0.107 sec)\n",
      "INFO:tensorflow:global_step/sec: 934.937\n",
      "INFO:tensorflow:loss = 50.93906, step = 13800 (0.107 sec)\n",
      "INFO:tensorflow:global_step/sec: 929.201\n",
      "INFO:tensorflow:loss = 14.247931, step = 13900 (0.108 sec)\n",
      "INFO:tensorflow:global_step/sec: 938.655\n",
      "INFO:tensorflow:loss = 28.242659, step = 14000 (0.106 sec)\n",
      "INFO:tensorflow:global_step/sec: 932.063\n",
      "INFO:tensorflow:loss = 42.271477, step = 14100 (0.107 sec)\n",
      "INFO:tensorflow:global_step/sec: 941.895\n",
      "INFO:tensorflow:loss = 36.323402, step = 14200 (0.106 sec)\n",
      "INFO:tensorflow:global_step/sec: 926.797\n",
      "INFO:tensorflow:loss = 20.369156, step = 14300 (0.108 sec)\n",
      "INFO:tensorflow:global_step/sec: 936.21\n",
      "INFO:tensorflow:loss = 29.533415, step = 14400 (0.107 sec)\n",
      "INFO:tensorflow:global_step/sec: 957.577\n",
      "INFO:tensorflow:loss = 19.233583, step = 14500 (0.104 sec)\n",
      "INFO:tensorflow:global_step/sec: 948.24\n",
      "INFO:tensorflow:loss = 34.156963, step = 14600 (0.105 sec)\n",
      "INFO:tensorflow:global_step/sec: 936.093\n",
      "INFO:tensorflow:loss = 23.212276, step = 14700 (0.107 sec)\n",
      "INFO:tensorflow:global_step/sec: 933.322\n",
      "INFO:tensorflow:loss = 7.799304, step = 14800 (0.107 sec)\n",
      "INFO:tensorflow:global_step/sec: 917.466\n",
      "INFO:tensorflow:loss = 17.157166, step = 14900 (0.109 sec)\n",
      "INFO:tensorflow:global_step/sec: 932.772\n",
      "INFO:tensorflow:loss = 11.8485565, step = 15000 (0.107 sec)\n",
      "INFO:tensorflow:global_step/sec: 940.14\n",
      "INFO:tensorflow:loss = 18.044304, step = 15100 (0.106 sec)\n",
      "INFO:tensorflow:global_step/sec: 943.066\n",
      "INFO:tensorflow:loss = 4.2882633, step = 15200 (0.106 sec)\n",
      "INFO:tensorflow:global_step/sec: 924.652\n",
      "INFO:tensorflow:loss = 25.18053, step = 15300 (0.108 sec)\n",
      "INFO:tensorflow:global_step/sec: 940.216\n",
      "INFO:tensorflow:loss = 21.436874, step = 15400 (0.106 sec)\n",
      "INFO:tensorflow:global_step/sec: 954.136\n",
      "INFO:tensorflow:loss = 14.881026, step = 15500 (0.105 sec)\n",
      "INFO:tensorflow:global_step/sec: 945.455\n",
      "INFO:tensorflow:loss = 40.313652, step = 15600 (0.107 sec)\n",
      "INFO:tensorflow:global_step/sec: 937.078\n",
      "INFO:tensorflow:loss = 29.222303, step = 15700 (0.106 sec)\n",
      "INFO:tensorflow:global_step/sec: 917.853\n",
      "INFO:tensorflow:loss = 27.569143, step = 15800 (0.110 sec)\n",
      "INFO:tensorflow:global_step/sec: 908.597\n",
      "INFO:tensorflow:loss = 8.295696, step = 15900 (0.109 sec)\n",
      "INFO:tensorflow:global_step/sec: 934.449\n",
      "INFO:tensorflow:loss = 45.2845, step = 16000 (0.107 sec)\n",
      "INFO:tensorflow:global_step/sec: 924.976\n",
      "INFO:tensorflow:loss = 11.388044, step = 16100 (0.108 sec)\n",
      "INFO:tensorflow:global_step/sec: 904.403\n",
      "INFO:tensorflow:loss = 4.122775, step = 16200 (0.110 sec)\n",
      "INFO:tensorflow:global_step/sec: 933.886\n",
      "INFO:tensorflow:loss = 15.117147, step = 16300 (0.107 sec)\n",
      "INFO:tensorflow:global_step/sec: 939.689\n",
      "INFO:tensorflow:loss = 16.825798, step = 16400 (0.106 sec)\n",
      "INFO:tensorflow:global_step/sec: 949.974\n",
      "INFO:tensorflow:loss = 21.15832, step = 16500 (0.105 sec)\n"
     ]
    },
    {
     "name": "stdout",
     "output_type": "stream",
     "text": [
      "INFO:tensorflow:global_step/sec: 934.195\n",
      "INFO:tensorflow:loss = 17.407013, step = 16600 (0.107 sec)\n",
      "INFO:tensorflow:global_step/sec: 955.531\n",
      "INFO:tensorflow:loss = 27.33339, step = 16700 (0.105 sec)\n",
      "INFO:tensorflow:global_step/sec: 949.92\n",
      "INFO:tensorflow:loss = 8.678619, step = 16800 (0.105 sec)\n",
      "INFO:tensorflow:global_step/sec: 910.95\n",
      "INFO:tensorflow:loss = 5.6030846, step = 16900 (0.110 sec)\n",
      "INFO:tensorflow:global_step/sec: 940.385\n",
      "INFO:tensorflow:loss = 23.394081, step = 17000 (0.106 sec)\n",
      "INFO:tensorflow:global_step/sec: 919.066\n",
      "INFO:tensorflow:loss = 29.975363, step = 17100 (0.109 sec)\n",
      "INFO:tensorflow:global_step/sec: 915.02\n",
      "INFO:tensorflow:loss = 8.4146, step = 17200 (0.109 sec)\n",
      "INFO:tensorflow:global_step/sec: 944.359\n",
      "INFO:tensorflow:loss = 28.950613, step = 17300 (0.106 sec)\n",
      "INFO:tensorflow:global_step/sec: 898.769\n",
      "INFO:tensorflow:loss = 18.91251, step = 17400 (0.111 sec)\n",
      "INFO:tensorflow:global_step/sec: 966.851\n",
      "INFO:tensorflow:loss = 10.306729, step = 17500 (0.103 sec)\n",
      "INFO:tensorflow:global_step/sec: 924.362\n",
      "INFO:tensorflow:loss = 31.758827, step = 17600 (0.109 sec)\n",
      "INFO:tensorflow:global_step/sec: 926.691\n",
      "INFO:tensorflow:loss = 14.825811, step = 17700 (0.107 sec)\n",
      "INFO:tensorflow:global_step/sec: 928.334\n",
      "INFO:tensorflow:loss = 11.546648, step = 17800 (0.108 sec)\n",
      "INFO:tensorflow:global_step/sec: 906.81\n",
      "INFO:tensorflow:loss = 31.48528, step = 17900 (0.110 sec)\n",
      "INFO:tensorflow:global_step/sec: 934.002\n",
      "INFO:tensorflow:loss = 32.779713, step = 18000 (0.107 sec)\n",
      "INFO:tensorflow:global_step/sec: 951.242\n",
      "INFO:tensorflow:loss = 12.6324215, step = 18100 (0.105 sec)\n",
      "INFO:tensorflow:global_step/sec: 943.7\n",
      "INFO:tensorflow:loss = 10.351116, step = 18200 (0.106 sec)\n",
      "INFO:tensorflow:global_step/sec: 945.907\n",
      "INFO:tensorflow:loss = 14.308768, step = 18300 (0.106 sec)\n",
      "INFO:tensorflow:global_step/sec: 908.094\n",
      "INFO:tensorflow:loss = 20.855412, step = 18400 (0.110 sec)\n",
      "INFO:tensorflow:global_step/sec: 943.592\n",
      "INFO:tensorflow:loss = 32.637417, step = 18500 (0.106 sec)\n",
      "INFO:tensorflow:global_step/sec: 920.036\n",
      "INFO:tensorflow:loss = 16.118818, step = 18600 (0.109 sec)\n",
      "INFO:tensorflow:global_step/sec: 931.399\n",
      "INFO:tensorflow:loss = 5.978798, step = 18700 (0.107 sec)\n",
      "INFO:tensorflow:global_step/sec: 943.437\n",
      "INFO:tensorflow:loss = 52.600185, step = 18800 (0.106 sec)\n",
      "INFO:tensorflow:global_step/sec: 910.046\n",
      "INFO:tensorflow:loss = 4.3838787, step = 18900 (0.110 sec)\n",
      "INFO:tensorflow:global_step/sec: 933.044\n",
      "INFO:tensorflow:loss = 14.87179, step = 19000 (0.107 sec)\n",
      "INFO:tensorflow:global_step/sec: 946.133\n",
      "INFO:tensorflow:loss = 9.150324, step = 19100 (0.106 sec)\n",
      "INFO:tensorflow:global_step/sec: 923.329\n",
      "INFO:tensorflow:loss = 25.365528, step = 19200 (0.108 sec)\n",
      "INFO:tensorflow:global_step/sec: 946.808\n",
      "INFO:tensorflow:loss = 14.339226, step = 19300 (0.105 sec)\n",
      "INFO:tensorflow:global_step/sec: 920.171\n",
      "INFO:tensorflow:loss = 14.436934, step = 19400 (0.109 sec)\n",
      "INFO:tensorflow:global_step/sec: 927.958\n",
      "INFO:tensorflow:loss = 6.9603987, step = 19500 (0.108 sec)\n",
      "INFO:tensorflow:global_step/sec: 925.468\n",
      "INFO:tensorflow:loss = 12.85218, step = 19600 (0.108 sec)\n",
      "INFO:tensorflow:global_step/sec: 936.661\n",
      "INFO:tensorflow:loss = 20.108994, step = 19700 (0.107 sec)\n",
      "INFO:tensorflow:global_step/sec: 951.406\n",
      "INFO:tensorflow:loss = 11.92227, step = 19800 (0.105 sec)\n",
      "INFO:tensorflow:global_step/sec: 907.206\n",
      "INFO:tensorflow:loss = 13.479136, step = 19900 (0.110 sec)\n",
      "INFO:tensorflow:global_step/sec: 929.047\n",
      "INFO:tensorflow:loss = 10.041509, step = 20000 (0.108 sec)\n",
      "INFO:tensorflow:global_step/sec: 929.714\n",
      "INFO:tensorflow:loss = 23.930466, step = 20100 (0.108 sec)\n",
      "INFO:tensorflow:global_step/sec: 929.576\n",
      "INFO:tensorflow:loss = 20.092276, step = 20200 (0.108 sec)\n",
      "INFO:tensorflow:global_step/sec: 954.77\n",
      "INFO:tensorflow:loss = 22.438282, step = 20300 (0.105 sec)\n",
      "INFO:tensorflow:global_step/sec: 922.979\n",
      "INFO:tensorflow:loss = 10.462675, step = 20400 (0.108 sec)\n",
      "INFO:tensorflow:global_step/sec: 928.221\n",
      "INFO:tensorflow:loss = 6.7222357, step = 20500 (0.108 sec)\n",
      "INFO:tensorflow:global_step/sec: 925.137\n",
      "INFO:tensorflow:loss = 12.701014, step = 20600 (0.108 sec)\n",
      "INFO:tensorflow:global_step/sec: 943.163\n",
      "INFO:tensorflow:loss = 5.806304, step = 20700 (0.106 sec)\n",
      "INFO:tensorflow:global_step/sec: 943.936\n",
      "INFO:tensorflow:loss = 16.343887, step = 20800 (0.106 sec)\n",
      "INFO:tensorflow:global_step/sec: 916.756\n",
      "INFO:tensorflow:loss = 12.893562, step = 20900 (0.109 sec)\n",
      "INFO:tensorflow:global_step/sec: 940.513\n",
      "INFO:tensorflow:loss = 10.80522, step = 21000 (0.106 sec)\n",
      "INFO:tensorflow:global_step/sec: 880.916\n",
      "INFO:tensorflow:loss = 5.4682875, step = 21100 (0.113 sec)\n",
      "INFO:tensorflow:global_step/sec: 949.12\n",
      "INFO:tensorflow:loss = 15.773796, step = 21200 (0.105 sec)\n",
      "INFO:tensorflow:global_step/sec: 938.848\n",
      "INFO:tensorflow:loss = 16.493263, step = 21300 (0.107 sec)\n",
      "INFO:tensorflow:global_step/sec: 939.553\n",
      "INFO:tensorflow:loss = 25.495426, step = 21400 (0.106 sec)\n",
      "INFO:tensorflow:global_step/sec: 933.376\n",
      "INFO:tensorflow:loss = 28.898142, step = 21500 (0.107 sec)\n",
      "INFO:tensorflow:global_step/sec: 886.23\n",
      "INFO:tensorflow:loss = 16.965649, step = 21600 (0.113 sec)\n",
      "INFO:tensorflow:global_step/sec: 955.12\n",
      "INFO:tensorflow:loss = 56.834946, step = 21700 (0.105 sec)\n",
      "INFO:tensorflow:global_step/sec: 925.521\n",
      "INFO:tensorflow:loss = 16.09203, step = 21800 (0.108 sec)\n",
      "INFO:tensorflow:global_step/sec: 950.744\n",
      "INFO:tensorflow:loss = 32.071266, step = 21900 (0.105 sec)\n",
      "INFO:tensorflow:global_step/sec: 938.676\n",
      "INFO:tensorflow:loss = 11.901967, step = 22000 (0.107 sec)\n",
      "INFO:tensorflow:global_step/sec: 913.947\n",
      "INFO:tensorflow:loss = 17.186844, step = 22100 (0.109 sec)\n",
      "INFO:tensorflow:global_step/sec: 947.379\n",
      "INFO:tensorflow:loss = 14.085909, step = 22200 (0.105 sec)\n",
      "INFO:tensorflow:global_step/sec: 939.159\n",
      "INFO:tensorflow:loss = 28.6094, step = 22300 (0.106 sec)\n",
      "INFO:tensorflow:global_step/sec: 939.847\n",
      "INFO:tensorflow:loss = 8.911766, step = 22400 (0.106 sec)\n",
      "INFO:tensorflow:global_step/sec: 842.015\n",
      "INFO:tensorflow:loss = 9.237469, step = 22500 (0.119 sec)\n",
      "INFO:tensorflow:global_step/sec: 920.965\n",
      "INFO:tensorflow:loss = 15.367582, step = 22600 (0.109 sec)\n",
      "INFO:tensorflow:global_step/sec: 929.22\n",
      "INFO:tensorflow:loss = 25.577047, step = 22700 (0.108 sec)\n",
      "INFO:tensorflow:global_step/sec: 937.69\n",
      "INFO:tensorflow:loss = 10.049961, step = 22800 (0.107 sec)\n",
      "INFO:tensorflow:global_step/sec: 896.932\n",
      "INFO:tensorflow:loss = 12.019276, step = 22900 (0.112 sec)\n",
      "INFO:tensorflow:global_step/sec: 954.003\n",
      "INFO:tensorflow:loss = 33.354282, step = 23000 (0.105 sec)\n",
      "INFO:tensorflow:global_step/sec: 896.844\n",
      "INFO:tensorflow:loss = 11.853571, step = 23100 (0.112 sec)\n",
      "INFO:tensorflow:global_step/sec: 926.345\n",
      "INFO:tensorflow:loss = 4.5138226, step = 23200 (0.108 sec)\n",
      "INFO:tensorflow:global_step/sec: 891.371\n",
      "INFO:tensorflow:loss = 17.432945, step = 23300 (0.112 sec)\n",
      "INFO:tensorflow:global_step/sec: 932.949\n",
      "INFO:tensorflow:loss = 3.9026039, step = 23400 (0.107 sec)\n",
      "INFO:tensorflow:global_step/sec: 941.785\n",
      "INFO:tensorflow:loss = 38.485367, step = 23500 (0.106 sec)\n",
      "INFO:tensorflow:global_step/sec: 927.047\n",
      "INFO:tensorflow:loss = 24.326813, step = 23600 (0.108 sec)\n",
      "INFO:tensorflow:global_step/sec: 934.885\n",
      "INFO:tensorflow:loss = 12.081251, step = 23700 (0.107 sec)\n",
      "INFO:tensorflow:global_step/sec: 945.172\n",
      "INFO:tensorflow:loss = 31.974552, step = 23800 (0.106 sec)\n",
      "INFO:tensorflow:global_step/sec: 780.93\n",
      "INFO:tensorflow:loss = 40.29535, step = 23900 (0.128 sec)\n",
      "INFO:tensorflow:global_step/sec: 857.405\n",
      "INFO:tensorflow:loss = 13.133813, step = 24000 (0.117 sec)\n",
      "INFO:tensorflow:global_step/sec: 921.758\n",
      "INFO:tensorflow:loss = 11.244239, step = 24100 (0.109 sec)\n",
      "INFO:tensorflow:global_step/sec: 888.3\n",
      "INFO:tensorflow:loss = 26.343102, step = 24200 (0.112 sec)\n",
      "INFO:tensorflow:global_step/sec: 878.326\n",
      "INFO:tensorflow:loss = 11.190409, step = 24300 (0.114 sec)\n",
      "INFO:tensorflow:global_step/sec: 915.082\n",
      "INFO:tensorflow:loss = 4.4442286, step = 24400 (0.109 sec)\n",
      "INFO:tensorflow:global_step/sec: 884.854\n",
      "INFO:tensorflow:loss = 13.684898, step = 24500 (0.113 sec)\n",
      "INFO:tensorflow:global_step/sec: 923.9\n",
      "INFO:tensorflow:loss = 24.467472, step = 24600 (0.108 sec)\n",
      "INFO:tensorflow:global_step/sec: 937.444\n",
      "INFO:tensorflow:loss = 5.571244, step = 24700 (0.107 sec)\n",
      "INFO:tensorflow:global_step/sec: 939.582\n"
     ]
    },
    {
     "name": "stdout",
     "output_type": "stream",
     "text": [
      "INFO:tensorflow:loss = 15.245039, step = 24800 (0.107 sec)\n",
      "INFO:tensorflow:global_step/sec: 878.661\n",
      "INFO:tensorflow:loss = 8.575279, step = 24900 (0.113 sec)\n",
      "INFO:tensorflow:global_step/sec: 907.206\n",
      "INFO:tensorflow:loss = 23.87583, step = 25000 (0.110 sec)\n",
      "INFO:tensorflow:global_step/sec: 894.287\n",
      "INFO:tensorflow:loss = 7.3977947, step = 25100 (0.112 sec)\n",
      "INFO:tensorflow:global_step/sec: 885.074\n",
      "INFO:tensorflow:loss = 21.703136, step = 25200 (0.113 sec)\n",
      "INFO:tensorflow:global_step/sec: 954.34\n",
      "INFO:tensorflow:loss = 15.08527, step = 25300 (0.105 sec)\n",
      "INFO:tensorflow:global_step/sec: 958.286\n",
      "INFO:tensorflow:loss = 16.38089, step = 25400 (0.104 sec)\n",
      "INFO:tensorflow:global_step/sec: 933.457\n",
      "INFO:tensorflow:loss = 8.924266, step = 25500 (0.107 sec)\n",
      "INFO:tensorflow:global_step/sec: 925.443\n",
      "INFO:tensorflow:loss = 7.3379893, step = 25600 (0.108 sec)\n",
      "INFO:tensorflow:global_step/sec: 907.271\n",
      "INFO:tensorflow:loss = 15.783203, step = 25700 (0.110 sec)\n",
      "INFO:tensorflow:global_step/sec: 921.438\n",
      "INFO:tensorflow:loss = 35.627197, step = 25800 (0.108 sec)\n",
      "INFO:tensorflow:global_step/sec: 947.364\n",
      "INFO:tensorflow:loss = 12.154095, step = 25900 (0.106 sec)\n",
      "INFO:tensorflow:global_step/sec: 889.906\n",
      "INFO:tensorflow:loss = 12.510224, step = 26000 (0.112 sec)\n",
      "INFO:tensorflow:global_step/sec: 864.473\n",
      "INFO:tensorflow:loss = 9.365463, step = 26100 (0.116 sec)\n",
      "INFO:tensorflow:global_step/sec: 898.298\n",
      "INFO:tensorflow:loss = 12.196774, step = 26200 (0.111 sec)\n",
      "INFO:tensorflow:global_step/sec: 918.285\n",
      "INFO:tensorflow:loss = 8.12766, step = 26300 (0.109 sec)\n",
      "INFO:tensorflow:global_step/sec: 926.842\n",
      "INFO:tensorflow:loss = 25.972374, step = 26400 (0.108 sec)\n",
      "INFO:tensorflow:global_step/sec: 934.079\n",
      "INFO:tensorflow:loss = 3.1283376, step = 26500 (0.107 sec)\n",
      "INFO:tensorflow:global_step/sec: 897.271\n",
      "INFO:tensorflow:loss = 14.329117, step = 26600 (0.111 sec)\n",
      "INFO:tensorflow:global_step/sec: 899.124\n",
      "INFO:tensorflow:loss = 18.909752, step = 26700 (0.111 sec)\n",
      "INFO:tensorflow:global_step/sec: 877.969\n",
      "INFO:tensorflow:loss = 29.903244, step = 26800 (0.114 sec)\n",
      "INFO:tensorflow:global_step/sec: 892.187\n",
      "INFO:tensorflow:loss = 47.78736, step = 26900 (0.112 sec)\n",
      "INFO:tensorflow:global_step/sec: 930.267\n",
      "INFO:tensorflow:loss = 4.6788325, step = 27000 (0.107 sec)\n",
      "INFO:tensorflow:global_step/sec: 887.454\n",
      "INFO:tensorflow:loss = 14.221183, step = 27100 (0.113 sec)\n",
      "INFO:tensorflow:global_step/sec: 898.276\n",
      "INFO:tensorflow:loss = 12.3882065, step = 27200 (0.111 sec)\n",
      "INFO:tensorflow:global_step/sec: 921.121\n",
      "INFO:tensorflow:loss = 11.461835, step = 27300 (0.109 sec)\n",
      "INFO:tensorflow:global_step/sec: 945.457\n",
      "INFO:tensorflow:loss = 10.348667, step = 27400 (0.106 sec)\n",
      "INFO:tensorflow:global_step/sec: 940.48\n",
      "INFO:tensorflow:loss = 8.2307625, step = 27500 (0.106 sec)\n",
      "INFO:tensorflow:global_step/sec: 934.526\n",
      "INFO:tensorflow:loss = 8.424724, step = 27600 (0.108 sec)\n",
      "INFO:tensorflow:global_step/sec: 929.566\n",
      "INFO:tensorflow:loss = 12.587276, step = 27700 (0.107 sec)\n",
      "INFO:tensorflow:global_step/sec: 886.796\n",
      "INFO:tensorflow:loss = 26.178288, step = 27800 (0.113 sec)\n",
      "INFO:tensorflow:global_step/sec: 936.203\n",
      "INFO:tensorflow:loss = 9.498456, step = 27900 (0.107 sec)\n",
      "INFO:tensorflow:global_step/sec: 930.556\n",
      "INFO:tensorflow:loss = 24.049309, step = 28000 (0.107 sec)\n",
      "INFO:tensorflow:global_step/sec: 898.323\n",
      "INFO:tensorflow:loss = 14.995842, step = 28100 (0.112 sec)\n",
      "INFO:tensorflow:global_step/sec: 883.037\n",
      "INFO:tensorflow:loss = 9.39004, step = 28200 (0.113 sec)\n",
      "INFO:tensorflow:global_step/sec: 935.635\n",
      "INFO:tensorflow:loss = 7.5407925, step = 28300 (0.107 sec)\n",
      "INFO:tensorflow:global_step/sec: 877.057\n",
      "INFO:tensorflow:loss = 23.603926, step = 28400 (0.114 sec)\n",
      "INFO:tensorflow:global_step/sec: 923.321\n",
      "INFO:tensorflow:loss = 2.931486, step = 28500 (0.108 sec)\n",
      "INFO:tensorflow:global_step/sec: 921.708\n",
      "INFO:tensorflow:loss = 25.291796, step = 28600 (0.108 sec)\n",
      "INFO:tensorflow:global_step/sec: 896.845\n",
      "INFO:tensorflow:loss = 22.242134, step = 28700 (0.112 sec)\n",
      "INFO:tensorflow:global_step/sec: 907.453\n",
      "INFO:tensorflow:loss = 9.063402, step = 28800 (0.109 sec)\n",
      "INFO:tensorflow:global_step/sec: 943.874\n",
      "INFO:tensorflow:loss = 25.413067, step = 28900 (0.106 sec)\n",
      "INFO:tensorflow:global_step/sec: 937.497\n",
      "INFO:tensorflow:loss = 3.5114279, step = 29000 (0.107 sec)\n",
      "INFO:tensorflow:global_step/sec: 897.183\n",
      "INFO:tensorflow:loss = 6.0556087, step = 29100 (0.112 sec)\n",
      "INFO:tensorflow:global_step/sec: 911.992\n",
      "INFO:tensorflow:loss = 49.249893, step = 29200 (0.110 sec)\n",
      "INFO:tensorflow:global_step/sec: 890.418\n",
      "INFO:tensorflow:loss = 7.7405834, step = 29300 (0.112 sec)\n",
      "INFO:tensorflow:global_step/sec: 913.147\n",
      "INFO:tensorflow:loss = 11.317078, step = 29400 (0.110 sec)\n",
      "INFO:tensorflow:global_step/sec: 924.263\n",
      "INFO:tensorflow:loss = 20.976395, step = 29500 (0.108 sec)\n",
      "INFO:tensorflow:global_step/sec: 928.112\n",
      "INFO:tensorflow:loss = 14.137201, step = 29600 (0.108 sec)\n",
      "INFO:tensorflow:global_step/sec: 923.489\n",
      "INFO:tensorflow:loss = 14.675165, step = 29700 (0.108 sec)\n",
      "INFO:tensorflow:global_step/sec: 763.468\n",
      "INFO:tensorflow:loss = 2.2310905, step = 29800 (0.131 sec)\n",
      "INFO:tensorflow:global_step/sec: 961.745\n",
      "INFO:tensorflow:loss = 5.0782285, step = 29900 (0.104 sec)\n",
      "INFO:tensorflow:global_step/sec: 918.219\n",
      "INFO:tensorflow:loss = 10.075234, step = 30000 (0.109 sec)\n",
      "INFO:tensorflow:global_step/sec: 937.809\n",
      "INFO:tensorflow:loss = 28.35248, step = 30100 (0.107 sec)\n",
      "INFO:tensorflow:global_step/sec: 944.959\n",
      "INFO:tensorflow:loss = 9.33547, step = 30200 (0.106 sec)\n",
      "INFO:tensorflow:global_step/sec: 903.867\n",
      "INFO:tensorflow:loss = 12.661357, step = 30300 (0.111 sec)\n",
      "INFO:tensorflow:global_step/sec: 949.769\n",
      "INFO:tensorflow:loss = 30.361128, step = 30400 (0.105 sec)\n",
      "INFO:tensorflow:global_step/sec: 935.537\n",
      "INFO:tensorflow:loss = 21.426746, step = 30500 (0.107 sec)\n",
      "INFO:tensorflow:global_step/sec: 944.389\n",
      "INFO:tensorflow:loss = 10.195023, step = 30600 (0.106 sec)\n",
      "INFO:tensorflow:global_step/sec: 926.067\n",
      "INFO:tensorflow:loss = 26.94719, step = 30700 (0.108 sec)\n",
      "INFO:tensorflow:global_step/sec: 920.437\n",
      "INFO:tensorflow:loss = 37.71759, step = 30800 (0.109 sec)\n",
      "INFO:tensorflow:global_step/sec: 944.531\n",
      "INFO:tensorflow:loss = 7.880047, step = 30900 (0.106 sec)\n",
      "INFO:tensorflow:global_step/sec: 938.764\n",
      "INFO:tensorflow:loss = 28.077583, step = 31000 (0.106 sec)\n",
      "INFO:tensorflow:global_step/sec: 788.705\n",
      "INFO:tensorflow:loss = 8.11905, step = 31100 (0.127 sec)\n",
      "INFO:tensorflow:global_step/sec: 923.976\n",
      "INFO:tensorflow:loss = 22.131403, step = 31200 (0.108 sec)\n",
      "INFO:tensorflow:global_step/sec: 917.694\n",
      "INFO:tensorflow:loss = 5.2387967, step = 31300 (0.109 sec)\n",
      "INFO:tensorflow:global_step/sec: 912.498\n",
      "INFO:tensorflow:loss = 9.148388, step = 31400 (0.110 sec)\n",
      "INFO:tensorflow:global_step/sec: 947.123\n",
      "INFO:tensorflow:loss = 5.9275117, step = 31500 (0.106 sec)\n",
      "INFO:tensorflow:global_step/sec: 904.247\n",
      "INFO:tensorflow:loss = 5.347455, step = 31600 (0.111 sec)\n",
      "INFO:tensorflow:global_step/sec: 913.81\n",
      "INFO:tensorflow:loss = 8.590038, step = 31700 (0.110 sec)\n",
      "INFO:tensorflow:global_step/sec: 889.549\n",
      "INFO:tensorflow:loss = 12.664392, step = 31800 (0.112 sec)\n",
      "INFO:tensorflow:global_step/sec: 898.661\n",
      "INFO:tensorflow:loss = 12.61653, step = 31900 (0.111 sec)\n",
      "INFO:tensorflow:global_step/sec: 887.488\n",
      "INFO:tensorflow:loss = 12.316116, step = 32000 (0.113 sec)\n",
      "INFO:tensorflow:global_step/sec: 919.497\n",
      "INFO:tensorflow:loss = 21.972208, step = 32100 (0.109 sec)\n",
      "INFO:tensorflow:global_step/sec: 877.334\n",
      "INFO:tensorflow:loss = 6.2329054, step = 32200 (0.115 sec)\n",
      "INFO:tensorflow:global_step/sec: 826.689\n",
      "INFO:tensorflow:loss = 7.291532, step = 32300 (0.120 sec)\n",
      "INFO:tensorflow:global_step/sec: 865.592\n",
      "INFO:tensorflow:loss = 4.3659606, step = 32400 (0.116 sec)\n",
      "INFO:tensorflow:global_step/sec: 861.213\n",
      "INFO:tensorflow:loss = 8.083065, step = 32500 (0.116 sec)\n",
      "INFO:tensorflow:global_step/sec: 893.706\n",
      "INFO:tensorflow:loss = 9.564197, step = 32600 (0.112 sec)\n",
      "INFO:tensorflow:global_step/sec: 937.555\n",
      "INFO:tensorflow:loss = 8.334122, step = 32700 (0.107 sec)\n",
      "INFO:tensorflow:global_step/sec: 943.229\n",
      "INFO:tensorflow:loss = 19.952116, step = 32800 (0.106 sec)\n",
      "INFO:tensorflow:global_step/sec: 909.93\n",
      "INFO:tensorflow:loss = 5.030988, step = 32900 (0.110 sec)\n",
      "INFO:tensorflow:global_step/sec: 914.886\n",
      "INFO:tensorflow:loss = 5.345926, step = 33000 (0.109 sec)\n"
     ]
    },
    {
     "name": "stdout",
     "output_type": "stream",
     "text": [
      "INFO:tensorflow:global_step/sec: 926.865\n",
      "INFO:tensorflow:loss = 2.78003, step = 33100 (0.108 sec)\n",
      "INFO:tensorflow:global_step/sec: 839.801\n",
      "INFO:tensorflow:loss = 15.411918, step = 33200 (0.119 sec)\n",
      "INFO:tensorflow:global_step/sec: 925.258\n",
      "INFO:tensorflow:loss = 8.68203, step = 33300 (0.108 sec)\n",
      "INFO:tensorflow:global_step/sec: 876.706\n",
      "INFO:tensorflow:loss = 28.968403, step = 33400 (0.114 sec)\n",
      "INFO:tensorflow:global_step/sec: 867.291\n",
      "INFO:tensorflow:loss = 11.967387, step = 33500 (0.115 sec)\n",
      "INFO:tensorflow:global_step/sec: 927.906\n",
      "INFO:tensorflow:loss = 20.076809, step = 33600 (0.108 sec)\n",
      "INFO:tensorflow:global_step/sec: 909.689\n",
      "INFO:tensorflow:loss = 10.376986, step = 33700 (0.110 sec)\n",
      "INFO:tensorflow:global_step/sec: 917.448\n",
      "INFO:tensorflow:loss = 8.3309, step = 33800 (0.109 sec)\n",
      "INFO:tensorflow:global_step/sec: 897.189\n",
      "INFO:tensorflow:loss = 17.347626, step = 33900 (0.112 sec)\n",
      "INFO:tensorflow:global_step/sec: 891.426\n",
      "INFO:tensorflow:loss = 4.095836, step = 34000 (0.112 sec)\n",
      "INFO:tensorflow:global_step/sec: 878.471\n",
      "INFO:tensorflow:loss = 8.605372, step = 34100 (0.114 sec)\n",
      "INFO:tensorflow:global_step/sec: 928.722\n",
      "INFO:tensorflow:loss = 8.943879, step = 34200 (0.108 sec)\n",
      "INFO:tensorflow:global_step/sec: 891.385\n",
      "INFO:tensorflow:loss = 2.6218324, step = 34300 (0.112 sec)\n",
      "INFO:tensorflow:global_step/sec: 957.763\n",
      "INFO:tensorflow:loss = 5.5757036, step = 34400 (0.104 sec)\n",
      "INFO:tensorflow:global_step/sec: 931.956\n",
      "INFO:tensorflow:loss = 7.5732355, step = 34500 (0.107 sec)\n",
      "INFO:tensorflow:global_step/sec: 936.718\n",
      "INFO:tensorflow:loss = 6.3177423, step = 34600 (0.108 sec)\n",
      "INFO:tensorflow:global_step/sec: 942.661\n",
      "INFO:tensorflow:loss = 1.8614316, step = 34700 (0.105 sec)\n",
      "INFO:tensorflow:global_step/sec: 921.969\n",
      "INFO:tensorflow:loss = 14.369055, step = 34800 (0.108 sec)\n",
      "INFO:tensorflow:global_step/sec: 903.807\n",
      "INFO:tensorflow:loss = 21.759106, step = 34900 (0.111 sec)\n",
      "INFO:tensorflow:global_step/sec: 926.738\n",
      "INFO:tensorflow:loss = 17.01185, step = 35000 (0.108 sec)\n",
      "INFO:tensorflow:global_step/sec: 902.393\n",
      "INFO:tensorflow:loss = 16.159029, step = 35100 (0.111 sec)\n",
      "INFO:tensorflow:global_step/sec: 895.926\n",
      "INFO:tensorflow:loss = 12.173193, step = 35200 (0.112 sec)\n",
      "INFO:tensorflow:global_step/sec: 962.917\n",
      "INFO:tensorflow:loss = 14.095905, step = 35300 (0.104 sec)\n",
      "INFO:tensorflow:global_step/sec: 939.212\n",
      "INFO:tensorflow:loss = 3.6697507, step = 35400 (0.106 sec)\n",
      "INFO:tensorflow:global_step/sec: 931.126\n",
      "INFO:tensorflow:loss = 7.3569536, step = 35500 (0.108 sec)\n",
      "INFO:tensorflow:global_step/sec: 885.513\n",
      "INFO:tensorflow:loss = 22.983025, step = 35600 (0.113 sec)\n",
      "INFO:tensorflow:global_step/sec: 858.885\n",
      "INFO:tensorflow:loss = 10.94626, step = 35700 (0.116 sec)\n",
      "INFO:tensorflow:global_step/sec: 876.501\n",
      "INFO:tensorflow:loss = 14.972022, step = 35800 (0.114 sec)\n",
      "INFO:tensorflow:global_step/sec: 933.358\n",
      "INFO:tensorflow:loss = 16.657633, step = 35900 (0.107 sec)\n",
      "INFO:tensorflow:global_step/sec: 934.26\n",
      "INFO:tensorflow:loss = 35.388542, step = 36000 (0.107 sec)\n",
      "INFO:tensorflow:global_step/sec: 949.174\n",
      "INFO:tensorflow:loss = 15.402876, step = 36100 (0.105 sec)\n",
      "INFO:tensorflow:global_step/sec: 864.889\n",
      "INFO:tensorflow:loss = 10.623406, step = 36200 (0.116 sec)\n",
      "INFO:tensorflow:global_step/sec: 940.714\n",
      "INFO:tensorflow:loss = 2.6211615, step = 36300 (0.106 sec)\n",
      "INFO:tensorflow:global_step/sec: 888.443\n",
      "INFO:tensorflow:loss = 12.106071, step = 36400 (0.113 sec)\n",
      "INFO:tensorflow:global_step/sec: 874.292\n",
      "INFO:tensorflow:loss = 8.862687, step = 36500 (0.114 sec)\n",
      "INFO:tensorflow:global_step/sec: 904.586\n",
      "INFO:tensorflow:loss = 16.283337, step = 36600 (0.111 sec)\n",
      "INFO:tensorflow:global_step/sec: 933.721\n",
      "INFO:tensorflow:loss = 12.743066, step = 36700 (0.107 sec)\n",
      "INFO:tensorflow:global_step/sec: 886.001\n",
      "INFO:tensorflow:loss = 14.144086, step = 36800 (0.113 sec)\n",
      "INFO:tensorflow:global_step/sec: 971.491\n",
      "INFO:tensorflow:loss = 6.3350105, step = 36900 (0.103 sec)\n",
      "INFO:tensorflow:global_step/sec: 894.07\n",
      "INFO:tensorflow:loss = 9.937881, step = 37000 (0.112 sec)\n",
      "INFO:tensorflow:global_step/sec: 941.981\n",
      "INFO:tensorflow:loss = 15.371345, step = 37100 (0.106 sec)\n",
      "INFO:tensorflow:global_step/sec: 909.342\n",
      "INFO:tensorflow:loss = 12.481066, step = 37200 (0.110 sec)\n",
      "INFO:tensorflow:global_step/sec: 941.347\n",
      "INFO:tensorflow:loss = 14.597401, step = 37300 (0.106 sec)\n",
      "INFO:tensorflow:global_step/sec: 930.977\n",
      "INFO:tensorflow:loss = 13.715401, step = 37400 (0.107 sec)\n",
      "INFO:tensorflow:global_step/sec: 949.524\n",
      "INFO:tensorflow:loss = 11.549793, step = 37500 (0.105 sec)\n",
      "INFO:tensorflow:global_step/sec: 943.658\n",
      "INFO:tensorflow:loss = 2.000609, step = 37600 (0.107 sec)\n",
      "INFO:tensorflow:global_step/sec: 931.581\n",
      "INFO:tensorflow:loss = 24.436779, step = 37700 (0.107 sec)\n",
      "INFO:tensorflow:global_step/sec: 939.206\n",
      "INFO:tensorflow:loss = 2.9833834, step = 37800 (0.106 sec)\n",
      "INFO:tensorflow:global_step/sec: 913.358\n",
      "INFO:tensorflow:loss = 13.057968, step = 37900 (0.110 sec)\n",
      "INFO:tensorflow:global_step/sec: 896.721\n",
      "INFO:tensorflow:loss = 6.3258686, step = 38000 (0.111 sec)\n",
      "INFO:tensorflow:global_step/sec: 942.828\n",
      "INFO:tensorflow:loss = 15.386372, step = 38100 (0.106 sec)\n",
      "INFO:tensorflow:global_step/sec: 899.411\n",
      "INFO:tensorflow:loss = 17.998066, step = 38200 (0.111 sec)\n",
      "INFO:tensorflow:global_step/sec: 939.121\n",
      "INFO:tensorflow:loss = 8.594862, step = 38300 (0.106 sec)\n",
      "INFO:tensorflow:global_step/sec: 862.694\n",
      "INFO:tensorflow:loss = 9.783503, step = 38400 (0.116 sec)\n",
      "INFO:tensorflow:global_step/sec: 945.259\n",
      "INFO:tensorflow:loss = 11.22273, step = 38500 (0.106 sec)\n",
      "INFO:tensorflow:global_step/sec: 943.119\n",
      "INFO:tensorflow:loss = 21.668896, step = 38600 (0.106 sec)\n",
      "INFO:tensorflow:global_step/sec: 921.845\n",
      "INFO:tensorflow:loss = 10.916504, step = 38700 (0.108 sec)\n",
      "INFO:tensorflow:global_step/sec: 895.113\n",
      "INFO:tensorflow:loss = 30.441975, step = 38800 (0.112 sec)\n",
      "INFO:tensorflow:global_step/sec: 967.716\n",
      "INFO:tensorflow:loss = 29.7594, step = 38900 (0.103 sec)\n",
      "INFO:tensorflow:global_step/sec: 876.15\n",
      "INFO:tensorflow:loss = 9.1779995, step = 39000 (0.114 sec)\n",
      "INFO:tensorflow:global_step/sec: 920.49\n",
      "INFO:tensorflow:loss = 5.570439, step = 39100 (0.109 sec)\n",
      "INFO:tensorflow:global_step/sec: 932.105\n",
      "INFO:tensorflow:loss = 6.6084723, step = 39200 (0.107 sec)\n",
      "INFO:tensorflow:global_step/sec: 938.067\n",
      "INFO:tensorflow:loss = 32.74529, step = 39300 (0.107 sec)\n",
      "INFO:tensorflow:global_step/sec: 929.024\n",
      "INFO:tensorflow:loss = 27.537296, step = 39400 (0.108 sec)\n",
      "INFO:tensorflow:global_step/sec: 921.06\n",
      "INFO:tensorflow:loss = 13.992729, step = 39500 (0.109 sec)\n",
      "INFO:tensorflow:global_step/sec: 940.138\n",
      "INFO:tensorflow:loss = 11.818068, step = 39600 (0.106 sec)\n",
      "INFO:tensorflow:global_step/sec: 931.469\n",
      "INFO:tensorflow:loss = 11.109764, step = 39700 (0.107 sec)\n",
      "INFO:tensorflow:global_step/sec: 937.562\n",
      "INFO:tensorflow:loss = 14.434865, step = 39800 (0.107 sec)\n",
      "INFO:tensorflow:global_step/sec: 941.501\n",
      "INFO:tensorflow:loss = 16.84352, step = 39900 (0.106 sec)\n",
      "INFO:tensorflow:Saving checkpoints for 40000 into models/autompg-dnnregressor/model.ckpt.\n",
      "INFO:tensorflow:Loss for final step: 8.560003.\n"
     ]
    },
    {
     "data": {
      "text/plain": [
       "<tensorflow_estimator.python.estimator.canned.dnn.DNNRegressorV2 at 0x7f45541ea150>"
      ]
     },
     "execution_count": 91,
     "metadata": {},
     "output_type": "execute_result"
    }
   ],
   "source": [
    "regressor.train(\n",
    "    input_fn=lambda:train_input_fn(\n",
    "        df_train_norm, batch_size=BATCH_SIZE),\n",
    "    steps=total_steps)"
   ]
  },
  {
   "cell_type": "markdown",
   "id": "68df73d9",
   "metadata": {},
   "source": [
    "## reload last checkpoint"
   ]
  },
  {
   "cell_type": "code",
   "execution_count": 92,
   "id": "fefc017a",
   "metadata": {},
   "outputs": [
    {
     "name": "stdout",
     "output_type": "stream",
     "text": [
      "INFO:tensorflow:Using default config.\n",
      "INFO:tensorflow:Using config: {'_model_dir': 'models/autompg-dnnregressor/', '_tf_random_seed': None, '_save_summary_steps': 100, '_save_checkpoints_steps': None, '_save_checkpoints_secs': 600, '_session_config': allow_soft_placement: true\n",
      "graph_options {\n",
      "  rewrite_options {\n",
      "    meta_optimizer_iterations: ONE\n",
      "  }\n",
      "}\n",
      ", '_keep_checkpoint_max': 5, '_keep_checkpoint_every_n_hours': 10000, '_log_step_count_steps': 100, '_train_distribute': None, '_device_fn': None, '_protocol': None, '_eval_distribute': None, '_experimental_distribute': None, '_experimental_max_worker_delay_secs': None, '_session_creation_timeout_secs': 7200, '_service': None, '_cluster_spec': <tensorflow.python.training.server_lib.ClusterSpec object at 0x7f454c734490>, '_task_type': 'worker', '_task_id': 0, '_global_id_in_cluster': 0, '_master': '', '_evaluation_master': '', '_is_chief': True, '_num_ps_replicas': 0, '_num_worker_replicas': 1}\n"
     ]
    }
   ],
   "source": [
    "reloaded_regressor = tf.estimator.DNNRegressor(\n",
    "    feature_columns=all_feature_columns,\n",
    "    hidden_units=[32,10],\n",
    "    warm_start_from='models/autompg-dnnregressor/',\n",
    "    model_dir='models/autompg-dnnregressor/')"
   ]
  },
  {
   "cell_type": "markdown",
   "id": "9d7a8afe",
   "metadata": {},
   "source": [
    "## evaluate using reloaded estimator"
   ]
  },
  {
   "cell_type": "code",
   "execution_count": 99,
   "id": "5b88071c",
   "metadata": {},
   "outputs": [
    {
     "name": "stdout",
     "output_type": "stream",
     "text": [
      "INFO:tensorflow:Calling model_fn.\n",
      "WARNING:tensorflow:Layer dnn is casting an input tensor from dtype float64 to the layer's dtype of float32, which is new behavior in TensorFlow 2.  The layer has dtype float32 because it's dtype defaults to floatx.\n",
      "\n",
      "If you intended to run this layer in float32, you can safely ignore this warning. If in doubt, this warning is likely only an issue if you are porting a TensorFlow 1.X model to TensorFlow 2.\n",
      "\n",
      "To change all layers to have dtype float64 by default, call `tf.keras.backend.set_floatx('float64')`. To change just this layer, pass dtype='float64' to the layer constructor. If you are the author of this layer, you can disable autocasting by passing autocast=False to the base Layer constructor.\n",
      "\n",
      "INFO:tensorflow:Done calling model_fn.\n",
      "INFO:tensorflow:Starting evaluation at 2022-02-02T12:47:02Z\n",
      "INFO:tensorflow:Graph was finalized.\n",
      "INFO:tensorflow:Restoring parameters from models/autompg-dnnregressor/model.ckpt-40000\n",
      "INFO:tensorflow:Running local_init_op.\n",
      "INFO:tensorflow:Done running local_init_op.\n"
     ]
    },
    {
     "name": "stderr",
     "output_type": "stream",
     "text": [
      "2022-02-02 12:47:02.438439: I tensorflow/stream_executor/cuda/cuda_gpu_executor.cc:1006] successful NUMA node read from SysFS had negative value (-1), but there must be at least one NUMA node, so returning NUMA node zero\n",
      "2022-02-02 12:47:02.438735: I tensorflow/core/common_runtime/gpu/gpu_device.cc:1618] Found device 0 with properties: \n",
      "name: GeForce RTX 2080 Ti major: 7 minor: 5 memoryClockRate(GHz): 1.545\n",
      "pciBusID: 0000:01:00.0\n",
      "2022-02-02 12:47:02.438844: I tensorflow/stream_executor/cuda/cuda_gpu_executor.cc:1006] successful NUMA node read from SysFS had negative value (-1), but there must be at least one NUMA node, so returning NUMA node zero\n",
      "2022-02-02 12:47:02.439497: I tensorflow/core/common_runtime/gpu/gpu_device.cc:1618] Found device 1 with properties: \n",
      "name: GeForce RTX 2080 Ti major: 7 minor: 5 memoryClockRate(GHz): 1.545\n",
      "pciBusID: 0000:02:00.0\n",
      "2022-02-02 12:47:02.439532: I tensorflow/stream_executor/platform/default/dso_loader.cc:44] Successfully opened dynamic library libcudart.so.10.0\n",
      "2022-02-02 12:47:02.439542: I tensorflow/stream_executor/platform/default/dso_loader.cc:44] Successfully opened dynamic library libcublas.so.10.0\n",
      "2022-02-02 12:47:02.439551: I tensorflow/stream_executor/platform/default/dso_loader.cc:44] Successfully opened dynamic library libcufft.so.10.0\n",
      "2022-02-02 12:47:02.439559: I tensorflow/stream_executor/platform/default/dso_loader.cc:44] Successfully opened dynamic library libcurand.so.10.0\n",
      "2022-02-02 12:47:02.439567: I tensorflow/stream_executor/platform/default/dso_loader.cc:44] Successfully opened dynamic library libcusolver.so.10.0\n",
      "2022-02-02 12:47:02.439575: I tensorflow/stream_executor/platform/default/dso_loader.cc:44] Successfully opened dynamic library libcusparse.so.10.0\n",
      "2022-02-02 12:47:02.439584: I tensorflow/stream_executor/platform/default/dso_loader.cc:44] Successfully opened dynamic library libcudnn.so.7\n",
      "2022-02-02 12:47:02.439622: I tensorflow/stream_executor/cuda/cuda_gpu_executor.cc:1006] successful NUMA node read from SysFS had negative value (-1), but there must be at least one NUMA node, so returning NUMA node zero\n",
      "2022-02-02 12:47:02.439909: I tensorflow/stream_executor/cuda/cuda_gpu_executor.cc:1006] successful NUMA node read from SysFS had negative value (-1), but there must be at least one NUMA node, so returning NUMA node zero\n",
      "2022-02-02 12:47:02.440419: I tensorflow/stream_executor/cuda/cuda_gpu_executor.cc:1006] successful NUMA node read from SysFS had negative value (-1), but there must be at least one NUMA node, so returning NUMA node zero\n",
      "2022-02-02 12:47:02.440696: I tensorflow/stream_executor/cuda/cuda_gpu_executor.cc:1006] successful NUMA node read from SysFS had negative value (-1), but there must be at least one NUMA node, so returning NUMA node zero\n",
      "2022-02-02 12:47:02.441055: I tensorflow/core/common_runtime/gpu/gpu_device.cc:1746] Adding visible gpu devices: 0, 1\n",
      "2022-02-02 12:47:02.441078: I tensorflow/core/common_runtime/gpu/gpu_device.cc:1159] Device interconnect StreamExecutor with strength 1 edge matrix:\n",
      "2022-02-02 12:47:02.441083: I tensorflow/core/common_runtime/gpu/gpu_device.cc:1165]      0 1 \n",
      "2022-02-02 12:47:02.441086: I tensorflow/core/common_runtime/gpu/gpu_device.cc:1178] 0:   N N \n",
      "2022-02-02 12:47:02.441088: I tensorflow/core/common_runtime/gpu/gpu_device.cc:1178] 1:   N N \n",
      "2022-02-02 12:47:02.441156: I tensorflow/stream_executor/cuda/cuda_gpu_executor.cc:1006] successful NUMA node read from SysFS had negative value (-1), but there must be at least one NUMA node, so returning NUMA node zero\n",
      "2022-02-02 12:47:02.441405: I tensorflow/stream_executor/cuda/cuda_gpu_executor.cc:1006] successful NUMA node read from SysFS had negative value (-1), but there must be at least one NUMA node, so returning NUMA node zero\n",
      "2022-02-02 12:47:02.441790: I tensorflow/stream_executor/cuda/cuda_gpu_executor.cc:1006] successful NUMA node read from SysFS had negative value (-1), but there must be at least one NUMA node, so returning NUMA node zero\n",
      "2022-02-02 12:47:02.442018: I tensorflow/core/common_runtime/gpu/gpu_device.cc:1304] Created TensorFlow device (/job:localhost/replica:0/task:0/device:GPU:0 with 9658 MB memory) -> physical GPU (device: 0, name: GeForce RTX 2080 Ti, pci bus id: 0000:01:00.0, compute capability: 7.5)\n",
      "2022-02-02 12:47:02.442057: I tensorflow/stream_executor/cuda/cuda_gpu_executor.cc:1006] successful NUMA node read from SysFS had negative value (-1), but there must be at least one NUMA node, so returning NUMA node zero\n",
      "2022-02-02 12:47:02.442419: I tensorflow/core/common_runtime/gpu/gpu_device.cc:1304] Created TensorFlow device (/job:localhost/replica:0/task:0/device:GPU:1 with 10310 MB memory) -> physical GPU (device: 1, name: GeForce RTX 2080 Ti, pci bus id: 0000:02:00.0, compute capability: 7.5)\n"
     ]
    },
    {
     "name": "stdout",
     "output_type": "stream",
     "text": [
      "INFO:tensorflow:Finished evaluation at 2022-02-02-12:47:02\n",
      "INFO:tensorflow:Saving dict for global step 40000: average_loss = 14.239153, global_step = 40000, label/mean = 22.698734, loss = 14.108017, prediction/mean = 23.057013\n",
      "INFO:tensorflow:Saving 'checkpoint_path' summary for global step 40000: models/autompg-dnnregressor/model.ckpt-40000\n",
      "Average-Loss 14.2392\n"
     ]
    }
   ],
   "source": [
    "eval_results = reloaded_regressor.evaluate(\n",
    "    input_fn = lambda:eval_input_fn(df_test_norm, batch_size=8))\n",
    "\n",
    "print('Average-Loss {:.4f}'.format(\n",
    "        eval_results['average_loss']))"
   ]
  },
  {
   "cell_type": "markdown",
   "id": "9f981297",
   "metadata": {},
   "source": [
    "## prediction on new data points"
   ]
  },
  {
   "cell_type": "code",
   "execution_count": 101,
   "id": "f0c22529",
   "metadata": {},
   "outputs": [
    {
     "name": "stdout",
     "output_type": "stream",
     "text": [
      "INFO:tensorflow:Calling model_fn.\n",
      "WARNING:tensorflow:Layer dnn is casting an input tensor from dtype float64 to the layer's dtype of float32, which is new behavior in TensorFlow 2.  The layer has dtype float32 because it's dtype defaults to floatx.\n",
      "\n",
      "If you intended to run this layer in float32, you can safely ignore this warning. If in doubt, this warning is likely only an issue if you are porting a TensorFlow 1.X model to TensorFlow 2.\n",
      "\n",
      "To change all layers to have dtype float64 by default, call `tf.keras.backend.set_floatx('float64')`. To change just this layer, pass dtype='float64' to the layer constructor. If you are the author of this layer, you can disable autocasting by passing autocast=False to the base Layer constructor.\n",
      "\n",
      "INFO:tensorflow:Done calling model_fn.\n",
      "INFO:tensorflow:Graph was finalized.\n",
      "INFO:tensorflow:Restoring parameters from models/autompg-dnnregressor/model.ckpt-40000\n",
      "INFO:tensorflow:Running local_init_op.\n",
      "INFO:tensorflow:Done running local_init_op.\n",
      "{'predictions': array([16.867922], dtype=float32)}\n"
     ]
    },
    {
     "name": "stderr",
     "output_type": "stream",
     "text": [
      "2022-02-02 12:50:54.549092: I tensorflow/stream_executor/cuda/cuda_gpu_executor.cc:1006] successful NUMA node read from SysFS had negative value (-1), but there must be at least one NUMA node, so returning NUMA node zero\n",
      "2022-02-02 12:50:54.549942: I tensorflow/core/common_runtime/gpu/gpu_device.cc:1618] Found device 0 with properties: \n",
      "name: GeForce RTX 2080 Ti major: 7 minor: 5 memoryClockRate(GHz): 1.545\n",
      "pciBusID: 0000:01:00.0\n",
      "2022-02-02 12:50:54.550086: I tensorflow/stream_executor/cuda/cuda_gpu_executor.cc:1006] successful NUMA node read from SysFS had negative value (-1), but there must be at least one NUMA node, so returning NUMA node zero\n",
      "2022-02-02 12:50:54.551377: I tensorflow/core/common_runtime/gpu/gpu_device.cc:1618] Found device 1 with properties: \n",
      "name: GeForce RTX 2080 Ti major: 7 minor: 5 memoryClockRate(GHz): 1.545\n",
      "pciBusID: 0000:02:00.0\n",
      "2022-02-02 12:50:54.551435: I tensorflow/stream_executor/platform/default/dso_loader.cc:44] Successfully opened dynamic library libcudart.so.10.0\n",
      "2022-02-02 12:50:54.551471: I tensorflow/stream_executor/platform/default/dso_loader.cc:44] Successfully opened dynamic library libcublas.so.10.0\n",
      "2022-02-02 12:50:54.551481: I tensorflow/stream_executor/platform/default/dso_loader.cc:44] Successfully opened dynamic library libcufft.so.10.0\n",
      "2022-02-02 12:50:54.551489: I tensorflow/stream_executor/platform/default/dso_loader.cc:44] Successfully opened dynamic library libcurand.so.10.0\n",
      "2022-02-02 12:50:54.551511: I tensorflow/stream_executor/platform/default/dso_loader.cc:44] Successfully opened dynamic library libcusolver.so.10.0\n",
      "2022-02-02 12:50:54.551540: I tensorflow/stream_executor/platform/default/dso_loader.cc:44] Successfully opened dynamic library libcusparse.so.10.0\n",
      "2022-02-02 12:50:54.551554: I tensorflow/stream_executor/platform/default/dso_loader.cc:44] Successfully opened dynamic library libcudnn.so.7\n",
      "2022-02-02 12:50:54.551654: I tensorflow/stream_executor/cuda/cuda_gpu_executor.cc:1006] successful NUMA node read from SysFS had negative value (-1), but there must be at least one NUMA node, so returning NUMA node zero\n",
      "2022-02-02 12:50:54.552380: I tensorflow/stream_executor/cuda/cuda_gpu_executor.cc:1006] successful NUMA node read from SysFS had negative value (-1), but there must be at least one NUMA node, so returning NUMA node zero\n",
      "2022-02-02 12:50:54.552905: I tensorflow/stream_executor/cuda/cuda_gpu_executor.cc:1006] successful NUMA node read from SysFS had negative value (-1), but there must be at least one NUMA node, so returning NUMA node zero\n",
      "2022-02-02 12:50:54.553284: I tensorflow/stream_executor/cuda/cuda_gpu_executor.cc:1006] successful NUMA node read from SysFS had negative value (-1), but there must be at least one NUMA node, so returning NUMA node zero\n",
      "2022-02-02 12:50:54.553763: I tensorflow/core/common_runtime/gpu/gpu_device.cc:1746] Adding visible gpu devices: 0, 1\n",
      "2022-02-02 12:50:54.553790: I tensorflow/core/common_runtime/gpu/gpu_device.cc:1159] Device interconnect StreamExecutor with strength 1 edge matrix:\n",
      "2022-02-02 12:50:54.553797: I tensorflow/core/common_runtime/gpu/gpu_device.cc:1165]      0 1 \n",
      "2022-02-02 12:50:54.553803: I tensorflow/core/common_runtime/gpu/gpu_device.cc:1178] 0:   N N \n",
      "2022-02-02 12:50:54.553807: I tensorflow/core/common_runtime/gpu/gpu_device.cc:1178] 1:   N N \n",
      "2022-02-02 12:50:54.553970: I tensorflow/stream_executor/cuda/cuda_gpu_executor.cc:1006] successful NUMA node read from SysFS had negative value (-1), but there must be at least one NUMA node, so returning NUMA node zero\n",
      "2022-02-02 12:50:54.554383: I tensorflow/stream_executor/cuda/cuda_gpu_executor.cc:1006] successful NUMA node read from SysFS had negative value (-1), but there must be at least one NUMA node, so returning NUMA node zero\n",
      "2022-02-02 12:50:54.554904: I tensorflow/stream_executor/cuda/cuda_gpu_executor.cc:1006] successful NUMA node read from SysFS had negative value (-1), but there must be at least one NUMA node, so returning NUMA node zero\n",
      "2022-02-02 12:50:54.555268: I tensorflow/core/common_runtime/gpu/gpu_device.cc:1304] Created TensorFlow device (/job:localhost/replica:0/task:0/device:GPU:0 with 9658 MB memory) -> physical GPU (device: 0, name: GeForce RTX 2080 Ti, pci bus id: 0000:01:00.0, compute capability: 7.5)\n",
      "2022-02-02 12:50:54.555320: I tensorflow/stream_executor/cuda/cuda_gpu_executor.cc:1006] successful NUMA node read from SysFS had negative value (-1), but there must be at least one NUMA node, so returning NUMA node zero\n",
      "2022-02-02 12:50:54.555760: I tensorflow/core/common_runtime/gpu/gpu_device.cc:1304] Created TensorFlow device (/job:localhost/replica:0/task:0/device:GPU:1 with 10310 MB memory) -> physical GPU (device: 1, name: GeForce RTX 2080 Ti, pci bus id: 0000:02:00.0, compute capability: 7.5)\n"
     ]
    }
   ],
   "source": [
    "pred_res = regressor.predict(\n",
    "    input_fn=lambda: eval_input_fn(\n",
    "        df_test_norm, batch_size=8))\n",
    "\n",
    "print(next(iter(pred_res)))"
   ]
  },
  {
   "cell_type": "markdown",
   "id": "6e297e1c",
   "metadata": {},
   "source": [
    "## pre-made Estimator: Boosted tree regressor"
   ]
  },
  {
   "cell_type": "code",
   "execution_count": 102,
   "id": "21067408",
   "metadata": {},
   "outputs": [
    {
     "name": "stdout",
     "output_type": "stream",
     "text": [
      "INFO:tensorflow:Using default config.\n",
      "WARNING:tensorflow:Using temporary folder as model directory: /tmp/tmp_xxpjfzm\n",
      "INFO:tensorflow:Using config: {'_model_dir': '/tmp/tmp_xxpjfzm', '_tf_random_seed': None, '_save_summary_steps': 100, '_save_checkpoints_steps': None, '_save_checkpoints_secs': 600, '_session_config': allow_soft_placement: true\n",
      "graph_options {\n",
      "  rewrite_options {\n",
      "    meta_optimizer_iterations: ONE\n",
      "  }\n",
      "}\n",
      ", '_keep_checkpoint_max': 5, '_keep_checkpoint_every_n_hours': 10000, '_log_step_count_steps': 100, '_train_distribute': None, '_device_fn': None, '_protocol': None, '_eval_distribute': None, '_experimental_distribute': None, '_experimental_max_worker_delay_secs': None, '_session_creation_timeout_secs': 7200, '_service': None, '_cluster_spec': <tensorflow.python.training.server_lib.ClusterSpec object at 0x7f450462f110>, '_task_type': 'worker', '_task_id': 0, '_global_id_in_cluster': 0, '_master': '', '_evaluation_master': '', '_is_chief': True, '_num_ps_replicas': 0, '_num_worker_replicas': 1}\n"
     ]
    }
   ],
   "source": [
    "boosted_tree = tf.estimator.BoostedTreesRegressor(\n",
    "    feature_columns=all_feature_columns,\n",
    "    n_batches_per_layer=20,\n",
    "    n_trees=200)"
   ]
  },
  {
   "cell_type": "code",
   "execution_count": 104,
   "id": "265531b5",
   "metadata": {},
   "outputs": [],
   "source": [
    "#boosted_tree.train(\n",
    " #   input_fn=lambda:train_input_fn(\n",
    "  #      df_train_norm, batch_size=BATCH_SIZE))\n",
    "# need to downgrade numpy to 1.19.0"
   ]
  },
  {
   "cell_type": "markdown",
   "id": "f46a22a1",
   "metadata": {},
   "source": [
    "# Using Estimators for Classification"
   ]
  },
  {
   "cell_type": "code",
   "execution_count": 105,
   "id": "6794a2fa",
   "metadata": {},
   "outputs": [],
   "source": [
    "import tensorflow_datasets as tfds\n",
    "\n",
    "BUFFER_SIZE = 10000\n",
    "BATCH_SIZE = 64\n",
    "NUM_EPOCHS = 20\n",
    "steps_per_epoch = np.ceil(60000/BATCH_SIZE)"
   ]
  },
  {
   "cell_type": "code",
   "execution_count": 106,
   "id": "5b8f4dcc",
   "metadata": {},
   "outputs": [],
   "source": [
    "def preprocess(item):\n",
    "    image = item['image']\n",
    "    label = item['label']\n",
    "    image = tf.image.convert_image_dtype(\n",
    "        image, tf.float32)\n",
    "    image = tf.reshape(image, (-1,))\n",
    "    \n",
    "    return {'image-pixels':image}, label[..., tf.newaxis]"
   ]
  },
  {
   "cell_type": "code",
   "execution_count": 107,
   "id": "40549a52",
   "metadata": {},
   "outputs": [],
   "source": [
    "## Step 1: Define the input functions\n",
    "def train_input_fn():\n",
    "    datasets = tfds.load(name='mnist')\n",
    "    mnist_train = datasets['train']\n",
    "    \n",
    "    dataset = mnist_train.map(preprocess)\n",
    "    dataset = dataset.shuffle(BUFFER_SIZE)\n",
    "    dataset = dataset.batch(BATCH_SIZE)\n",
    "    return dataset.repeat()"
   ]
  },
  {
   "cell_type": "code",
   "execution_count": 108,
   "id": "e43e9c0a",
   "metadata": {},
   "outputs": [],
   "source": [
    "def eval_input_fn():\n",
    "    datasets = tfds.load(name='mnist')\n",
    "    mnist_test = datasets['test']\n",
    "    dataset = mnist_test.map(preprocess).batch(BATCH_SIZE)\n",
    "    return dataset"
   ]
  },
  {
   "cell_type": "code",
   "execution_count": 109,
   "id": "a51649f5",
   "metadata": {},
   "outputs": [],
   "source": [
    "## Step 2: feature columns\n",
    "image_feature_column = tf.feature_column.numeric_column(\n",
    "    key='image-pixels', shape=(28*28))"
   ]
  },
  {
   "cell_type": "code",
   "execution_count": 112,
   "id": "6866b397",
   "metadata": {},
   "outputs": [],
   "source": [
    "## Step 3: instantiate the estimator\n",
    "#dnn_classifier = tf.estimator.DNNClassifier(\n",
    "#    feature_columns=[image_feature_column],\n",
    "#    hidden_units=[32, 16],\n",
    "#    n_classes=10,\n",
    "#    model_dir='models/mnist-dnn/')\n",
    "\n",
    "## requires restarting the kernel for this to work"
   ]
  },
  {
   "cell_type": "code",
   "execution_count": 113,
   "id": "05a96e11",
   "metadata": {},
   "outputs": [],
   "source": [
    "## Step 4: train and evaluate\n",
    "# code on page 512 (won't work without previous step)"
   ]
  }
 ],
 "metadata": {
  "kernelspec": {
   "display_name": "Python 3 (ipykernel)",
   "language": "python",
   "name": "python3"
  },
  "language_info": {
   "codemirror_mode": {
    "name": "ipython",
    "version": 3
   },
   "file_extension": ".py",
   "mimetype": "text/x-python",
   "name": "python",
   "nbconvert_exporter": "python",
   "pygments_lexer": "ipython3",
   "version": "3.7.11"
  }
 },
 "nbformat": 4,
 "nbformat_minor": 5
}
