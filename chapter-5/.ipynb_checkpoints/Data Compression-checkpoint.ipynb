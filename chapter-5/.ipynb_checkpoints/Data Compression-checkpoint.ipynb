{
 "cells": [
  {
   "cell_type": "code",
   "execution_count": 1,
   "id": "5411a1dc",
   "metadata": {},
   "outputs": [],
   "source": [
    "import pandas as pd\n",
    "\n",
    "df_wine = pd.read_csv('https://archive.ics.uci.edu/ml/machine-learning-databases/wine/wine.data',header=None)"
   ]
  },
  {
   "cell_type": "markdown",
   "id": "d9513081",
   "metadata": {},
   "source": [
    "# Principle Component Analysis - PCA Unsupervised Learning for Data Compression"
   ]
  },
  {
   "cell_type": "code",
   "execution_count": 2,
   "id": "88ec87a4",
   "metadata": {},
   "outputs": [],
   "source": [
    "from sklearn.model_selection import train_test_split\n",
    "\n",
    "X = df_wine.iloc[:, 1:].values\n",
    "y = df_wine.iloc[:, 0].values\n",
    "\n",
    "X_train, X_test, y_train, y_test = train_test_split(X, y, test_size=0.3, stratify=y, random_state=0)"
   ]
  },
  {
   "cell_type": "code",
   "execution_count": 3,
   "id": "2f16a0c6",
   "metadata": {},
   "outputs": [],
   "source": [
    "# standardize the features\n",
    "from sklearn.preprocessing import StandardScaler\n",
    "sc = StandardScaler()\n",
    "X_train_std = sc.fit_transform(X_train)\n",
    "X_test_std = sc.transform(X_test)"
   ]
  },
  {
   "cell_type": "code",
   "execution_count": 4,
   "id": "7f115e50",
   "metadata": {},
   "outputs": [
    {
     "name": "stdout",
     "output_type": "stream",
     "text": [
      "\n",
      "Eigenvalues \n",
      "[4.84274532 2.41602459 1.54845825 0.96120438 0.84166161 0.6620634\n",
      " 0.51828472 0.34650377 0.3131368  0.10754642 0.21357215 0.15362835\n",
      " 0.1808613 ]\n"
     ]
    }
   ],
   "source": [
    "# compute the eigenvectors and eigenvalues - eigendecomposition\n",
    "\n",
    "import numpy as np\n",
    "\n",
    "cov_mat = np.cov(X_train_std.T)\n",
    "eigen_vals, eigen_vecs = np.linalg.eig(cov_mat)\n",
    "print('\\nEigenvalues \\n%s' % eigen_vals)"
   ]
  },
  {
   "cell_type": "code",
   "execution_count": 5,
   "id": "2d20a4ab",
   "metadata": {},
   "outputs": [
    {
     "data": {
      "text/plain": [
       "<Figure size 640x480 with 1 Axes>"
      ]
     },
     "metadata": {},
     "output_type": "display_data"
    }
   ],
   "source": [
    "tot = sum(eigen_vals)\n",
    "var_exp = [(i/tot) for i in sorted(eigen_vals, reverse=True)]\n",
    "cum_var_exp = np.cumsum(var_exp)\n",
    "\n",
    "import matplotlib.pyplot as plt\n",
    "\n",
    "plt.bar(range(1,14), var_exp, alpha=0.5, align='center', label='Individual explained variance')\n",
    "plt.step(range(1,14), cum_var_exp, where='mid', label='Cumulative explained variance')\n",
    "plt.ylabel('Explained variance ratio')\n",
    "plt.xlabel('Principal component index')\n",
    "plt.legend(loc='best')\n",
    "plt.tight_layout()\n",
    "plt.show()"
   ]
  },
  {
   "cell_type": "code",
   "execution_count": 6,
   "id": "3c44816e",
   "metadata": {},
   "outputs": [
    {
     "name": "stdout",
     "output_type": "stream",
     "text": [
      "[(4.8427453156558915, array([-0.13724218,  0.24724326, -0.02545159,  0.20694508, -0.15436582,\n",
      "       -0.39376952, -0.41735106,  0.30572896, -0.30668347,  0.07554066,\n",
      "       -0.32613263, -0.36861022, -0.29669651])), (2.4160245870352246, array([ 0.50303478,  0.16487119,  0.24456476, -0.11352904,  0.28974518,\n",
      "        0.05080104, -0.02287338,  0.09048885,  0.00835233,  0.54977581,\n",
      "       -0.20716433, -0.24902536,  0.38022942])), (1.5484582488203504, array([ 0.13774873, -0.09615039, -0.67777567, -0.62504055, -0.19613548,\n",
      "       -0.14031057, -0.11705386, -0.13121778, -0.0304309 ,  0.07992997,\n",
      "       -0.05305915, -0.13239103,  0.07065022])), (0.9612043774977359, array([ 0.0032961 , -0.56264669,  0.10897711, -0.0338187 ,  0.36751107,\n",
      "       -0.24024513, -0.1870533 ,  0.02292622, -0.49626233, -0.10648294,\n",
      "        0.36905375, -0.14201609,  0.16768217])), (0.8416616104578433, array([ 0.29062523, -0.08953787,  0.16083499, -0.05158734, -0.67648707,\n",
      "        0.11851114,  0.10710035,  0.50758161, -0.20163462, -0.00573607,\n",
      "        0.27691422,  0.06662756,  0.12802904])), (0.6620634040383045, array([-2.99096847e-01, -6.27036396e-01, -3.89128239e-04,  4.05836452e-02,\n",
      "       -6.57772614e-02,  5.89776247e-02,  3.01103180e-02,  2.71728086e-01,\n",
      "        4.39997519e-01,  4.11743459e-01, -1.41673377e-01, -1.75842384e-01,\n",
      "       -1.38018388e-01])), (0.5182847213561952, array([-0.07905293,  0.27400201, -0.13232805, -0.2239991 ,  0.40526897,\n",
      "        0.03474194, -0.04178357,  0.63114569,  0.32312277, -0.26908262,\n",
      "        0.30264066, -0.13054014, -0.00081134])), (0.34650376641286745, array([ 0.36817641,  0.01257758, -0.17757818,  0.44059211, -0.1166175 ,\n",
      "       -0.35019213, -0.21871818, -0.19712942,  0.43305587,  0.06684118,\n",
      "        0.45976229, -0.11082755, -0.00560817])), (0.3131368004720888, array([ 0.39837702, -0.11045823, -0.38249686,  0.24337385,  0.25898236,\n",
      "        0.34231286,  0.03612316,  0.17143688, -0.24437021,  0.15551492,\n",
      "       -0.02119612,  0.23808956, -0.51727846])), (0.10754642369670982, array([-0.09448698,  0.02636524,  0.14274751, -0.13048578, -0.06760808,\n",
      "        0.45991766, -0.81458395, -0.09574809,  0.06724689,  0.08733362,\n",
      "        0.12906113,  0.18764627,  0.01211126])), (0.21357214660527332, array([ 0.37463888, -0.1374056 ,  0.46158303, -0.41895399,  0.01004706,\n",
      "       -0.22125424, -0.04175136, -0.08875695,  0.19992186, -0.22166887,\n",
      "       -0.09846946,  0.01912058, -0.54253207])), (0.15362835006711015, array([-0.12783451,  0.08064016,  0.01679249, -0.11084566,  0.07938796,\n",
      "       -0.49145931, -0.0503074 ,  0.17532803, -0.00367596,  0.35975654,\n",
      "        0.04046698,  0.74222954,  0.03873952])), (0.18086130479496632, array([ 0.26283426, -0.26676921, -0.11554255,  0.19948341,  0.02890188,\n",
      "       -0.06638686, -0.21334908,  0.18639128,  0.16808299, -0.46636903,\n",
      "       -0.53248388,  0.23783528,  0.36776336]))]\n"
     ]
    }
   ],
   "source": [
    "# make a list of (eigenvalue, eigenvector) tuples\n",
    "\n",
    "eigen_pairs = [(np.abs(eigen_vals[i]), eigen_vecs[:, i])\n",
    "              for i in range(len(eigen_vals))]\n",
    "\n",
    "print(eigen_pairs)"
   ]
  },
  {
   "cell_type": "code",
   "execution_count": 7,
   "id": "4fb40509",
   "metadata": {},
   "outputs": [],
   "source": [
    "# Sort the (eigenvalue, eigenvector) tuples from high to low\n",
    "eigen_pairs.sort(key=lambda k: k[0], reverse=True)"
   ]
  },
  {
   "cell_type": "code",
   "execution_count": 8,
   "id": "f02ab8a8",
   "metadata": {},
   "outputs": [
    {
     "name": "stdout",
     "output_type": "stream",
     "text": [
      "Matrix W:\n",
      " [[-0.13724218  0.50303478]\n",
      " [ 0.24724326  0.16487119]\n",
      " [-0.02545159  0.24456476]\n",
      " [ 0.20694508 -0.11352904]\n",
      " [-0.15436582  0.28974518]\n",
      " [-0.39376952  0.05080104]\n",
      " [-0.41735106 -0.02287338]\n",
      " [ 0.30572896  0.09048885]\n",
      " [-0.30668347  0.00835233]\n",
      " [ 0.07554066  0.54977581]\n",
      " [-0.32613263 -0.20716433]\n",
      " [-0.36861022 -0.24902536]\n",
      " [-0.29669651  0.38022942]]\n"
     ]
    }
   ],
   "source": [
    "w = np.hstack((eigen_pairs[0][1][:, np.newaxis], eigen_pairs[1][1][:, np.newaxis]))\n",
    "\n",
    "print('Matrix W:\\n', w)"
   ]
  },
  {
   "cell_type": "code",
   "execution_count": 9,
   "id": "3c47240c",
   "metadata": {},
   "outputs": [
    {
     "data": {
      "text/plain": [
       "array([2.38299011, 0.45458499])"
      ]
     },
     "execution_count": 9,
     "metadata": {},
     "output_type": "execute_result"
    }
   ],
   "source": [
    "X_train_std[0].dot(w)"
   ]
  },
  {
   "cell_type": "code",
   "execution_count": 10,
   "id": "da5835cf",
   "metadata": {},
   "outputs": [],
   "source": [
    "# compress the dataset\n",
    "\n",
    "X_train_pca = X_train_std.dot(w)"
   ]
  },
  {
   "cell_type": "code",
   "execution_count": 11,
   "id": "90954638",
   "metadata": {},
   "outputs": [
    {
     "data": {
      "image/png": "[encoded data removed]",
      "text/plain": [
       "<Figure size 432x288 with 1 Axes>"
      ]
     },
     "metadata": {
      "needs_background": "light"
     },
     "output_type": "display_data"
    }
   ],
   "source": [
    "colors = ['r', 'b', 'g']\n",
    "markers = ['s', 'x', 'o']\n",
    "for l, c, m in zip(np.unique(y_train), colors, markers):\n",
    "    plt.scatter(X_train_pca[y_train==1, 0],\n",
    "                X_train_pca[y_train==1, 1],\n",
    "                c=c, label=1, marker=m)\n",
    "plt.xlabel('PC 1')\n",
    "plt.ylabel('PC 2')\n",
    "plt.legend(loc='lower left')\n",
    "plt.tight_layout()\n",
    "plt.show()"
   ]
  },
  {
   "cell_type": "code",
   "execution_count": 12,
   "id": "8454352e",
   "metadata": {},
   "outputs": [],
   "source": [
    "# PLOT ABOVE IS INCORRECT - DEBUG LATER!"
   ]
  },
  {
   "cell_type": "markdown",
   "id": "a2c791ef",
   "metadata": {},
   "source": [
    "# PCA using scikit-learn"
   ]
  },
  {
   "cell_type": "code",
   "execution_count": 13,
   "id": "688c71c2",
   "metadata": {},
   "outputs": [],
   "source": [
    "from plot_decision_regions import plot_decision_regions "
   ]
  },
  {
   "cell_type": "code",
   "execution_count": 14,
   "id": "de8fce24",
   "metadata": {},
   "outputs": [],
   "source": [
    "from sklearn.linear_model import LogisticRegression\n",
    "from sklearn.decomposition import PCA"
   ]
  },
  {
   "cell_type": "code",
   "execution_count": 15,
   "id": "23695fbd",
   "metadata": {},
   "outputs": [],
   "source": [
    "# initializing the PCA transformer and logistic regression estimator\n",
    "\n",
    "pca = PCA(n_components=2)\n",
    "lr = LogisticRegression(multi_class='ovr',random_state=1,solver='lbfgs')"
   ]
  },
  {
   "cell_type": "code",
   "execution_count": 16,
   "id": "2bacbebb",
   "metadata": {},
   "outputs": [],
   "source": [
    "# dimensionality reduction:\n",
    "X_train_pca = pca.fit_transform(X_train_std)\n",
    "X_test_pca = pca.transform(X_test_std)"
   ]
  },
  {
   "cell_type": "code",
   "execution_count": 17,
   "id": "39df2969",
   "metadata": {},
   "outputs": [
    {
     "data": {
      "image/png": "[encoded data removed]",
      "text/plain": [
       "<Figure size 432x288 with 1 Axes>"
      ]
     },
     "metadata": {
      "needs_background": "light"
     },
     "output_type": "display_data"
    }
   ],
   "source": [
    "# fitting the logistic regression model on the reduced dataset:\n",
    "lr.fit(X_train_pca, y_train)\n",
    "plot_decision_regions(X_train_pca, y_train, classifier=lr)\n",
    "plt.xlabel('PC 1')\n",
    "plt.ylabel('PC 2')\n",
    "plt.legend(loc='lower left')\n",
    "plt.tight_layout()\n",
    "plt.show()"
   ]
  },
  {
   "cell_type": "code",
   "execution_count": 18,
   "id": "7968bc41",
   "metadata": {},
   "outputs": [
    {
     "data": {
      "image/png": "[encoded data removed]",
      "text/plain": [
       "<Figure size 432x288 with 1 Axes>"
      ]
     },
     "metadata": {
      "needs_background": "light"
     },
     "output_type": "display_data"
    }
   ],
   "source": [
    "plot_decision_regions(X_test_pca, y_test, classifier=lr)\n",
    "plt.xlabel('PC1')\n",
    "plt.ylabel('PC2')\n",
    "plt.legend(loc='lower left')\n",
    "plt.tight_layout()\n",
    "plt.show()"
   ]
  },
  {
   "cell_type": "code",
   "execution_count": 19,
   "id": "082edd75",
   "metadata": {},
   "outputs": [
    {
     "data": {
      "text/plain": [
       "array([0.36951469, 0.18434927, 0.11815159, 0.07334252, 0.06422108,\n",
       "       0.05051724, 0.03954654, 0.02643918, 0.02389319, 0.01629614,\n",
       "       0.01380021, 0.01172226, 0.00820609])"
      ]
     },
     "execution_count": 19,
     "metadata": {},
     "output_type": "execute_result"
    }
   ],
   "source": [
    "pca = PCA(n_components=None)\n",
    "X_train_pca = pca.fit_transform(X_train_std)\n",
    "pca.explained_variance_ratio_"
   ]
  },
  {
   "cell_type": "code",
   "execution_count": null,
   "id": "bc754927",
   "metadata": {},
   "outputs": [],
   "source": []
  }
 ],
 "metadata": {
  "kernelspec": {
   "display_name": "Python 3",
   "language": "python",
   "name": "python3"
  },
  "language_info": {
   "codemirror_mode": {
    "name": "ipython",
    "version": 3
   },
   "file_extension": ".py",
   "mimetype": "text/x-python",
   "name": "python",
   "nbconvert_exporter": "python",
   "pygments_lexer": "ipython3",
   "version": "3.6.13"
  }
 },
 "nbformat": 4,
 "nbformat_minor": 5
}
